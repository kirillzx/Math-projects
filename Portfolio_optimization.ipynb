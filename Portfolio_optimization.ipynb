{
 "cells": [
  {
   "cell_type": "code",
   "execution_count": 2,
   "metadata": {},
   "outputs": [],
   "source": [
    "import numpy as np\n",
    "import pandas as pd\n",
    "import matplotlib.pyplot as plt\n",
    "import scipy.integrate as integrate\n",
    "%matplotlib inline"
   ]
  },
  {
   "cell_type": "code",
   "execution_count": 3,
   "metadata": {},
   "outputs": [],
   "source": [
    "class Portfolio:\n",
    "    def __init__(self, num_stocks):\n",
    "        self.num_stocks = num_stocks\n",
    "        self.stocks = []\n",
    "        self.returns = np.random.randn(self.num_stocks)\n",
    "        self.stocks = np.exp(np.random.randn(self.num_stocks)) #create n stocks witch normal distributed\n",
    "        self.stocks = self.stocks/self.stocks.sum() #normalize\n",
    "        self.cost = np.sum(self.returns) #the cost of portfolio\n",
    "    \n",
    "#     def specificWeight(self):\n",
    "        \n",
    "        \n",
    "    def returnCheck(self):\n",
    "        self.portfolioReturn = np.dot(self.returns, self.stocks)\n",
    "        return self.portfolioReturn\n",
    "    \n",
    "    def portfolioRisk(self, covMatrix):\n",
    "        return np.sqrt(np.matmul(np.matmul(self.stocks, covMatrix.values), self.stocks))\n",
    "    \n",
    "    def portfolioRisk2(self, var):\n",
    "        return np.dot(self.stocks, np.sqrt(var))"
   ]
  },
  {
   "cell_type": "code",
   "execution_count": 5,
   "metadata": {},
   "outputs": [
    {
     "data": {
      "image/png": "[encoded data removed]",
      "text/plain": [
       "<Figure size 432x288 with 1 Axes>"
      ]
     },
     "metadata": {
      "needs_background": "light"
     },
     "output_type": "display_data"
    },
    {
     "name": "stdout",
     "output_type": "stream",
     "text": [
      "Expectation of portfolio return:  19.999999999999996\n"
     ]
    }
   ],
   "source": [
    "def normalPDF(x, exp, var):\n",
    "    return (1/(np.sqrt(2*np.pi)*np.sqrt(var))) * np.exp((-(x-exp)**2) / (2*var))\n",
    "    \n",
    "def expectation(func, a, b):\n",
    "    return integrate.quad(func, a, b)\n",
    "\n",
    "#example\n",
    "r = normalPDF(4, 2, 1)\n",
    "listX = np.linspace(0, 50, 200)\n",
    "listY = list(map(lambda x: normalPDF(x, 20, 1), listX))\n",
    "plt.scatter(listX, listY)\n",
    "plt.show()\n",
    "return_Expectation = expectation(lambda x: x*normalPDF(x, 20, 1), 0, 50)[0]\n",
    "print('Expectation of portfolio return: ', return_Expectation)"
   ]
  },
  {
   "cell_type": "markdown",
   "metadata": {},
   "source": [
    "### Initialize portfolio"
   ]
  },
  {
   "cell_type": "code",
   "execution_count": 103,
   "metadata": {},
   "outputs": [
    {
     "name": "stdout",
     "output_type": "stream",
     "text": [
      "Specific weights: [0.07373629 0.32586295 0.13644938 0.12306063 0.34089074] | the control sum: 1.0\n",
      "\n",
      "Returns of each stocks:  [0.82870926 0.74527414 0.42374691 0.44465276 0.89792449]\n"
     ]
    }
   ],
   "source": [
    "num_stocks = 5\n",
    "portfolio1 = Portfolio(num_stocks)\n",
    "stocks = portfolio1.stocks\n",
    "\n",
    "returns1 = np.array([])\n",
    "exp1 = np.random.uniform(0, 1, num_stocks) #avereage returns\n",
    "var1 = np.random.uniform(0, 1, num_stocks) #variance of returns\n",
    "for item in range(num_stocks):\n",
    "    returns1 = np.append(returns1, normalPDF(exp1[item]-0.001, exp1[item], var1[item]))\n",
    "    \n",
    "print(f'Specific weights: {stocks}', f'| the control sum: {np.sum(stocks)}')\n",
    "portfolio1.returns = returns1\n",
    "print('\\nReturns of each stocks: ', portfolio1.returns)"
   ]
  },
  {
   "cell_type": "markdown",
   "metadata": {},
   "source": [
    "### Portfolio return"
   ]
  },
  {
   "cell_type": "code",
   "execution_count": 104,
   "metadata": {},
   "outputs": [
    {
     "name": "stdout",
     "output_type": "stream",
     "text": [
      "The return of portfolio: 72.25965777161348 %\n"
     ]
    }
   ],
   "source": [
    "#Portfolio return\n",
    "rp = portfolio1.returnCheck()\n",
    "print(f'The return of portfolio: {rp*100} %')"
   ]
  },
  {
   "cell_type": "markdown",
   "metadata": {},
   "source": [
    "### Portfolio risk"
   ]
  },
  {
   "cell_type": "code",
   "execution_count": 85,
   "metadata": {},
   "outputs": [
    {
     "name": "stdout",
     "output_type": "stream",
     "text": [
      "Risk: 68.73816362666211 %\n"
     ]
    }
   ],
   "source": [
    "print(f'Risk: {portfolio1.portfolioRisk2(var1)*100} %')"
   ]
  },
  {
   "cell_type": "markdown",
   "metadata": {},
   "source": [
    "### Several portfolios"
   ]
  },
  {
   "cell_type": "code",
   "execution_count": 9,
   "metadata": {},
   "outputs": [
    {
     "data": {
      "image/png": "[encoded data removed]",
      "text/plain": [
       "<Figure size 1152x576 with 1 Axes>"
      ]
     },
     "metadata": {
      "needs_background": "light"
     },
     "output_type": "display_data"
    }
   ],
   "source": [
    "numPort = 200\n",
    "num_stocks = 10\n",
    "\n",
    "risks = np.array([])\n",
    "returns = np.array([])\n",
    "\n",
    "\n",
    "\n",
    "for _ in range(numPort):\n",
    "    portfolio = Portfolio(num_stocks)\n",
    "    \n",
    "    returns2 = np.array([])\n",
    "    exp2 = np.random.uniform(0, 1, num_stocks) #avereage returns\n",
    "    var2 = np.random.uniform(0, 1, num_stocks) #variance of returns\n",
    "    \n",
    "    for item in range(num_stocks):\n",
    "        returns2 = np.append(returns2, normalPDF(exp2[item], exp2[item], var2[item]))\n",
    "    \n",
    "    portfolio.returns = returns2\n",
    "    \n",
    "    risks = np.append(risks, portfolio.portfolioRisk2(var2))\n",
    "    returns = np.append(returns, portfolio.returnCheck())\n",
    "    \n",
    "plt.figure(figsize=(16,8))\n",
    "plt.scatter(risks*100, returns*100)\n",
    "plt.xlabel('Risk, %')\n",
    "plt.ylabel('Return, %')\n",
    "plt.title('Portfolios')\n",
    "\n",
    "minRisk = np.argmin(risks)\n",
    "plt.scatter(risks[minRisk]*100, returns[minRisk]*100, c='red', marker='o')\n",
    "\n",
    "# meanPortfolio = Portfolio(num_stocks)\n",
    "# meanPortfolio.returns = np.ones(num_stocks)/num_stocks\n",
    "# plt.scatter(100*meanPortfolio.portfolioRisk2(((num_stocks**2)/12)*np.ones(num_stocks)), meanPortfolio.returnCheck()*100, marker='*', c='black')\n",
    "\n",
    "plt.show()"
   ]
  },
  {
   "cell_type": "code",
   "execution_count": null,
   "metadata": {},
   "outputs": [],
   "source": []
  }
 ],
 "metadata": {
  "kernelspec": {
   "display_name": "Python 3",
   "language": "python",
   "name": "python3"
  },
  "language_info": {
   "codemirror_mode": {
    "name": "ipython",
    "version": 3
   },
   "file_extension": ".py",
   "mimetype": "text/x-python",
   "name": "python",
   "nbconvert_exporter": "python",
   "pygments_lexer": "ipython3",
   "version": "3.6.4"
  }
 },
 "nbformat": 4,
 "nbformat_minor": 2
}

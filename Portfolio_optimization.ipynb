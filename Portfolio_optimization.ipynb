{
 "cells": [
  {
   "cell_type": "code",
   "execution_count": 53,
   "metadata": {},
   "outputs": [],
   "source": [
    "import numpy as np\n",
    "import pandas as pd\n",
    "import matplotlib.pyplot as plt\n",
    "import scipy.integrate as integrate\n",
    "%matplotlib inline"
   ]
  },
  {
   "cell_type": "code",
   "execution_count": 161,
   "metadata": {},
   "outputs": [],
   "source": [
    "class Portfolio:\n",
    "    def __init__(self, num_stocks):\n",
    "        self.num_stocks = num_stocks\n",
    "        self.stocks = []\n",
    "        self.returns = np.random.randn(self.num_stocks)\n",
    "        self.stocks = np.exp(np.random.randn(self.num_stocks)) #create n stocks witch normal distributed\n",
    "        self.stocks = self.stocks/self.stocks.sum() #normalize\n",
    "        self.cost = np.sum(self.returns) #the cost of portfolio\n",
    "    \n",
    "#     def specificWeight(self):\n",
    "        \n",
    "        \n",
    "    def returnCheck(self):\n",
    "        self.portfolioReturn = np.dot(self.returns, self.stocks)\n",
    "        return self.portfolioReturn\n",
    "    \n",
    "    def portfolioRisk(self, covMatrix):\n",
    "        return np.sqrt(np.matmul(np.matmul(self.stocks, covMatrix.values), self.stocks))\n",
    "    \n",
    "    def portfolioRisk2(self, var):\n",
    "        return np.dot(self.stocks, np.sqrt(var))"
   ]
  },
  {
   "cell_type": "code",
   "execution_count": 162,
   "metadata": {},
   "outputs": [
    {
     "data": {
      "image/png": "[encoded data removed]",
      "text/plain": [
       "<Figure size 432x288 with 1 Axes>"
      ]
     },
     "metadata": {
      "needs_background": "light"
     },
     "output_type": "display_data"
    },
    {
     "name": "stdout",
     "output_type": "stream",
     "text": [
      "Expectation of portfolio return:  19.999999999999996\n"
     ]
    }
   ],
   "source": [
    "def normalPDF(x, exp, var):\n",
    "    return (1/(np.sqrt(2*np.pi)*np.sqrt(var))) * np.exp((-(x-exp)**2) / (2*var))\n",
    "    \n",
    "def expectation(func, a, b):\n",
    "    return quad(func, a, b)\n",
    "\n",
    "r = normalPDF(4, 2, 1)\n",
    "listX = np.linspace(0, 50, 200)\n",
    "listY = list(map(lambda x: normalPDF(x, 20, 1), listX))\n",
    "plt.scatter(listX, listY)\n",
    "plt.show()\n",
    "return_Expectation = expectation(lambda x: x*normalPDF(x, 20, 1), 0, 50)[0]\n",
    "print('Expectation of portfolio return: ', return_Expectation)"
   ]
  },
  {
   "cell_type": "markdown",
   "metadata": {},
   "source": [
    "### Initialize portfolio"
   ]
  },
  {
   "cell_type": "code",
   "execution_count": 163,
   "metadata": {},
   "outputs": [
    {
     "name": "stdout",
     "output_type": "stream",
     "text": [
      "Specific weights: [0.12428357 0.20985986 0.18177775 0.35800201 0.12607681] | the control sum: 1.0\n",
      "\n",
      "Returns of each stocks:  [0.19173273 0.13231771 0.81277245 0.34532365 0.16133301]\n"
     ]
    }
   ],
   "source": [
    "num_stocks = 5\n",
    "portfolio1 = Portfolio(num_stocks)\n",
    "stocks = portfolio1.stocks\n",
    "\n",
    "returns1 = np.array([])\n",
    "exp1 = np.random.randint(1, 50, num_stocks) #avereage returns\n",
    "var1 = np.random.uniform(0, 10, num_stocks) #variance of returns\n",
    "for item in range(num_stocks):\n",
    "    returns1 = np.append(returns1, normalPDF(exp1[item], exp1[item], var1[item]))\n",
    "    \n",
    "print(f'Specific weights: {stocks}', f'| the control sum: {np.sum(stocks)}')\n",
    "portfolio1.returns = returns1\n",
    "print('\\nReturns of each stocks: ', portfolio1.returns)"
   ]
  },
  {
   "cell_type": "markdown",
   "metadata": {},
   "source": [
    "### Portfolio return"
   ]
  },
  {
   "cell_type": "code",
   "execution_count": 164,
   "metadata": {},
   "outputs": [
    {
     "name": "stdout",
     "output_type": "stream",
     "text": [
      "0.3433082629305077\n"
     ]
    }
   ],
   "source": [
    "#Portfolio return\n",
    "print(portfolio1.returnCheck())"
   ]
  },
  {
   "cell_type": "markdown",
   "metadata": {},
   "source": [
    "### Portfolio risk"
   ]
  },
  {
   "cell_type": "code",
   "execution_count": 165,
   "metadata": {},
   "outputs": [
    {
     "data": {
      "text/html": [
       "<div>\n",
       "<style scoped>\n",
       "    .dataframe tbody tr th:only-of-type {\n",
       "        vertical-align: middle;\n",
       "    }\n",
       "\n",
       "    .dataframe tbody tr th {\n",
       "        vertical-align: top;\n",
       "    }\n",
       "\n",
       "    .dataframe thead th {\n",
       "        text-align: right;\n",
       "    }\n",
       "</style>\n",
       "<table border=\"1\" class=\"dataframe\">\n",
       "  <thead>\n",
       "    <tr style=\"text-align: right;\">\n",
       "      <th></th>\n",
       "      <th>0</th>\n",
       "      <th>1</th>\n",
       "      <th>2</th>\n",
       "      <th>3</th>\n",
       "      <th>4</th>\n",
       "    </tr>\n",
       "  </thead>\n",
       "  <tbody>\n",
       "    <tr>\n",
       "      <th>0</th>\n",
       "      <td>0.000230</td>\n",
       "      <td>-0.002775</td>\n",
       "      <td>0.001243</td>\n",
       "      <td>0.003273</td>\n",
       "      <td>-0.001971</td>\n",
       "    </tr>\n",
       "    <tr>\n",
       "      <th>1</th>\n",
       "      <td>-0.002775</td>\n",
       "      <td>0.033548</td>\n",
       "      <td>-0.015028</td>\n",
       "      <td>-0.039571</td>\n",
       "      <td>0.023826</td>\n",
       "    </tr>\n",
       "    <tr>\n",
       "      <th>2</th>\n",
       "      <td>0.001243</td>\n",
       "      <td>-0.015028</td>\n",
       "      <td>0.006732</td>\n",
       "      <td>0.017726</td>\n",
       "      <td>-0.010673</td>\n",
       "    </tr>\n",
       "    <tr>\n",
       "      <th>3</th>\n",
       "      <td>0.003273</td>\n",
       "      <td>-0.039571</td>\n",
       "      <td>0.017726</td>\n",
       "      <td>0.046674</td>\n",
       "      <td>-0.028103</td>\n",
       "    </tr>\n",
       "    <tr>\n",
       "      <th>4</th>\n",
       "      <td>-0.001971</td>\n",
       "      <td>0.023826</td>\n",
       "      <td>-0.010673</td>\n",
       "      <td>-0.028103</td>\n",
       "      <td>0.016921</td>\n",
       "    </tr>\n",
       "  </tbody>\n",
       "</table>\n",
       "</div>"
      ],
      "text/plain": [
       "          0         1         2         3         4\n",
       "0  0.000230 -0.002775  0.001243  0.003273 -0.001971\n",
       "1 -0.002775  0.033548 -0.015028 -0.039571  0.023826\n",
       "2  0.001243 -0.015028  0.006732  0.017726 -0.010673\n",
       "3  0.003273 -0.039571  0.017726  0.046674 -0.028103\n",
       "4 -0.001971  0.023826 -0.010673 -0.028103  0.016921"
      ]
     },
     "execution_count": 165,
     "metadata": {},
     "output_type": "execute_result"
    }
   ],
   "source": [
    "close = np.exp(np.random.randn(num_stocks)) #create n stocks witch normal distributed\n",
    "close = close/close.sum()\n",
    "df = pd.DataFrame([stocks, close])\n",
    "covMatrix = df.cov()\n",
    "covMatrix"
   ]
  },
  {
   "cell_type": "code",
   "execution_count": 166,
   "metadata": {},
   "outputs": [
    {
     "data": {
      "text/plain": [
       "0.03930296930392577"
      ]
     },
     "execution_count": 166,
     "metadata": {},
     "output_type": "execute_result"
    }
   ],
   "source": [
    "portfolio1.portfolioRisk(covMatrix)"
   ]
  },
  {
   "cell_type": "code",
   "execution_count": 168,
   "metadata": {},
   "outputs": [
    {
     "data": {
      "text/plain": [
       "1.7059082540716417"
      ]
     },
     "execution_count": 168,
     "metadata": {},
     "output_type": "execute_result"
    }
   ],
   "source": [
    "portfolio1.portfolioRisk2(var1)"
   ]
  },
  {
   "cell_type": "markdown",
   "metadata": {},
   "source": [
    "### Several portfolios"
   ]
  },
  {
   "cell_type": "code",
   "execution_count": 119,
   "metadata": {},
   "outputs": [
    {
     "data": {
      "image/png": "[encoded data removed]",
      "text/plain": [
       "<Figure size 1152x576 with 1 Axes>"
      ]
     },
     "metadata": {
      "needs_background": "light"
     },
     "output_type": "display_data"
    }
   ],
   "source": [
    "numPort = 500\n",
    "num_stocks = 15\n",
    "\n",
    "risks = np.zeros(numPort)\n",
    "returns = np.zeros(numPort)\n",
    "\n",
    "for port in range(numPort):\n",
    "    portfolio = Portfolio(num_stocks)\n",
    "    \n",
    "    close = np.exp(np.random.randn(num_stocks)) #create n stocks witch normal distributed\n",
    "    close = close/close.sum()\n",
    "    df = pd.DataFrame([portfolio.stocks, close])\n",
    "    covMatrix = df.cov()\n",
    "    \n",
    "    risks[port] = portfolio.portfolioRisk(covMatrix)\n",
    "    returns[port] = portfolio.returnCheck()\n",
    "    \n",
    "plt.figure(figsize=(16,8))\n",
    "plt.scatter(risks*100, returns*100)\n",
    "plt.xlabel('Risk, %')\n",
    "plt.ylabel('Return, %')\n",
    "plt.title('Portfolios')\n",
    "\n",
    "minRisk = np.argmin(risks)\n",
    "plt.scatter(risks[minRisk], returns[minRisk], c='red', marker='x')\n",
    "\n",
    "meanPortfolio = Portfolio(num_stocks)\n",
    "meanPortfolio.stocks = np.ones(num_stocks)/num_stocks\n",
    "close = np.ones(num_stocks)/num_stocks #create n stocks witch normal distributed\n",
    "close = close/close.sum()\n",
    "df = pd.DataFrame([meanPortfolio.stocks, close])\n",
    "covMatrix = df.cov()\n",
    "plt.scatter(meanPortfolio.portfolioRisk(covMatrix)*100, meanPortfolio.returnCheck()*100, marker='*', c='black')\n",
    "\n",
    "plt.show()"
   ]
  },
  {
   "cell_type": "code",
   "execution_count": null,
   "metadata": {},
   "outputs": [],
   "source": []
  }
 ],
 "metadata": {
  "kernelspec": {
   "display_name": "Python 3",
   "language": "python",
   "name": "python3"
  },
  "language_info": {
   "codemirror_mode": {
    "name": "ipython",
    "version": 3
   },
   "file_extension": ".py",
   "mimetype": "text/x-python",
   "name": "python",
   "nbconvert_exporter": "python",
   "pygments_lexer": "ipython3",
   "version": "3.6.4"
  }
 },
 "nbformat": 4,
 "nbformat_minor": 2
}

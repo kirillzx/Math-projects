{
 "cells": [
  {
   "cell_type": "markdown",
   "metadata": {},
   "source": [
    "# One-dimensional unconditional optimization\n",
    "### Author: Kirill Zakharov\n",
    "##### 07.10.2020"
   ]
  },
  {
   "cell_type": "code",
   "execution_count": 290,
   "metadata": {},
   "outputs": [],
   "source": [
    "import numpy as np\n",
    "import matplotlib.pyplot as plt\n",
    "from ipywidgets import interact, interactive, fixed, interact_manual\n",
    "import ipywidgets as widgets\n",
    "from IPython.display import display\n",
    "%matplotlib inline"
   ]
  },
  {
   "cell_type": "markdown",
   "metadata": {},
   "source": [
    "## Dichotomy method"
   ]
  },
  {
   "cell_type": "code",
   "execution_count": 312,
   "metadata": {},
   "outputs": [],
   "source": [
    "#objective function\n",
    "def f(x):\n",
    "    return 2*x*x\n",
    "\n",
    "#Dichotomy method\n",
    "def dyh(a, b, k):\n",
    "    array = [] #empty array for roots\n",
    "    minf = 0\n",
    "    d = 0.001\n",
    "    for i in range(k):\n",
    "        x1 = (a+b-d)/2\n",
    "        x2 = (a+b+d)/2\n",
    "        if f(x1) > f(x2): #main condition\n",
    "            a = x1\n",
    "            array.append(a)  \n",
    "        else:\n",
    "            b = x2\n",
    "            array.append(b)\n",
    "        \n",
    "    minf = (a+b)/2 #result\n",
    "    return minf, array #the minimum and the list of the roots "
   ]
  },
  {
   "cell_type": "code",
   "execution_count": 311,
   "metadata": {},
   "outputs": [
    {
     "data": {
      "application/vnd.jupyter.widget-view+json": {
       "model_id": "d7fdb2207b2746e5bd94fce2f8728eda",
       "version_major": 2,
       "version_minor": 0
      },
      "text/plain": [
       "IntText(value=-1, description='left bound')"
      ]
     },
     "metadata": {},
     "output_type": "display_data"
    },
    {
     "data": {
      "application/vnd.jupyter.widget-view+json": {
       "model_id": "1a1c4c842894470e84a517991277b443",
       "version_major": 2,
       "version_minor": 0
      },
      "text/plain": [
       "IntText(value=1, description='right bound')"
      ]
     },
     "metadata": {},
     "output_type": "display_data"
    },
    {
     "data": {
      "application/vnd.jupyter.widget-view+json": {
       "model_id": "55fecd45c86242549fef39d6ca61f72e",
       "version_major": 2,
       "version_minor": 0
      },
      "text/plain": [
       "IntSlider(value=7, continuous_update=False, description='Iterations', max=20)"
      ]
     },
     "metadata": {},
     "output_type": "display_data"
    }
   ],
   "source": [
    "a = widgets.IntText(\n",
    "    value = -1,\n",
    "    description=\"left bound\")\n",
    "display(a)\n",
    "\n",
    "#количество агентов типа 1\n",
    "b = widgets.IntText(\n",
    "    value = 1,\n",
    "    description=\"right bound\")\n",
    "display(b)\n",
    "\n",
    "#количество соседей\n",
    "k = widgets.IntSlider(\n",
    "    value=7,\n",
    "    min=0,\n",
    "    max=20,\n",
    "    step=1,\n",
    "    description='Iterations',\n",
    "    disabled=False,\n",
    "    continuous_update=False,\n",
    "    orientation='horizontal',\n",
    "    readout=True,\n",
    "    readout_format='d'\n",
    ")\n",
    "display(k)"
   ]
  },
  {
   "cell_type": "code",
   "execution_count": 313,
   "metadata": {},
   "outputs": [],
   "source": [
    "x1 = np.linspace(-10, 10, num=1000) #point for plotting function\n",
    "y1 = list(map(f,x1)) #the values of the function in x1\n",
    "minf, ar = dyh(a.value, b.value, k.value) #point of optimization\n",
    "y = list(map(f,ar)) #values of the function in point of optimization"
   ]
  },
  {
   "cell_type": "markdown",
   "metadata": {},
   "source": [
    "# Visualization (dichotomy method)"
   ]
  },
  {
   "cell_type": "code",
   "execution_count": 314,
   "metadata": {},
   "outputs": [
    {
     "data": {
      "text/plain": [
       "<matplotlib.collections.PathCollection at 0x17fc13c5d30>"
      ]
     },
     "execution_count": 314,
     "metadata": {},
     "output_type": "execute_result"
    },
    {
     "data": {
      "image/png": "[encoded data removed]",
      "text/plain": [
       "<Figure size 432x288 with 1 Axes>"
      ]
     },
     "metadata": {
      "needs_background": "light"
     },
     "output_type": "display_data"
    }
   ],
   "source": [
    "fig = plt.figure()\n",
    "ax = fig.add_subplot(1, 1, 1)\n",
    "ax.plot(x1,y1)\n",
    "ax.scatter(ar, y, marker='o', color='red')"
   ]
  },
  {
   "cell_type": "markdown",
   "metadata": {},
   "source": [
    "# Golden ratio method"
   ]
  },
  {
   "cell_type": "code",
   "execution_count": 315,
   "metadata": {},
   "outputs": [],
   "source": [
    "phi = (5**(1/2)+1)/2\n",
    "def gr(a, b, k):\n",
    "    array = [] #empty array for roots\n",
    "    minf = 0\n",
    "    for i in range(k):\n",
    "        x1 = b - (b-a)/phi\n",
    "        x2 = a + (b-a)/phi\n",
    "        if f(x1) > f(x2): #main condition\n",
    "            a = x1\n",
    "            array.append(a)  \n",
    "        else:\n",
    "            b = x2\n",
    "            array.append(b)\n",
    "        \n",
    "    minf = (a+b)/2 #result\n",
    "    return minf, array #the minimum and the list of the roots "
   ]
  },
  {
   "cell_type": "code",
   "execution_count": 316,
   "metadata": {},
   "outputs": [
    {
     "data": {
      "application/vnd.jupyter.widget-view+json": {
       "model_id": "f12dab2615d243109af3a03bb6161336",
       "version_major": 2,
       "version_minor": 0
      },
      "text/plain": [
       "IntText(value=-1, description='left bound')"
      ]
     },
     "metadata": {},
     "output_type": "display_data"
    },
    {
     "data": {
      "application/vnd.jupyter.widget-view+json": {
       "model_id": "58c7068bc34a4a84be4e2edb96908aae",
       "version_major": 2,
       "version_minor": 0
      },
      "text/plain": [
       "IntText(value=1, description='right bound')"
      ]
     },
     "metadata": {},
     "output_type": "display_data"
    },
    {
     "data": {
      "application/vnd.jupyter.widget-view+json": {
       "model_id": "f409c855393742de8815c8a47e473137",
       "version_major": 2,
       "version_minor": 0
      },
      "text/plain": [
       "IntSlider(value=7, continuous_update=False, description='Iterations', max=20)"
      ]
     },
     "metadata": {},
     "output_type": "display_data"
    }
   ],
   "source": [
    "a = widgets.IntText(\n",
    "    value = -1,\n",
    "    description=\"left bound\")\n",
    "display(a)\n",
    "\n",
    "#количество агентов типа 1\n",
    "b = widgets.IntText(\n",
    "    value = 1,\n",
    "    description=\"right bound\")\n",
    "display(b)\n",
    "\n",
    "#количество соседей\n",
    "k = widgets.IntSlider(\n",
    "    value=7,\n",
    "    min=0,\n",
    "    max=20,\n",
    "    step=1,\n",
    "    description='Iterations',\n",
    "    disabled=False,\n",
    "    continuous_update=False,\n",
    "    orientation='horizontal',\n",
    "    readout=True,\n",
    "    readout_format='d'\n",
    ")\n",
    "display(k)"
   ]
  },
  {
   "cell_type": "markdown",
   "metadata": {},
   "source": [
    "# Visualization (golden ratio method)"
   ]
  },
  {
   "cell_type": "code",
   "execution_count": 319,
   "metadata": {},
   "outputs": [],
   "source": [
    "x2 = np.linspace(-10, 10, num=1000)\n",
    "y2 = list(map(f,x2))\n",
    "minf, arg = gr(a.value, b.value, k.value)\n",
    "yg = list(map(f,arg))"
   ]
  },
  {
   "cell_type": "code",
   "execution_count": 320,
   "metadata": {},
   "outputs": [
    {
     "data": {
      "text/plain": [
       "<matplotlib.collections.PathCollection at 0x17fc14b4da0>"
      ]
     },
     "execution_count": 320,
     "metadata": {},
     "output_type": "execute_result"
    },
    {
     "data": {
      "image/png": "[encoded data removed]",
      "text/plain": [
       "<Figure size 432x288 with 1 Axes>"
      ]
     },
     "metadata": {
      "needs_background": "light"
     },
     "output_type": "display_data"
    }
   ],
   "source": [
    "fig = plt.figure()\n",
    "ax = fig.add_subplot(1, 1, 1)\n",
    "ax.plot(x2,y2)\n",
    "ax.scatter(arg, yg, marker='o', color='red')"
   ]
  },
  {
   "cell_type": "markdown",
   "metadata": {},
   "source": [
    "# Fibonacci method"
   ]
  },
  {
   "cell_type": "code",
   "execution_count": 321,
   "metadata": {},
   "outputs": [],
   "source": [
    "def fib(n):\n",
    "    if n in (1, 2):\n",
    "        return 1\n",
    "    return fib(n - 1) + fib(n - 2)\n",
    "    \n",
    "\n",
    "def fib_m(a, b, k):\n",
    "    array = [] #empty array for roots\n",
    "    minf = 0\n",
    "\n",
    "    for i in range(k,1,-1):\n",
    "        x1 = a + (b-a)*(fib(k-2)/fib(k))\n",
    "        x2 = a + (b-a)*(fib(k-1)/fib(k))\n",
    "        y1 = f(x1)\n",
    "        y2 = f(x2)\n",
    "        if k == 1:\n",
    "            minf = (x1+x2)/2\n",
    "            break\n",
    "        if f(x1) > f(x2): #main condition\n",
    "            a = x1\n",
    "            x1 = x2\n",
    "            x2 = b - (x1 - a)\n",
    "            y1 = y2\n",
    "            y2 = f(x2)\n",
    "            array.append(a)  \n",
    "        else:\n",
    "            b = x2\n",
    "            x2 = x1\n",
    "            x1 = a + (b - x2)\n",
    "            y2 = y1\n",
    "            y1 = f(x1)\n",
    "            array.append(b)\n",
    "        \n",
    "    return minf, array #the minimum and the list of the roots "
   ]
  },
  {
   "cell_type": "code",
   "execution_count": 308,
   "metadata": {},
   "outputs": [
    {
     "data": {
      "application/vnd.jupyter.widget-view+json": {
       "model_id": "5c8d6b30ced74d75807997232e752677",
       "version_major": 2,
       "version_minor": 0
      },
      "text/plain": [
       "IntText(value=-1, description='left bound')"
      ]
     },
     "metadata": {},
     "output_type": "display_data"
    },
    {
     "data": {
      "application/vnd.jupyter.widget-view+json": {
       "model_id": "747b44eb1e4341659b6ea744c675c971",
       "version_major": 2,
       "version_minor": 0
      },
      "text/plain": [
       "IntText(value=1, description='right bound')"
      ]
     },
     "metadata": {},
     "output_type": "display_data"
    },
    {
     "data": {
      "application/vnd.jupyter.widget-view+json": {
       "model_id": "eae9e0ae59f24621ad227846d2063be5",
       "version_major": 2,
       "version_minor": 0
      },
      "text/plain": [
       "IntSlider(value=7, continuous_update=False, description='Iterations', max=20)"
      ]
     },
     "metadata": {},
     "output_type": "display_data"
    }
   ],
   "source": [
    "a = widgets.IntText(\n",
    "    value = -1,\n",
    "    description=\"left bound\")\n",
    "display(a)\n",
    "\n",
    "#количество агентов типа 1\n",
    "b = widgets.IntText(\n",
    "    value = 1,\n",
    "    description=\"right bound\")\n",
    "display(b)\n",
    "\n",
    "#количество соседей\n",
    "k = widgets.IntSlider(\n",
    "    value=7,\n",
    "    min=0,\n",
    "    max=20,\n",
    "    step=1,\n",
    "    description='Iterations',\n",
    "    disabled=False,\n",
    "    continuous_update=False,\n",
    "    orientation='horizontal',\n",
    "    readout=True,\n",
    "    readout_format='d'\n",
    ")\n",
    "display(k)"
   ]
  },
  {
   "cell_type": "markdown",
   "metadata": {},
   "source": [
    "# Visualization (fibonacci method)"
   ]
  },
  {
   "cell_type": "code",
   "execution_count": 322,
   "metadata": {},
   "outputs": [],
   "source": [
    "x2 = np.linspace(-10, 10, num=1000)\n",
    "y2 = list(map(f,x2))\n",
    "minf, arg = fib_m(a.value, b.value, k.value)\n",
    "yg = list(map(f,arg))"
   ]
  },
  {
   "cell_type": "code",
   "execution_count": 323,
   "metadata": {},
   "outputs": [
    {
     "data": {
      "text/plain": [
       "<matplotlib.collections.PathCollection at 0x17fc152b198>"
      ]
     },
     "execution_count": 323,
     "metadata": {},
     "output_type": "execute_result"
    },
    {
     "data": {
      "image/png": "[encoded data removed]",
      "text/plain": [
       "<Figure size 432x288 with 1 Axes>"
      ]
     },
     "metadata": {
      "needs_background": "light"
     },
     "output_type": "display_data"
    }
   ],
   "source": [
    "fig = plt.figure()\n",
    "ax = fig.add_subplot(1, 1, 1)\n",
    "ax.plot(x2,y2)\n",
    "ax.scatter(arg, yg, marker='o', color='red')"
   ]
  },
  {
   "cell_type": "code",
   "execution_count": null,
   "metadata": {},
   "outputs": [],
   "source": []
  }
 ],
 "metadata": {
  "kernelspec": {
   "display_name": "Python 3",
   "language": "python",
   "name": "python3"
  },
  "language_info": {
   "codemirror_mode": {
    "name": "ipython",
    "version": 3
   },
   "file_extension": ".py",
   "mimetype": "text/x-python",
   "name": "python",
   "nbconvert_exporter": "python",
   "pygments_lexer": "ipython3",
   "version": "3.6.4"
  }
 },
 "nbformat": 4,
 "nbformat_minor": 2
}

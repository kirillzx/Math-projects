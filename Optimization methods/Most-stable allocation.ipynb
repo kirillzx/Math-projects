{
 "cells": [
  {
   "cell_type": "markdown",
   "id": "013df64a",
   "metadata": {},
   "source": [
    "# Most-stable allocation under distributional constraints\n",
    "### Kirill Zakharov\n",
    "2021"
   ]
  },
  {
   "cell_type": "code",
   "execution_count": 43,
   "id": "e865c9b2",
   "metadata": {},
   "outputs": [],
   "source": [
    "from gurobipy import *\n",
    "import numpy as np\n",
    "import random"
   ]
  },
  {
   "cell_type": "markdown",
   "id": "45cd3bed",
   "metadata": {},
   "source": [
    "### Introduce quotas and dimensional information"
   ]
  },
  {
   "cell_type": "code",
   "execution_count": 44,
   "id": "74dc9330",
   "metadata": {},
   "outputs": [],
   "source": [
    "# Defining Sets\n",
    "n = 25\n",
    "m = 5\n",
    "p = 3 #number of types\n",
    "\n",
    "students = [f\"st {i}\" for i in range(n)]\n",
    "jobs = [f\"comp {i}\" for i in range(m)]\n",
    "\n",
    "#quotas\n",
    "upperQ = list(np.random.randint(7, 8, size=m))\n",
    "lowerQ = list(np.random.randint(4, 5, size=m))\n",
    "\n",
    "lb_of_types = [np.random.randint(1, 2, size=p) for j in range(m)]\n",
    "ub_of_types = [np.random.randint(4, 5, size=p) for j in range(m)]\n",
    "\n",
    "applicants_types = np.random.randint(1, 4, size=n)"
   ]
  },
  {
   "cell_type": "code",
   "execution_count": 45,
   "id": "c154c608",
   "metadata": {},
   "outputs": [
    {
     "data": {
      "text/plain": [
       "array([4, 4, 4])"
      ]
     },
     "execution_count": 45,
     "metadata": {},
     "output_type": "execute_result"
    }
   ],
   "source": [
    "ub_of_types[0]"
   ]
  },
  {
   "cell_type": "code",
   "execution_count": 46,
   "id": "c8f7a4d1",
   "metadata": {},
   "outputs": [],
   "source": [
    "#Students' ranks of companies\n",
    "a_ranks = [random.sample(list(np.arange(m)+1), m) for i in range(n)]\n",
    "\n",
    "#Companies' scores of students\n",
    "c_score = np.array([np.random.randint(1, 10, size=n) for j in range(m)]).T"
   ]
  },
  {
   "cell_type": "code",
   "execution_count": 47,
   "id": "95a7d09c",
   "metadata": {},
   "outputs": [],
   "source": [
    "model= Model(\"Assignment Model\")"
   ]
  },
  {
   "cell_type": "markdown",
   "id": "211044f0",
   "metadata": {},
   "source": [
    "### Introduce deficiency variables and binary variables"
   ]
  },
  {
   "cell_type": "code",
   "execution_count": 48,
   "id": "3f2fc7d9",
   "metadata": {},
   "outputs": [],
   "source": [
    "#Defining the Variable\n",
    "X = {}\n",
    "for i in range(n):\n",
    "    for j in range(m):\n",
    "        X[i,j] = model.addVar(vtype= GRB.BINARY)\n",
    "        \n",
    "d = {}\n",
    "for i in range(n):\n",
    "    for j in range(m):\n",
    "        d[i,j] = model.addVar(lb=0.0, ub=float('inf'), vtype= GRB.CONTINUOUS)"
   ]
  },
  {
   "cell_type": "markdown",
   "id": "30e9e0e9",
   "metadata": {},
   "source": [
    "### Define objective function as sum of deficiency variables"
   ]
  },
  {
   "cell_type": "code",
   "execution_count": 49,
   "id": "0b1a611d",
   "metadata": {},
   "outputs": [],
   "source": [
    "#Objective Function\n",
    "# model.setObjective(quicksum(a_ranks[i][j]*X[i,j] for i in range(n) for j in range(m)), GRB.MINIMIZE)\n",
    "model.setObjective(quicksum(d[i,j] for i in range(n) for j in range(m)), GRB.MINIMIZE)"
   ]
  },
  {
   "cell_type": "markdown",
   "id": "58dfdf2a",
   "metadata": {},
   "source": [
    "## First type of constraints"
   ]
  },
  {
   "cell_type": "markdown",
   "id": "9ba04bf5",
   "metadata": {},
   "source": [
    "### Define constraints"
   ]
  },
  {
   "cell_type": "code",
   "execution_count": 50,
   "id": "b9d6309a",
   "metadata": {},
   "outputs": [],
   "source": [
    "#Constraint-1\n",
    "for i in range(n):\n",
    "     model.addConstr(quicksum(X[i,j] for j in range(m)) <= 1)\n",
    "#Constraint-2\n",
    "for j in range(m):\n",
    "    model.addConstr(quicksum(X[i,j] for i in range(n)) <= upperQ[j])\n",
    "    \n",
    "#Constraint-3\n",
    "for j in range(m):\n",
    "    model.addConstr(quicksum(X[i,j] for i in range(n)) >= lowerQ[j])        \n",
    "\n",
    "# for i in range(n):\n",
    "#     for j in range(m):\n",
    "#         model.addConstr(quicksum(X[i,k] for k in range(m) if (a_ranks[i][k] <= a_ranks[i][j]))*upperQ[j] \\\n",
    "#                         + quicksum(X[h,j] for h in range(n) if c_score[h][j] > c_score[i][j]) >= upperQ[j])\n",
    "#Constraint-4\n",
    "for i in range(n):\n",
    "    for j in range(m):\n",
    "        model.addConstr(quicksum(X[i,k] for k in range(m) if (a_ranks[i][k] <= a_ranks[i][j]))*upperQ[j] \\\n",
    "                        + quicksum(X[h,j] for h in range(n) if c_score[h][j] >= c_score[i][j]) + d[i,j] \\\n",
    "                        >= upperQ[j])\n",
    "#Constraint-5    \n",
    "for i in range(n):\n",
    "    for j in range(m):\n",
    "        model.addConstr(X[i,j] >= 0)\n",
    "        \n",
    "#Constraint-6\n",
    "for j in range(m):\n",
    "    for l in range(p):\n",
    "        model.addConstr(quicksum(X[i,j] for i in range(n) if applicants_types[i] == l+1) <= ub_of_types[j][l])\n",
    "        \n",
    "#Constraint-7\n",
    "for j in range(m):\n",
    "    for l in range(p):\n",
    "        model.addConstr(quicksum(X[i,j] for i in range(n) if applicants_types[i] == l+1) >= lb_of_types[j][l])"
   ]
  },
  {
   "cell_type": "markdown",
   "id": "6608176a",
   "metadata": {},
   "source": [
    "### Solution"
   ]
  },
  {
   "cell_type": "code",
   "execution_count": 51,
   "id": "b31ea45e",
   "metadata": {},
   "outputs": [
    {
     "name": "stdout",
     "output_type": "stream",
     "text": [
      "Gurobi Optimizer version 9.1.2 build v9.1.2rc0 (mac64)\n",
      "Thread count: 8 physical cores, 8 logical processors, using up to 8 threads\n",
      "Optimize a model with 315 rows, 250 columns and 2917 nonzeros\n",
      "Model fingerprint: 0x2697b509\n",
      "Variable types: 125 continuous, 125 integer (125 binary)\n",
      "Coefficient statistics:\n",
      "  Matrix range     [1e+00, 8e+00]\n",
      "  Objective range  [1e+00, 1e+00]\n",
      "  Bounds range     [1e+00, 1e+00]\n",
      "  RHS range        [1e+00, 7e+00]\n",
      "Found heuristic solution: objective 255.0000000\n",
      "Presolve removed 125 rows and 0 columns\n",
      "Presolve time: 0.01s\n",
      "Presolved: 190 rows, 250 columns, 2792 nonzeros\n",
      "Variable types: 0 continuous, 250 integer (126 binary)\n",
      "\n",
      "Root relaxation: objective 0.000000e+00, 157 iterations, 0.00 seconds\n",
      "\n",
      "    Nodes    |    Current Node    |     Objective Bounds      |     Work\n",
      " Expl Unexpl |  Obj  Depth IntInf | Incumbent    BestBd   Gap | It/Node Time\n",
      "\n",
      "     0     0    0.00000    0   31  255.00000    0.00000   100%     -    0s\n",
      "H    0     0                      67.0000000    0.00000   100%     -    0s\n",
      "H    0     0                      29.0000000    0.00000   100%     -    0s\n",
      "H    0     0                      21.0000000    0.00000   100%     -    0s\n",
      "H    0     0                      16.0000000    0.00000   100%     -    0s\n",
      "H    0     0                      14.0000000    0.00000   100%     -    0s\n",
      "     0     0    0.73282    0   60   14.00000    0.73282  94.8%     -    0s\n",
      "     0     0    2.04781    0   62   14.00000    2.04781  85.4%     -    0s\n",
      "     0     0    2.34871    0   73   14.00000    2.34871  83.2%     -    0s\n",
      "     0     0    2.37026    0   71   14.00000    2.37026  83.1%     -    0s\n",
      "     0     0    2.37307    0   72   14.00000    2.37307  83.0%     -    0s\n",
      "     0     0    6.66524    0   53   14.00000    6.66524  52.4%     -    0s\n",
      "     0     0    7.16583    0   58   14.00000    7.16583  48.8%     -    0s\n",
      "     0     0    7.50761    0   64   14.00000    7.50761  46.4%     -    0s\n",
      "     0     0    7.55163    0   66   14.00000    7.55163  46.1%     -    0s\n",
      "     0     0    7.55174    0   66   14.00000    7.55174  46.1%     -    0s\n",
      "     0     0    8.19162    0   71   14.00000    8.19162  41.5%     -    0s\n",
      "     0     0    8.52046    0   68   14.00000    8.52046  39.1%     -    0s\n",
      "     0     0    8.70756    0   80   14.00000    8.70756  37.8%     -    0s\n",
      "     0     0    8.73821    0   81   14.00000    8.73821  37.6%     -    0s\n",
      "     0     0    8.74152    0   84   14.00000    8.74152  37.6%     -    0s\n",
      "     0     0    9.40456    0   67   14.00000    9.40456  32.8%     -    0s\n",
      "     0     0   10.14412    0   77   14.00000   10.14412  27.5%     -    0s\n",
      "     0     0   10.14412    0   79   14.00000   10.14412  27.5%     -    0s\n",
      "     0     0   10.14412    0   76   14.00000   10.14412  27.5%     -    0s\n",
      "     0     0   10.22871    0   82   14.00000   10.22871  26.9%     -    0s\n",
      "     0     0   11.15684    0   74   14.00000   11.15684  20.3%     -    0s\n",
      "     0     0   14.00000    0   81   14.00000   14.00000  0.00%     -    0s\n",
      "\n",
      "Cutting planes:\n",
      "  Gomory: 3\n",
      "  Implied bound: 19\n",
      "  MIR: 41\n",
      "  StrongCG: 5\n",
      "  RLT: 21\n",
      "\n",
      "Explored 1 nodes (940 simplex iterations) in 0.16 seconds\n",
      "Thread count was 8 (of 8 available processors)\n",
      "\n",
      "Solution count 6: 14 16 21 ... 255\n",
      "\n",
      "Optimal solution found (tolerance 1.00e-04)\n",
      "Best objective 1.400000000000e+01, best bound 1.400000000000e+01, gap 0.0000%\n"
     ]
    }
   ],
   "source": [
    "model.optimize()"
   ]
  },
  {
   "cell_type": "code",
   "execution_count": 52,
   "id": "a52eee53",
   "metadata": {},
   "outputs": [
    {
     "data": {
      "text/plain": [
       "array([[0., 0., 0., 1., 0.],\n",
       "       [1., 0., 0., 0., 0.],\n",
       "       [1., 0., 0., 0., 0.],\n",
       "       [1., 0., 0., 0., 0.],\n",
       "       [1., 0., 0., 0., 0.],\n",
       "       [0., 1., 0., 0., 0.],\n",
       "       [0., 0., 1., 0., 0.],\n",
       "       [0., 0., 0., 1., 0.],\n",
       "       [1., 0., 0., 0., 0.],\n",
       "       [0., 0., 0., 0., 1.],\n",
       "       [0., 1., 0., 0., 0.],\n",
       "       [0., 0., 0., 0., 1.],\n",
       "       [0., 0., 0., 0., 1.],\n",
       "       [0., 0., 0., 1., 0.],\n",
       "       [0., 1., 0., 0., 0.],\n",
       "       [0., 0., 1., 0., 0.],\n",
       "       [1., 0., 0., 0., 0.],\n",
       "       [0., 1., 0., 0., 0.],\n",
       "       [0., 0., 0., 0., 1.],\n",
       "       [0., 0., 1., 0., 0.],\n",
       "       [0., 0., 0., 0., 1.],\n",
       "       [0., 0., 0., 1., 0.],\n",
       "       [0., 0., 0., 1., 0.],\n",
       "       [0., 0., 1., 0., 0.],\n",
       "       [0., 0., 0., 0., 1.]])"
      ]
     },
     "execution_count": 52,
     "metadata": {},
     "output_type": "execute_result"
    }
   ],
   "source": [
    "res1 = np.array(model.X[:125]).reshape((n,m))\n",
    "abs(res1)"
   ]
  },
  {
   "cell_type": "code",
   "execution_count": 53,
   "id": "c2e457e5",
   "metadata": {},
   "outputs": [
    {
     "data": {
      "text/plain": [
       "array([[5, 2, 1, 3, 4],\n",
       "       [1, 5, 3, 2, 4],\n",
       "       [1, 5, 3, 4, 2],\n",
       "       [1, 3, 5, 2, 4],\n",
       "       [1, 4, 2, 3, 5],\n",
       "       [4, 1, 5, 3, 2],\n",
       "       [4, 3, 1, 2, 5],\n",
       "       [5, 2, 3, 1, 4],\n",
       "       [1, 2, 4, 5, 3],\n",
       "       [5, 3, 4, 2, 1],\n",
       "       [3, 1, 2, 4, 5],\n",
       "       [4, 5, 2, 3, 1],\n",
       "       [2, 5, 3, 4, 1],\n",
       "       [5, 1, 3, 2, 4],\n",
       "       [1, 2, 4, 3, 5],\n",
       "       [2, 4, 1, 3, 5],\n",
       "       [1, 4, 2, 3, 5],\n",
       "       [4, 1, 2, 3, 5],\n",
       "       [3, 4, 2, 5, 1],\n",
       "       [3, 4, 1, 5, 2],\n",
       "       [4, 3, 5, 2, 1],\n",
       "       [2, 5, 4, 1, 3],\n",
       "       [3, 4, 5, 1, 2],\n",
       "       [2, 5, 1, 3, 4],\n",
       "       [4, 5, 2, 3, 1]])"
      ]
     },
     "execution_count": 53,
     "metadata": {},
     "output_type": "execute_result"
    }
   ],
   "source": [
    "a_ranksTable = np.array(a_ranks).reshape((n,m))\n",
    "a_ranksTable"
   ]
  },
  {
   "cell_type": "markdown",
   "id": "5baecc4d",
   "metadata": {},
   "source": [
    "### Check how many students have  the choice that differs from initial one"
   ]
  },
  {
   "cell_type": "code",
   "execution_count": 54,
   "id": "27dd1a14",
   "metadata": {},
   "outputs": [],
   "source": [
    "checkMatch = [False for i in range(n)]\n",
    "for i in range(n):\n",
    "    if np.where(res1[i] == 1)[0][0] == np.where(a_ranksTable[i] == 1)[0][0]:\n",
    "        checkMatch[i] = True"
   ]
  },
  {
   "cell_type": "code",
   "execution_count": 55,
   "id": "99795de0",
   "metadata": {},
   "outputs": [
    {
     "data": {
      "text/plain": [
       "[False,\n",
       " True,\n",
       " True,\n",
       " True,\n",
       " True,\n",
       " True,\n",
       " True,\n",
       " True,\n",
       " True,\n",
       " True,\n",
       " True,\n",
       " True,\n",
       " True,\n",
       " False,\n",
       " False,\n",
       " True,\n",
       " True,\n",
       " True,\n",
       " True,\n",
       " True,\n",
       " True,\n",
       " True,\n",
       " True,\n",
       " True,\n",
       " True]"
      ]
     },
     "execution_count": 55,
     "metadata": {},
     "output_type": "execute_result"
    }
   ],
   "source": [
    "checkMatch"
   ]
  },
  {
   "cell_type": "code",
   "execution_count": 56,
   "id": "4b9de395",
   "metadata": {},
   "outputs": [
    {
     "data": {
      "text/plain": [
       "3"
      ]
     },
     "execution_count": 56,
     "metadata": {},
     "output_type": "execute_result"
    }
   ],
   "source": [
    "n - sum(checkMatch)"
   ]
  },
  {
   "cell_type": "markdown",
   "id": "eed11323",
   "metadata": {},
   "source": [
    "## Second type of constraints"
   ]
  },
  {
   "cell_type": "code",
   "execution_count": 57,
   "id": "aff69a5b",
   "metadata": {},
   "outputs": [],
   "source": [
    "model= Model(\"Assignment Model\")\n",
    "\n",
    "#Defining the Variable\n",
    "X = {}\n",
    "for i in range(n):\n",
    "    for j in range(m):\n",
    "        X[i,j] = model.addVar(vtype= GRB.BINARY)\n",
    "        \n",
    "d = {}\n",
    "for i in range(n):\n",
    "    for j in range(m):\n",
    "        d[i,j] = model.addVar(vtype= GRB.BINARY)\n",
    "        \n",
    "model.setObjective(quicksum(d[i,j] for i in range(n) for j in range(m)), GRB.MINIMIZE)"
   ]
  },
  {
   "cell_type": "code",
   "execution_count": 58,
   "id": "9777ef9d",
   "metadata": {},
   "outputs": [],
   "source": [
    "#Constraint-1\n",
    "for i in range(n):\n",
    "     model.addConstr(quicksum(X[i,j] for j in range(m)) <= 1)\n",
    "#Constraint-2\n",
    "for j in range(m):\n",
    "    model.addConstr(quicksum(X[i,j] for i in range(n)) <= upperQ[j])\n",
    "    \n",
    "#Constraint-3\n",
    "for j in range(m):\n",
    "    model.addConstr(quicksum(X[i,j] for i in range(n)) >= lowerQ[j])        \n",
    "\n",
    "# for i in range(n):\n",
    "#     for j in range(m):\n",
    "#         model.addConstr(quicksum(X[i,k] for k in range(m) if (a_ranks[i][k] <= a_ranks[i][j]))*upperQ[j] \\\n",
    "#                         + quicksum(X[h,j] for h in range(n) if c_score[h][j] > c_score[i][j]) >= upperQ[j])\n",
    "\n",
    "for i in range(n):\n",
    "    for j in range(m):\n",
    "        model.addConstr(quicksum(X[i,k] for k in range(m) if (a_ranks[i][k] <= a_ranks[i][j]))*upperQ[j] \\\n",
    "                        + quicksum(X[h,j] for h in range(n) if c_score[h][j] >= c_score[i][j])\\\n",
    "                        + d[i,j]*upperQ[j] >= upperQ[j])\n",
    "    \n",
    "for i in range(n):\n",
    "    for j in range(m):\n",
    "        model.addConstr(X[i,j] >= 0)\n",
    "        \n",
    "#Constraint-6\n",
    "for j in range(m):\n",
    "    for l in range(p):\n",
    "        model.addConstr(quicksum(X[i,j] for i in range(n) if applicants_types[i] == l+1) <= ub_of_types[j][l])\n",
    "        \n",
    "#Constraint-7\n",
    "for j in range(m):\n",
    "    for l in range(p):\n",
    "        model.addConstr(quicksum(X[i,j] for i in range(n) if applicants_types[i] == l+1) >= lb_of_types[j][l])        "
   ]
  },
  {
   "cell_type": "code",
   "execution_count": 59,
   "id": "1257879e",
   "metadata": {},
   "outputs": [
    {
     "name": "stdout",
     "output_type": "stream",
     "text": [
      "Gurobi Optimizer version 9.1.2 build v9.1.2rc0 (mac64)\n",
      "Thread count: 8 physical cores, 8 logical processors, using up to 8 threads\n",
      "Optimize a model with 315 rows, 250 columns and 2917 nonzeros\n",
      "Model fingerprint: 0xb06e7acd\n",
      "Variable types: 0 continuous, 250 integer (250 binary)\n",
      "Coefficient statistics:\n",
      "  Matrix range     [1e+00, 8e+00]\n",
      "  Objective range  [1e+00, 1e+00]\n",
      "  Bounds range     [1e+00, 1e+00]\n",
      "  RHS range        [1e+00, 7e+00]\n",
      "Found heuristic solution: objective 62.0000000\n",
      "Presolve removed 131 rows and 6 columns\n",
      "Presolve time: 0.01s\n",
      "Presolved: 184 rows, 244 columns, 2674 nonzeros\n",
      "Variable types: 0 continuous, 244 integer (244 binary)\n",
      "\n",
      "Root relaxation: objective 0.000000e+00, 127 iterations, 0.00 seconds\n",
      "\n",
      "    Nodes    |    Current Node    |     Objective Bounds      |     Work\n",
      " Expl Unexpl |  Obj  Depth IntInf | Incumbent    BestBd   Gap | It/Node Time\n",
      "\n",
      "     0     0    0.00000    0   32   62.00000    0.00000   100%     -    0s\n",
      "H    0     0                       6.0000000    0.00000   100%     -    0s\n",
      "H    0     0                       4.0000000    0.00000   100%     -    0s\n",
      "     0     0    0.86879    0   51    4.00000    0.86879  78.3%     -    0s\n",
      "     0     0    1.12137    0   46    4.00000    1.12137  72.0%     -    0s\n",
      "     0     0    1.16618    0   51    4.00000    1.16618  70.8%     -    0s\n",
      "     0     0    1.17761    0   50    4.00000    1.17761  70.6%     -    0s\n",
      "     0     0    1.87004    0   47    4.00000    1.87004  53.2%     -    0s\n",
      "     0     0    2.06003    0   65    4.00000    2.06003  48.5%     -    0s\n",
      "     0     0    2.16704    0   62    4.00000    2.16704  45.8%     -    0s\n",
      "     0     0    2.22300    0   60    4.00000    2.22300  44.4%     -    0s\n",
      "     0     0    2.24153    0   61    4.00000    2.24153  44.0%     -    0s\n",
      "     0     0    2.25078    0   62    4.00000    2.25078  43.7%     -    0s\n",
      "     0     0    2.25241    0   64    4.00000    2.25241  43.7%     -    0s\n",
      "     0     0    2.25458    0   67    4.00000    2.25458  43.6%     -    0s\n",
      "     0     0    2.25607    0   62    4.00000    2.25607  43.6%     -    0s\n",
      "     0     0    2.25809    0   62    4.00000    2.25809  43.5%     -    0s\n",
      "     0     0    2.46020    0   71    4.00000    2.46020  38.5%     -    0s\n",
      "     0     0    2.46020    0   39    4.00000    2.46020  38.5%     -    0s\n",
      "     0     0    2.46020    0   40    4.00000    2.46020  38.5%     -    0s\n",
      "     0     0    2.46020    0   55    4.00000    2.46020  38.5%     -    0s\n",
      "     0     0    2.46020    0   58    4.00000    2.46020  38.5%     -    0s\n",
      "     0     0    2.47178    0   59    4.00000    2.47178  38.2%     -    0s\n",
      "     0     0    2.48530    0   61    4.00000    2.48530  37.9%     -    0s\n",
      "     0     0    2.48739    0   62    4.00000    2.48739  37.8%     -    0s\n",
      "     0     0    2.48864    0   64    4.00000    2.48864  37.8%     -    0s\n",
      "     0     0    2.48967    0   64    4.00000    2.48967  37.8%     -    0s\n",
      "     0     0    2.67684    0   60    4.00000    2.67684  33.1%     -    0s\n",
      "     0     0    2.84143    0   63    4.00000    2.84143  29.0%     -    0s\n",
      "     0     0    4.00000    0   65    4.00000    4.00000  0.00%     -    0s\n",
      "\n",
      "Cutting planes:\n",
      "  Gomory: 1\n",
      "  Cover: 13\n",
      "  MIR: 27\n",
      "  StrongCG: 2\n",
      "  RLT: 4\n",
      "\n",
      "Explored 1 nodes (958 simplex iterations) in 0.15 seconds\n",
      "Thread count was 8 (of 8 available processors)\n",
      "\n",
      "Solution count 3: 4 6 62 \n",
      "\n",
      "Optimal solution found (tolerance 1.00e-04)\n",
      "Best objective 4.000000000000e+00, best bound 4.000000000000e+00, gap 0.0000%\n"
     ]
    }
   ],
   "source": [
    "model.optimize()"
   ]
  },
  {
   "cell_type": "code",
   "execution_count": 60,
   "id": "4abc6a4e",
   "metadata": {},
   "outputs": [
    {
     "data": {
      "text/plain": [
       "array([[0., 0., 0., 1., 0.],\n",
       "       [1., 0., 0., 0., 0.],\n",
       "       [1., 0., 0., 0., 0.],\n",
       "       [1., 0., 0., 0., 0.],\n",
       "       [1., 0., 0., 0., 0.],\n",
       "       [0., 1., 0., 0., 0.],\n",
       "       [0., 0., 1., 0., 0.],\n",
       "       [0., 0., 0., 1., 0.],\n",
       "       [1., 0., 0., 0., 0.],\n",
       "       [0., 0., 0., 0., 1.],\n",
       "       [0., 1., 0., 0., 0.],\n",
       "       [0., 0., 0., 0., 1.],\n",
       "       [0., 0., 0., 0., 1.],\n",
       "       [0., 0., 0., 1., 0.],\n",
       "       [0., 1., 0., 0., 0.],\n",
       "       [0., 0., 1., 0., 0.],\n",
       "       [1., 0., 0., 0., 0.],\n",
       "       [0., 1., 0., 0., 0.],\n",
       "       [0., 0., 0., 0., 1.],\n",
       "       [0., 0., 1., 0., 0.],\n",
       "       [0., 0., 0., 0., 1.],\n",
       "       [0., 0., 0., 1., 0.],\n",
       "       [0., 0., 0., 1., 0.],\n",
       "       [0., 0., 1., 0., 0.],\n",
       "       [0., 0., 0., 0., 1.]])"
      ]
     },
     "execution_count": 60,
     "metadata": {},
     "output_type": "execute_result"
    }
   ],
   "source": [
    "res2 = np.array(model.X[:125]).reshape((n,m))\n",
    "abs(res2)"
   ]
  },
  {
   "cell_type": "code",
   "execution_count": 61,
   "id": "68c14f3d",
   "metadata": {},
   "outputs": [
    {
     "data": {
      "text/plain": [
       "array([[5, 2, 1, 3, 4],\n",
       "       [1, 5, 3, 2, 4],\n",
       "       [1, 5, 3, 4, 2],\n",
       "       [1, 3, 5, 2, 4],\n",
       "       [1, 4, 2, 3, 5],\n",
       "       [4, 1, 5, 3, 2],\n",
       "       [4, 3, 1, 2, 5],\n",
       "       [5, 2, 3, 1, 4],\n",
       "       [1, 2, 4, 5, 3],\n",
       "       [5, 3, 4, 2, 1],\n",
       "       [3, 1, 2, 4, 5],\n",
       "       [4, 5, 2, 3, 1],\n",
       "       [2, 5, 3, 4, 1],\n",
       "       [5, 1, 3, 2, 4],\n",
       "       [1, 2, 4, 3, 5],\n",
       "       [2, 4, 1, 3, 5],\n",
       "       [1, 4, 2, 3, 5],\n",
       "       [4, 1, 2, 3, 5],\n",
       "       [3, 4, 2, 5, 1],\n",
       "       [3, 4, 1, 5, 2],\n",
       "       [4, 3, 5, 2, 1],\n",
       "       [2, 5, 4, 1, 3],\n",
       "       [3, 4, 5, 1, 2],\n",
       "       [2, 5, 1, 3, 4],\n",
       "       [4, 5, 2, 3, 1]])"
      ]
     },
     "execution_count": 61,
     "metadata": {},
     "output_type": "execute_result"
    }
   ],
   "source": [
    "a_ranksTable2 = np.array(a_ranks).reshape((n,m))\n",
    "a_ranksTable2"
   ]
  },
  {
   "cell_type": "code",
   "execution_count": 62,
   "id": "6872498e",
   "metadata": {},
   "outputs": [],
   "source": [
    "checkMatch2 = [False for i in range(n)]\n",
    "for i in range(n):\n",
    "    if np.where(res2[i] == 1)[0][0] == np.where(a_ranksTable2[i] == 1)[0][0]:\n",
    "        checkMatch2[i] = True"
   ]
  },
  {
   "cell_type": "code",
   "execution_count": 63,
   "id": "8551e164",
   "metadata": {},
   "outputs": [
    {
     "data": {
      "text/plain": [
       "3"
      ]
     },
     "execution_count": 63,
     "metadata": {},
     "output_type": "execute_result"
    }
   ],
   "source": [
    "n - sum(checkMatch2)"
   ]
  },
  {
   "cell_type": "markdown",
   "id": "2b2c1e01",
   "metadata": {},
   "source": [
    "### Define the function"
   ]
  },
  {
   "cell_type": "code",
   "execution_count": 64,
   "id": "da805a21",
   "metadata": {},
   "outputs": [],
   "source": [
    "def findAllocation(n, m, p, upperQ, lowerQ, a_ranks, c_score, lb_of_types, ub_of_types, applicants_types, typeConstr=1):\n",
    "    model= Model(\"Assignment Model\")\n",
    "    model.Params.LogToConsole = 0\n",
    "    \n",
    "    X = {}\n",
    "    for i in range(n):\n",
    "        for j in range(m):\n",
    "            X[i,j] = model.addVar(vtype= GRB.BINARY)\n",
    "            \n",
    "    if typeConstr == 1:        \n",
    "\n",
    "        d = {}\n",
    "        for i in range(n):\n",
    "            for j in range(m):\n",
    "                d[i,j] = model.addVar(lb=0.0, ub=float('inf'), vtype= GRB.CONTINUOUS)\n",
    "\n",
    "        model.setObjective(quicksum(d[i,j] for i in range(n) for j in range(m)), GRB.MINIMIZE)\n",
    "\n",
    "        #Constraint-1\n",
    "        for i in range(n):\n",
    "            model.addConstr(quicksum(X[i,j] for j in range(m)) <= 1)\n",
    "        #Constraint-2\n",
    "        for j in range(m):\n",
    "            model.addConstr(quicksum(X[i,j] for i in range(n)) <= upperQ[j])\n",
    "\n",
    "        #Constraint-3\n",
    "        for j in range(m):\n",
    "            model.addConstr(quicksum(X[i,j] for i in range(n)) >= lowerQ[j])        \n",
    "\n",
    "        # for i in range(n):\n",
    "        #     for j in range(m):\n",
    "        #         model.addConstr(quicksum(X[i,k] for k in range(m) if (a_ranks[i][k] <= a_ranks[i][j]))*upperQ[j] \\\n",
    "        #                         + quicksum(X[h,j] for h in range(n) if c_score[h][j] > c_score[i][j]) >= upperQ[j])\n",
    "    \n",
    "        #Constraint-4\n",
    "    \n",
    "        for i in range(n):\n",
    "            for j in range(m):\n",
    "                model.addConstr(quicksum(X[i,k] for k in range(m) if (a_ranks[i][k] <= a_ranks[i][j]))*upperQ[j] \\\n",
    "                                + quicksum(X[h,j] for h in range(n) if c_score[h][j] >= c_score[i][j]) + d[i,j] \\\n",
    "                                >= upperQ[j])\n",
    "                \n",
    "        #Constraint-5\n",
    "        for i in range(n):\n",
    "            for j in range(m):\n",
    "                model.addConstr(X[i,j] >= 0)\n",
    "                \n",
    "        #Constraint-6\n",
    "        for j in range(m):\n",
    "            for l in range(p):\n",
    "                model.addConstr(quicksum(X[i,j] for i in range(n) if applicants_types[i] == l+1) <= ub_of_types[j][l])\n",
    "\n",
    "        #Constraint-7\n",
    "        for j in range(m):\n",
    "            for l in range(p):\n",
    "                model.addConstr(quicksum(X[i,j] for i in range(n) if applicants_types[i] == l+1) >= lb_of_types[j][l])        \n",
    "                \n",
    "                \n",
    "    else:        \n",
    "        \n",
    "        d = {}\n",
    "        for i in range(n):\n",
    "            for j in range(m):\n",
    "                d[i,j] = model.addVar(vtype= GRB.BINARY)\n",
    "\n",
    "        model.setObjective(quicksum(d[i,j] for i in range(n) for j in range(m)), GRB.MINIMIZE)\n",
    "\n",
    "        #Constraint-1\n",
    "        for i in range(n):\n",
    "            model.addConstr(quicksum(X[i,j] for j in range(m)) <= 1)\n",
    "        #Constraint-2\n",
    "        for j in range(m):\n",
    "            model.addConstr(quicksum(X[i,j] for i in range(n)) <= upperQ[j])\n",
    "\n",
    "        #Constraint-3\n",
    "        for j in range(m):\n",
    "            model.addConstr(quicksum(X[i,j] for i in range(n)) >= lowerQ[j])        \n",
    "\n",
    "        # for i in range(n):\n",
    "        #     for j in range(m):\n",
    "        #         model.addConstr(quicksum(X[i,k] for k in range(m) if (a_ranks[i][k] <= a_ranks[i][j]))*upperQ[j] \\\n",
    "        #                         + quicksum(X[h,j] for h in range(n) if c_score[h][j] > c_score[i][j]) >= upperQ[j])\n",
    "       \n",
    "        #Constraint-4\n",
    "        for i in range(n):\n",
    "            for j in range(m):\n",
    "                model.addConstr(quicksum(X[i,k] for k in range(m) if (a_ranks[i][k] <= a_ranks[i][j]))*upperQ[j] \\\n",
    "                                + quicksum(X[h,j] for h in range(n) if c_score[h][j] >= c_score[i][j])\\\n",
    "                                + d[i,j]*upperQ[j] >= upperQ[j])        \n",
    "        #Constraint-5\n",
    "        for i in range(n):\n",
    "            for j in range(m):\n",
    "                model.addConstr(X[i,j] >= 0)\n",
    "                \n",
    "        #Constraint-6\n",
    "        for j in range(m):\n",
    "            for l in range(p):\n",
    "                model.addConstr(quicksum(X[i,j] for i in range(n) if applicants_types[i] == l+1) <= ub_of_types[j][l])\n",
    "\n",
    "        #Constraint-7\n",
    "        for j in range(m):\n",
    "            for l in range(p):\n",
    "                model.addConstr(quicksum(X[i,j] for i in range(n) if applicants_types[i] == l+1) >= lb_of_types[j][l])        \n",
    "            \n",
    "    model.optimize()\n",
    "    \n",
    "    res = np.array(model.X[:n*m]).reshape((n,m))\n",
    "    \n",
    "    return abs(res)"
   ]
  },
  {
   "cell_type": "code",
   "execution_count": 65,
   "id": "3f4f4089",
   "metadata": {},
   "outputs": [
    {
     "data": {
      "text/plain": [
       "array([[0., 0., 0., 1., 0.],\n",
       "       [1., 0., 0., 0., 0.],\n",
       "       [1., 0., 0., 0., 0.],\n",
       "       [1., 0., 0., 0., 0.],\n",
       "       [1., 0., 0., 0., 0.],\n",
       "       [0., 1., 0., 0., 0.],\n",
       "       [0., 0., 1., 0., 0.],\n",
       "       [0., 0., 0., 1., 0.],\n",
       "       [1., 0., 0., 0., 0.],\n",
       "       [0., 0., 0., 0., 1.],\n",
       "       [0., 1., 0., 0., 0.],\n",
       "       [0., 0., 0., 0., 1.],\n",
       "       [0., 0., 0., 0., 1.],\n",
       "       [0., 0., 0., 1., 0.],\n",
       "       [0., 1., 0., 0., 0.],\n",
       "       [0., 0., 1., 0., 0.],\n",
       "       [1., 0., 0., 0., 0.],\n",
       "       [0., 1., 0., 0., 0.],\n",
       "       [0., 0., 0., 0., 1.],\n",
       "       [0., 0., 1., 0., 0.],\n",
       "       [0., 0., 0., 0., 1.],\n",
       "       [0., 0., 0., 1., 0.],\n",
       "       [0., 0., 0., 1., 0.],\n",
       "       [0., 0., 1., 0., 0.],\n",
       "       [0., 0., 0., 0., 1.]])"
      ]
     },
     "execution_count": 65,
     "metadata": {},
     "output_type": "execute_result"
    }
   ],
   "source": [
    "res3 = findAllocation(n, m, p, upperQ, lowerQ, a_ranks, c_score, lb_of_types, ub_of_types, applicants_types, 2)\n",
    "res3"
   ]
  },
  {
   "cell_type": "markdown",
   "id": "7af01a6d",
   "metadata": {},
   "source": [
    "### Testing"
   ]
  },
  {
   "cell_type": "code",
   "execution_count": 66,
   "id": "b9dfef84",
   "metadata": {},
   "outputs": [],
   "source": [
    "def checkMatch(n, m, res, a_ranks):\n",
    "    a_ranksTable = np.array(a_ranks).reshape((n,m))\n",
    "    \n",
    "    checkMatch = [False for i in range(n)]\n",
    "    \n",
    "    for i in range(n):\n",
    "        if np.where(res[i] == 1)[0][0] == np.where(a_ranksTable[i] == 1)[0][0]:\n",
    "            checkMatch[i] = True\n",
    "\n",
    "    return (n - sum(checkMatch))  "
   ]
  },
  {
   "cell_type": "code",
   "execution_count": 67,
   "id": "a3d33594",
   "metadata": {},
   "outputs": [
    {
     "data": {
      "text/plain": [
       "3"
      ]
     },
     "execution_count": 67,
     "metadata": {},
     "output_type": "execute_result"
    }
   ],
   "source": [
    "checkMatch(n, m, res3, a_ranks)"
   ]
  },
  {
   "cell_type": "markdown",
   "id": "40478118",
   "metadata": {},
   "source": [
    "### Generate data"
   ]
  },
  {
   "cell_type": "code",
   "execution_count": 216,
   "id": "2e486196",
   "metadata": {},
   "outputs": [],
   "source": [
    "test_size = 1000\n",
    "\n",
    "n_array = np.sort([np.random.randint(25, 100) for i in range(test_size)])\n",
    "m_array = np.sort([np.random.randint(3, 10) for i in range(test_size)])\n",
    "p_array = [np.random.randint(1, 4) for i in range(test_size)]"
   ]
  },
  {
   "cell_type": "code",
   "execution_count": 217,
   "id": "a6baf441",
   "metadata": {},
   "outputs": [],
   "source": [
    "#quotas\n",
    "upperQ = [list(np.random.randint(int(n_array[i]/m_array[i])+10, \\\n",
    "                                 int(n_array[i]/m_array[i])+50, size=m_array[i])) for i in range(test_size)]\n",
    "\n",
    "lowerQ = [list(np.random.randint(int(n_array[i]/m_array[i])-2, \\\n",
    "                                 int(n_array[i]/m_array[i]), size=m_array[i])) for i in range(test_size)]"
   ]
  },
  {
   "cell_type": "code",
   "execution_count": 218,
   "id": "44ecad0c",
   "metadata": {},
   "outputs": [],
   "source": [
    "lb_of_types = [[np.random.randint(int(n_array[i]/m_array[i]/p_array[i])-3, \\\n",
    "                                 int(n_array[i]/m_array[i]/p_array[i])-1, size=p_array[i]) for j in range(m_array[i])] for i in range(test_size)]\n",
    "\n",
    "ub_of_types = [[np.random.randint(int(n_array[i]/m_array[i])+10, \\\n",
    "                                 int(n_array[i]/m_array[i])+50, size=p_array[i]) for j in range(m_array[i])] for i in range(test_size)]\n",
    "\n",
    "applicants_types = [np.random.randint(1, p_array[i]+1, size=n_array[i]) for i in range(test_size)]"
   ]
  },
  {
   "cell_type": "code",
   "execution_count": 219,
   "id": "35bdc40f",
   "metadata": {},
   "outputs": [],
   "source": [
    "#Students' ranks of companies\n",
    "a_ranks = [[random.sample(list(np.arange(m_array[j])+1), m_array[j]) for i in range(n_array[j])] for j in range(test_size)]\n",
    "\n",
    "#Companies' scores of students\n",
    "c_score = [np.array([np.random.randint(1, 10, size=n_array[k]) for j in range(m_array[k])]).T for k in range(test_size)]"
   ]
  },
  {
   "cell_type": "code",
   "execution_count": 220,
   "id": "342d37bb",
   "metadata": {},
   "outputs": [],
   "source": [
    "checkArray1 = []\n",
    "checkArray2 = []\n",
    "\n",
    "for i in range(test_size):\n",
    "\n",
    "    try:\n",
    "        res1 = findAllocation(n_array[i], m_array[i], p_array[i], upperQ[i], lowerQ[i], a_ranks[i], c_score[i],\\\n",
    "                          lb_of_types[i], ub_of_types[i], applicants_types[i], 1)\n",
    "\n",
    "    except:\n",
    "        print(i)\n",
    "        print(lowerQ[i], lb_of_types[i])\n",
    "    \n",
    "    checkRes1 = checkMatch(n_array[i], m_array[i], np.around(res1), a_ranks[i])\n",
    "    \n",
    "    checkArray1.append(checkRes1)\n",
    "    \n",
    "    res2 = findAllocation(n_array[i], m_array[i], p_array[i], upperQ[i], lowerQ[i], a_ranks[i], c_score[i], \\\n",
    "                          lb_of_types[i], ub_of_types[i], applicants_types[i], 2)\n",
    "    \n",
    "    checkRes2 = checkMatch(n_array[i], m_array[i], np.around(res2), a_ranks[i])\n",
    "    \n",
    "    checkArray2.append(checkRes2)\n",
    "    "
   ]
  },
  {
   "cell_type": "code",
   "execution_count": 221,
   "id": "964fbebb",
   "metadata": {},
   "outputs": [
    {
     "data": {
      "text/plain": [
       "array([333, 362, 420, 508, 515, 576, 578, 643, 657, 823, 831, 853, 884,\n",
       "       903, 906, 909, 911, 915, 916, 926, 971])"
      ]
     },
     "execution_count": 221,
     "metadata": {},
     "output_type": "execute_result"
    }
   ],
   "source": [
    "ind = np.where(np.array(checkArray1) > np.array(checkArray2))[0]\n",
    "ind"
   ]
  },
  {
   "cell_type": "code",
   "execution_count": 224,
   "id": "53b584f2",
   "metadata": {},
   "outputs": [
    {
     "data": {
      "text/plain": [
       "array([ 2,  7,  5,  8,  4,  3, 10, 10,  8,  4, 10,  5, 11,  8,  6,  5,  4,\n",
       "        7,  4,  5,  4])"
      ]
     },
     "execution_count": 224,
     "metadata": {},
     "output_type": "execute_result"
    }
   ],
   "source": [
    "block_pairs1 = np.array(checkArray1)[ind]\n",
    "block_pairs1"
   ]
  },
  {
   "cell_type": "code",
   "execution_count": 225,
   "id": "d6ce72aa",
   "metadata": {},
   "outputs": [
    {
     "data": {
      "text/plain": [
       "array([ 1,  6,  4,  7,  3,  2,  9,  9,  7,  3,  9,  4, 10,  7,  5,  4,  3,\n",
       "        6,  3,  3,  3])"
      ]
     },
     "execution_count": 225,
     "metadata": {},
     "output_type": "execute_result"
    }
   ],
   "source": [
    "block_pairs2 = np.array(checkArray2)[ind]\n",
    "block_pairs2"
   ]
  },
  {
   "cell_type": "code",
   "execution_count": 228,
   "id": "8010ed8f",
   "metadata": {},
   "outputs": [
    {
     "data": {
      "text/plain": [
       "21"
      ]
     },
     "execution_count": 228,
     "metadata": {},
     "output_type": "execute_result"
    }
   ],
   "source": [
    "len(block_pairs1)"
   ]
  },
  {
   "cell_type": "code",
   "execution_count": null,
   "id": "3545bf5e",
   "metadata": {},
   "outputs": [],
   "source": []
  }
 ],
 "metadata": {
  "kernelspec": {
   "display_name": "Python 3",
   "language": "python",
   "name": "python3"
  },
  "language_info": {
   "codemirror_mode": {
    "name": "ipython",
    "version": 3
   },
   "file_extension": ".py",
   "mimetype": "text/x-python",
   "name": "python",
   "nbconvert_exporter": "python",
   "pygments_lexer": "ipython3",
   "version": "3.8.8"
  }
 },
 "nbformat": 4,
 "nbformat_minor": 5
}

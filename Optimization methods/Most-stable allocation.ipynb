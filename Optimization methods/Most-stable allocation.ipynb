{
 "cells": [
  {
   "cell_type": "markdown",
   "id": "013df64a",
   "metadata": {},
   "source": [
    "# Most-stable allocation under distributional constraints\n",
    "### Kirill Zakharov\n",
    "2021"
   ]
  },
  {
   "cell_type": "code",
   "execution_count": 21,
   "id": "e865c9b2",
   "metadata": {},
   "outputs": [],
   "source": [
    "from gurobipy import *\n",
    "import numpy as np\n",
    "import random"
   ]
  },
  {
   "cell_type": "markdown",
   "id": "45cd3bed",
   "metadata": {},
   "source": [
    "### Introduce quotas and dimensional information"
   ]
  },
  {
   "cell_type": "code",
   "execution_count": 235,
   "id": "74dc9330",
   "metadata": {},
   "outputs": [],
   "source": [
    "# Defining Sets\n",
    "n = 25\n",
    "m = 5\n",
    "\n",
    "students = [f\"st {i}\" for i in range(n)]\n",
    "jobs = [f\"comp {i}\" for i in range(m)]\n",
    "\n",
    "#quotas\n",
    "upperQ = list(np.random.randint(7, 8, size=m))\n",
    "lowerQ = list(np.random.randint(4, 5, size=m))"
   ]
  },
  {
   "cell_type": "code",
   "execution_count": 236,
   "id": "c154c608",
   "metadata": {},
   "outputs": [
    {
     "data": {
      "text/plain": [
       "[7, 7, 7, 7, 7]"
      ]
     },
     "execution_count": 236,
     "metadata": {},
     "output_type": "execute_result"
    }
   ],
   "source": [
    "upperQ"
   ]
  },
  {
   "cell_type": "code",
   "execution_count": 237,
   "id": "c8f7a4d1",
   "metadata": {},
   "outputs": [],
   "source": [
    "#Students' ranks of companies\n",
    "a_ranks = [random.sample(list(np.arange(m)+1), m) for i in range(n)]\n",
    "\n",
    "#Companies' scores of students\n",
    "c_score = np.array([random.sample(list(np.arange(n)+1), n) for j in range(m)]).T"
   ]
  },
  {
   "cell_type": "code",
   "execution_count": 238,
   "id": "95a7d09c",
   "metadata": {},
   "outputs": [],
   "source": [
    "model= Model(\"Assignment Model\")"
   ]
  },
  {
   "cell_type": "markdown",
   "id": "211044f0",
   "metadata": {},
   "source": [
    "### Introduce deficiency variables and binary variables"
   ]
  },
  {
   "cell_type": "code",
   "execution_count": 239,
   "id": "3f2fc7d9",
   "metadata": {},
   "outputs": [],
   "source": [
    "#Defining the Variable\n",
    "X = {}\n",
    "for i in range(n):\n",
    "    for j in range(m):\n",
    "        X[i,j] = model.addVar(vtype= GRB.BINARY)\n",
    "        \n",
    "d = {}\n",
    "for i in range(n):\n",
    "    for j in range(m):\n",
    "        d[i,j] = model.addVar(lb=0.0, ub=float('inf'), vtype= GRB.CONTINUOUS)"
   ]
  },
  {
   "cell_type": "markdown",
   "id": "30e9e0e9",
   "metadata": {},
   "source": [
    "### Define objective function as sum of deficiency variables"
   ]
  },
  {
   "cell_type": "code",
   "execution_count": 240,
   "id": "0b1a611d",
   "metadata": {},
   "outputs": [],
   "source": [
    "#Objective Function\n",
    "# model.setObjective(quicksum(a_ranks[i][j]*X[i,j] for i in range(n) for j in range(m)), GRB.MINIMIZE)\n",
    "model.setObjective(quicksum(d[i,j] for i in range(n) for j in range(m)), GRB.MINIMIZE)"
   ]
  },
  {
   "cell_type": "markdown",
   "id": "58dfdf2a",
   "metadata": {},
   "source": [
    "## First type of constraints"
   ]
  },
  {
   "cell_type": "markdown",
   "id": "9ba04bf5",
   "metadata": {},
   "source": [
    "### Define constraints"
   ]
  },
  {
   "cell_type": "code",
   "execution_count": 241,
   "id": "b9d6309a",
   "metadata": {},
   "outputs": [],
   "source": [
    "#Constraint-1\n",
    "for i in range(n):\n",
    "     model.addConstr(quicksum(X[i,j] for j in range(m)) <= 1)\n",
    "#Constraint-2\n",
    "for j in range(m):\n",
    "    model.addConstr(quicksum(X[i,j] for i in range(n)) <= upperQ[j])\n",
    "    \n",
    "#Constraint-3\n",
    "for j in range(m):\n",
    "    model.addConstr(quicksum(X[i,j] for i in range(n)) >= lowerQ[j])        \n",
    "\n",
    "# for i in range(n):\n",
    "#     for j in range(m):\n",
    "#         model.addConstr(quicksum(X[i,k] for k in range(m) if (a_ranks[i][k] <= a_ranks[i][j]))*upperQ[j] \\\n",
    "#                         + quicksum(X[h,j] for h in range(n) if c_score[h][j] > c_score[i][j]) >= upperQ[j])\n",
    "\n",
    "for i in range(n):\n",
    "    for j in range(m):\n",
    "        model.addConstr(quicksum(X[i,k] for k in range(m) if (a_ranks[i][k] <= a_ranks[i][j]))*upperQ[j] \\\n",
    "                        + quicksum(X[h,j] for h in range(n) if c_score[h][j] >= c_score[i][j]) + d[i,j] >= upperQ[j])\n",
    "    \n",
    "for i in range(n):\n",
    "    for j in range(m):\n",
    "        model.addConstr(X[i,j] >= 0)"
   ]
  },
  {
   "cell_type": "markdown",
   "id": "6608176a",
   "metadata": {},
   "source": [
    "### Solution"
   ]
  },
  {
   "cell_type": "code",
   "execution_count": 242,
   "id": "b31ea45e",
   "metadata": {},
   "outputs": [
    {
     "name": "stdout",
     "output_type": "stream",
     "text": [
      "Gurobi Optimizer version 9.1.2 build v9.1.2rc0 (mac64)\n",
      "Thread count: 8 physical cores, 8 logical processors, using up to 8 threads\n",
      "Optimize a model with 285 rows, 250 columns and 2500 nonzeros\n",
      "Model fingerprint: 0x8b14831b\n",
      "Variable types: 125 continuous, 125 integer (125 binary)\n",
      "Coefficient statistics:\n",
      "  Matrix range     [1e+00, 8e+00]\n",
      "  Objective range  [1e+00, 1e+00]\n",
      "  Bounds range     [1e+00, 1e+00]\n",
      "  RHS range        [1e+00, 7e+00]\n",
      "Found heuristic solution: objective 281.0000000\n",
      "Presolve removed 126 rows and 1 columns\n",
      "Presolve time: 0.01s\n",
      "Presolved: 159 rows, 249 columns, 2369 nonzeros\n",
      "Variable types: 0 continuous, 249 integer (129 binary)\n",
      "\n",
      "Root relaxation: objective 0.000000e+00, 139 iterations, 0.00 seconds\n",
      "\n",
      "    Nodes    |    Current Node    |     Objective Bounds      |     Work\n",
      " Expl Unexpl |  Obj  Depth IntInf | Incumbent    BestBd   Gap | It/Node Time\n",
      "\n",
      "     0     0    0.00000    0   15  281.00000    0.00000   100%     -    0s\n",
      "H    0     0                      16.0000000    0.00000   100%     -    0s\n",
      "H    0     0                       7.0000000    0.00000   100%     -    0s\n",
      "     0     0    0.00000    0   36    7.00000    0.00000   100%     -    0s\n",
      "     0     0    0.00000    0   28    7.00000    0.00000   100%     -    0s\n",
      "     0     0    0.00000    0   41    7.00000    0.00000   100%     -    0s\n",
      "     0     0    0.00000    0   41    7.00000    0.00000   100%     -    0s\n",
      "     0     2    0.44017    0   41    7.00000    0.44017  93.7%     -    0s\n",
      "\n",
      "Cutting planes:\n",
      "  Gomory: 7\n",
      "  Implied bound: 6\n",
      "  MIR: 22\n",
      "  StrongCG: 4\n",
      "  RLT: 3\n",
      "  Relax-and-lift: 2\n",
      "\n",
      "Explored 47 nodes (1524 simplex iterations) in 0.12 seconds\n",
      "Thread count was 8 (of 8 available processors)\n",
      "\n",
      "Solution count 3: 7 16 281 \n",
      "\n",
      "Optimal solution found (tolerance 1.00e-04)\n",
      "Best objective 7.000000000000e+00, best bound 7.000000000000e+00, gap 0.0000%\n"
     ]
    }
   ],
   "source": [
    "model.optimize()"
   ]
  },
  {
   "cell_type": "code",
   "execution_count": 250,
   "id": "a52eee53",
   "metadata": {},
   "outputs": [
    {
     "data": {
      "text/plain": [
       "array([[ 1., -0., -0., -0., -0.],\n",
       "       [-0., -0.,  1., -0., -0.],\n",
       "       [-0., -0., -0., -0.,  1.],\n",
       "       [-0., -0., -0.,  1., -0.],\n",
       "       [-0., -0., -0.,  1., -0.],\n",
       "       [-0., -0., -0., -0.,  1.],\n",
       "       [-0., -0., -0.,  1., -0.],\n",
       "       [ 1., -0., -0., -0., -0.],\n",
       "       [-0.,  1., -0., -0., -0.],\n",
       "       [-0., -0., -0., -0.,  1.],\n",
       "       [-0., -0., -0., -0.,  1.],\n",
       "       [-0., -0.,  1., -0., -0.],\n",
       "       [-0., -0., -0.,  1., -0.],\n",
       "       [-0.,  1., -0., -0., -0.],\n",
       "       [-0., -0.,  1., -0., -0.],\n",
       "       [-0., -0., -0.,  1., -0.],\n",
       "       [-0., -0., -0., -0.,  1.],\n",
       "       [-0., -0.,  1., -0., -0.],\n",
       "       [-0., -0., -0., -0.,  1.],\n",
       "       [-0., -0., -0.,  1., -0.],\n",
       "       [ 1., -0., -0., -0., -0.],\n",
       "       [ 1., -0., -0., -0., -0.],\n",
       "       [-0.,  1., -0., -0., -0.],\n",
       "       [-0., -0.,  1., -0., -0.],\n",
       "       [-0.,  1., -0., -0., -0.]])"
      ]
     },
     "execution_count": 250,
     "metadata": {},
     "output_type": "execute_result"
    }
   ],
   "source": [
    "res1 = np.array(model.X[:125]).reshape((n,m))\n",
    "res1"
   ]
  },
  {
   "cell_type": "code",
   "execution_count": 272,
   "id": "c2e457e5",
   "metadata": {},
   "outputs": [
    {
     "data": {
      "text/plain": [
       "array([[1, 4, 3, 5, 2],\n",
       "       [2, 4, 1, 3, 5],\n",
       "       [3, 2, 5, 4, 1],\n",
       "       [5, 3, 4, 1, 2],\n",
       "       [3, 2, 4, 1, 5],\n",
       "       [5, 4, 3, 2, 1],\n",
       "       [2, 3, 4, 1, 5],\n",
       "       [1, 2, 5, 4, 3],\n",
       "       [4, 2, 1, 5, 3],\n",
       "       [4, 3, 2, 5, 1],\n",
       "       [4, 3, 5, 2, 1],\n",
       "       [4, 3, 2, 1, 5],\n",
       "       [3, 5, 4, 1, 2],\n",
       "       [2, 1, 4, 3, 5],\n",
       "       [2, 5, 1, 3, 4],\n",
       "       [2, 4, 5, 1, 3],\n",
       "       [3, 4, 2, 5, 1],\n",
       "       [4, 5, 1, 3, 2],\n",
       "       [2, 5, 3, 4, 1],\n",
       "       [3, 4, 2, 1, 5],\n",
       "       [3, 5, 4, 1, 2],\n",
       "       [1, 2, 4, 3, 5],\n",
       "       [4, 1, 2, 5, 3],\n",
       "       [3, 4, 1, 2, 5],\n",
       "       [3, 2, 4, 5, 1]])"
      ]
     },
     "execution_count": 272,
     "metadata": {},
     "output_type": "execute_result"
    }
   ],
   "source": [
    "a_ranksTable = np.array(a_ranks).reshape((n,m))\n",
    "a_ranksTable"
   ]
  },
  {
   "cell_type": "markdown",
   "id": "5baecc4d",
   "metadata": {},
   "source": [
    "### Check how many students have  the choice that differs from initial one"
   ]
  },
  {
   "cell_type": "code",
   "execution_count": 273,
   "id": "27dd1a14",
   "metadata": {},
   "outputs": [],
   "source": [
    "checkMatch = [False for i in range(n)]\n",
    "for i in range(n):\n",
    "    if np.where(res1[i] == 1)[0][0] == np.where(a_ranksTable[i] == 1)[0][0]:\n",
    "        checkMatch[i] = True"
   ]
  },
  {
   "cell_type": "code",
   "execution_count": 274,
   "id": "99795de0",
   "metadata": {},
   "outputs": [
    {
     "data": {
      "text/plain": [
       "[True,\n",
       " True,\n",
       " True,\n",
       " True,\n",
       " True,\n",
       " True,\n",
       " True,\n",
       " True,\n",
       " False,\n",
       " True,\n",
       " True,\n",
       " False,\n",
       " True,\n",
       " True,\n",
       " True,\n",
       " True,\n",
       " True,\n",
       " True,\n",
       " True,\n",
       " True,\n",
       " False,\n",
       " True,\n",
       " True,\n",
       " True,\n",
       " False]"
      ]
     },
     "execution_count": 274,
     "metadata": {},
     "output_type": "execute_result"
    }
   ],
   "source": [
    "checkMatch"
   ]
  },
  {
   "cell_type": "code",
   "execution_count": 276,
   "id": "4b9de395",
   "metadata": {},
   "outputs": [
    {
     "data": {
      "text/plain": [
       "4"
      ]
     },
     "execution_count": 276,
     "metadata": {},
     "output_type": "execute_result"
    }
   ],
   "source": [
    "n - sum(checkMatch)"
   ]
  },
  {
   "cell_type": "markdown",
   "id": "eed11323",
   "metadata": {},
   "source": [
    "## Second type of constraints"
   ]
  },
  {
   "cell_type": "code",
   "execution_count": 245,
   "id": "aff69a5b",
   "metadata": {},
   "outputs": [],
   "source": [
    "model= Model(\"Assignment Model\")\n",
    "\n",
    "#Defining the Variable\n",
    "X = {}\n",
    "for i in range(n):\n",
    "    for j in range(m):\n",
    "        X[i,j] = model.addVar(vtype= GRB.BINARY)\n",
    "        \n",
    "d = {}\n",
    "for i in range(n):\n",
    "    for j in range(m):\n",
    "        d[i,j] = model.addVar(lb=0.0, ub=float('inf'), vtype= GRB.CONTINUOUS)\n",
    "        \n",
    "model.setObjective(quicksum(d[i,j] for i in range(n) for j in range(m)), GRB.MINIMIZE)"
   ]
  },
  {
   "cell_type": "code",
   "execution_count": 246,
   "id": "9777ef9d",
   "metadata": {},
   "outputs": [],
   "source": [
    "#Constraint-1\n",
    "for i in range(n):\n",
    "     model.addConstr(quicksum(X[i,j] for j in range(m)) <= 1)\n",
    "#Constraint-2\n",
    "for j in range(m):\n",
    "    model.addConstr(quicksum(X[i,j] for i in range(n)) <= upperQ[j])\n",
    "    \n",
    "#Constraint-3\n",
    "for j in range(m):\n",
    "    model.addConstr(quicksum(X[i,j] for i in range(n)) >= lowerQ[j])        \n",
    "\n",
    "# for i in range(n):\n",
    "#     for j in range(m):\n",
    "#         model.addConstr(quicksum(X[i,k] for k in range(m) if (a_ranks[i][k] <= a_ranks[i][j]))*upperQ[j] \\\n",
    "#                         + quicksum(X[h,j] for h in range(n) if c_score[h][j] > c_score[i][j]) >= upperQ[j])\n",
    "\n",
    "for i in range(n):\n",
    "    for j in range(m):\n",
    "        model.addConstr(quicksum(X[i,k] for k in range(m) if (a_ranks[i][k] <= a_ranks[i][j]))*upperQ[j] \\\n",
    "                        + quicksum(X[h,j] for h in range(n) if c_score[h][j] >= c_score[i][j])\\\n",
    "                        + d[i,j]*upperQ[j] >= upperQ[j])\n",
    "    \n",
    "for i in range(n):\n",
    "    for j in range(m):\n",
    "        model.addConstr(X[i,j] >= 0)"
   ]
  },
  {
   "cell_type": "code",
   "execution_count": 247,
   "id": "1257879e",
   "metadata": {},
   "outputs": [
    {
     "name": "stdout",
     "output_type": "stream",
     "text": [
      "Gurobi Optimizer version 9.1.2 build v9.1.2rc0 (mac64)\n",
      "Thread count: 8 physical cores, 8 logical processors, using up to 8 threads\n",
      "Optimize a model with 285 rows, 250 columns and 2500 nonzeros\n",
      "Model fingerprint: 0x2cdee70a\n",
      "Variable types: 125 continuous, 125 integer (125 binary)\n",
      "Coefficient statistics:\n",
      "  Matrix range     [1e+00, 8e+00]\n",
      "  Objective range  [1e+00, 1e+00]\n",
      "  Bounds range     [1e+00, 1e+00]\n",
      "  RHS range        [1e+00, 7e+00]\n",
      "Found heuristic solution: objective 40.1428578\n",
      "Presolve removed 126 rows and 1 columns\n",
      "Presolve time: 0.01s\n",
      "Presolved: 159 rows, 249 columns, 2369 nonzeros\n",
      "Variable types: 0 continuous, 249 integer (129 binary)\n",
      "\n",
      "Root relaxation: objective 0.000000e+00, 139 iterations, 0.00 seconds\n",
      "\n",
      "    Nodes    |    Current Node    |     Objective Bounds      |     Work\n",
      " Expl Unexpl |  Obj  Depth IntInf | Incumbent    BestBd   Gap | It/Node Time\n",
      "\n",
      "     0     0    0.00000    0   15   40.14286    0.00000   100%     -    0s\n",
      "H    0     0                       2.2857143    0.00000   100%     -    0s\n",
      "H    0     0                       1.0000000    0.00000   100%     -    0s\n",
      "     0     0    0.00000    0   38    1.00000    0.00000   100%     -    0s\n",
      "     0     0    0.00000    0   33    1.00000    0.00000   100%     -    0s\n",
      "     0     0    0.00000    0   39    1.00000    0.00000   100%     -    0s\n",
      "     0     0    0.02069    0   45    1.00000    0.02069  97.9%     -    0s\n",
      "     0     0    0.19686    0   45    1.00000    0.19686  80.3%     -    0s\n",
      "     0     0    0.19686    0   50    1.00000    0.19686  80.3%     -    0s\n",
      "     0     0    0.20004    0   40    1.00000    0.20004  80.0%     -    0s\n",
      "     0     0    0.20058    0   39    1.00000    0.20058  79.9%     -    0s\n",
      "     0     0    0.20058    0   39    1.00000    0.20058  79.9%     -    0s\n",
      "     0     0    0.20058    0   18    1.00000    0.20058  79.9%     -    0s\n",
      "     0     0    0.20058    0   35    1.00000    0.20058  79.9%     -    0s\n",
      "     0     0    0.41924    0   31    1.00000    0.41924  58.1%     -    0s\n",
      "     0     0    0.69059    0   32    1.00000    0.69059  30.9%     -    0s\n",
      "     0     0     cutoff    0         1.00000    1.00000  0.00%     -    0s\n",
      "\n",
      "Cutting planes:\n",
      "  Gomory: 8\n",
      "  Implied bound: 8\n",
      "  MIR: 21\n",
      "  RLT: 7\n",
      "  Relax-and-lift: 1\n",
      "\n",
      "Explored 1 nodes (964 simplex iterations) in 0.12 seconds\n",
      "Thread count was 8 (of 8 available processors)\n",
      "\n",
      "Solution count 3: 1 2.28571 40.1429 \n",
      "\n",
      "Optimal solution found (tolerance 1.00e-04)\n",
      "Best objective 1.000000000000e+00, best bound 1.000000000000e+00, gap 0.0000%\n"
     ]
    }
   ],
   "source": [
    "model.optimize()"
   ]
  },
  {
   "cell_type": "code",
   "execution_count": 277,
   "id": "4abc6a4e",
   "metadata": {},
   "outputs": [
    {
     "data": {
      "text/plain": [
       "array([[ 1., -0., -0., -0., -0.],\n",
       "       [-0., -0.,  1., -0., -0.],\n",
       "       [-0., -0., -0., -0.,  1.],\n",
       "       [-0., -0., -0.,  1., -0.],\n",
       "       [-0., -0., -0.,  1., -0.],\n",
       "       [-0., -0., -0., -0.,  1.],\n",
       "       [-0., -0., -0.,  1., -0.],\n",
       "       [ 1., -0., -0., -0., -0.],\n",
       "       [-0.,  1., -0., -0., -0.],\n",
       "       [-0., -0., -0., -0.,  1.],\n",
       "       [-0., -0., -0., -0.,  1.],\n",
       "       [-0., -0.,  1., -0., -0.],\n",
       "       [-0., -0., -0.,  1., -0.],\n",
       "       [-0.,  1., -0., -0., -0.],\n",
       "       [-0., -0.,  1., -0., -0.],\n",
       "       [-0., -0., -0.,  1., -0.],\n",
       "       [-0., -0., -0., -0.,  1.],\n",
       "       [-0., -0.,  1., -0., -0.],\n",
       "       [-0., -0., -0., -0.,  1.],\n",
       "       [-0., -0., -0.,  1., -0.],\n",
       "       [ 1., -0., -0., -0., -0.],\n",
       "       [ 1., -0., -0., -0., -0.],\n",
       "       [-0.,  1., -0., -0., -0.],\n",
       "       [-0., -0.,  1., -0., -0.],\n",
       "       [-0.,  1., -0., -0., -0.]])"
      ]
     },
     "execution_count": 277,
     "metadata": {},
     "output_type": "execute_result"
    }
   ],
   "source": [
    "res2 = np.array(model.X[:125]).reshape((n,m))\n",
    "res2"
   ]
  },
  {
   "cell_type": "code",
   "execution_count": 278,
   "id": "68c14f3d",
   "metadata": {},
   "outputs": [
    {
     "data": {
      "text/plain": [
       "array([[1, 4, 3, 5, 2],\n",
       "       [2, 4, 1, 3, 5],\n",
       "       [3, 2, 5, 4, 1],\n",
       "       [5, 3, 4, 1, 2],\n",
       "       [3, 2, 4, 1, 5],\n",
       "       [5, 4, 3, 2, 1],\n",
       "       [2, 3, 4, 1, 5],\n",
       "       [1, 2, 5, 4, 3],\n",
       "       [4, 2, 1, 5, 3],\n",
       "       [4, 3, 2, 5, 1],\n",
       "       [4, 3, 5, 2, 1],\n",
       "       [4, 3, 2, 1, 5],\n",
       "       [3, 5, 4, 1, 2],\n",
       "       [2, 1, 4, 3, 5],\n",
       "       [2, 5, 1, 3, 4],\n",
       "       [2, 4, 5, 1, 3],\n",
       "       [3, 4, 2, 5, 1],\n",
       "       [4, 5, 1, 3, 2],\n",
       "       [2, 5, 3, 4, 1],\n",
       "       [3, 4, 2, 1, 5],\n",
       "       [3, 5, 4, 1, 2],\n",
       "       [1, 2, 4, 3, 5],\n",
       "       [4, 1, 2, 5, 3],\n",
       "       [3, 4, 1, 2, 5],\n",
       "       [3, 2, 4, 5, 1]])"
      ]
     },
     "execution_count": 278,
     "metadata": {},
     "output_type": "execute_result"
    }
   ],
   "source": [
    "a_ranksTable2 = np.array(a_ranks).reshape((n,m))\n",
    "a_ranksTable2"
   ]
  },
  {
   "cell_type": "code",
   "execution_count": 279,
   "id": "6872498e",
   "metadata": {},
   "outputs": [],
   "source": [
    "checkMatch2 = [False for i in range(n)]\n",
    "for i in range(n):\n",
    "    if np.where(res2[i] == 1)[0][0] == np.where(a_ranksTable2[i] == 1)[0][0]:\n",
    "        checkMatch2[i] = True"
   ]
  },
  {
   "cell_type": "code",
   "execution_count": 280,
   "id": "8551e164",
   "metadata": {},
   "outputs": [
    {
     "data": {
      "text/plain": [
       "4"
      ]
     },
     "execution_count": 280,
     "metadata": {},
     "output_type": "execute_result"
    }
   ],
   "source": [
    "n - sum(checkMatch2)"
   ]
  },
  {
   "cell_type": "code",
   "execution_count": null,
   "id": "8e8ca2c5",
   "metadata": {},
   "outputs": [],
   "source": []
  }
 ],
 "metadata": {
  "kernelspec": {
   "display_name": "Python 3",
   "language": "python",
   "name": "python3"
  },
  "language_info": {
   "codemirror_mode": {
    "name": "ipython",
    "version": 3
   },
   "file_extension": ".py",
   "mimetype": "text/x-python",
   "name": "python",
   "nbconvert_exporter": "python",
   "pygments_lexer": "ipython3",
   "version": "3.8.8"
  }
 },
 "nbformat": 4,
 "nbformat_minor": 5
}

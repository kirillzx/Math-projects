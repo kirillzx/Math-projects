{
 "cells": [
  {
   "cell_type": "markdown",
   "id": "013df64a",
   "metadata": {},
   "source": [
    "# Most-stable allocation under distributional constraints\n",
    "### Kirill Zakharov\n",
    "2021"
   ]
  },
  {
   "cell_type": "code",
   "execution_count": 1,
   "id": "e865c9b2",
   "metadata": {},
   "outputs": [],
   "source": [
    "from gurobipy import *\n",
    "import numpy as np\n",
    "import random"
   ]
  },
  {
   "cell_type": "markdown",
   "id": "45cd3bed",
   "metadata": {},
   "source": [
    "### Introduce quotas and dimensional information"
   ]
  },
  {
   "cell_type": "code",
   "execution_count": 207,
   "id": "74dc9330",
   "metadata": {},
   "outputs": [],
   "source": [
    "# Defining Sets\n",
    "n = 25\n",
    "m = 5\n",
    "\n",
    "students = [f\"st {i}\" for i in range(n)]\n",
    "jobs = [f\"comp {i}\" for i in range(m)]\n",
    "\n",
    "#quotas\n",
    "upperQ = list(np.random.randint(7, 8, size=m))\n",
    "lowerQ = list(np.random.randint(4, 5, size=m))"
   ]
  },
  {
   "cell_type": "code",
   "execution_count": 208,
   "id": "c154c608",
   "metadata": {},
   "outputs": [
    {
     "data": {
      "text/plain": [
       "[7, 7, 7, 7, 7]"
      ]
     },
     "execution_count": 208,
     "metadata": {},
     "output_type": "execute_result"
    }
   ],
   "source": [
    "upperQ"
   ]
  },
  {
   "cell_type": "code",
   "execution_count": 209,
   "id": "c8f7a4d1",
   "metadata": {},
   "outputs": [],
   "source": [
    "#Students' ranks of companies\n",
    "a_ranks = [random.sample(list(np.arange(m)+1), m) for i in range(n)]\n",
    "\n",
    "#Companies' scores of students\n",
    "c_score = np.array([np.random.randint(1, 10, size=n) for j in range(m)]).T"
   ]
  },
  {
   "cell_type": "code",
   "execution_count": 169,
   "id": "95a7d09c",
   "metadata": {},
   "outputs": [],
   "source": [
    "model= Model(\"Assignment Model\")"
   ]
  },
  {
   "cell_type": "markdown",
   "id": "211044f0",
   "metadata": {},
   "source": [
    "### Introduce deficiency variables and binary variables"
   ]
  },
  {
   "cell_type": "code",
   "execution_count": 170,
   "id": "3f2fc7d9",
   "metadata": {},
   "outputs": [],
   "source": [
    "#Defining the Variable\n",
    "X = {}\n",
    "for i in range(n):\n",
    "    for j in range(m):\n",
    "        X[i,j] = model.addVar(vtype= GRB.BINARY)\n",
    "        \n",
    "d = {}\n",
    "for i in range(n):\n",
    "    for j in range(m):\n",
    "        d[i,j] = model.addVar(lb=0.0, ub=float('inf'), vtype= GRB.CONTINUOUS)"
   ]
  },
  {
   "cell_type": "markdown",
   "id": "30e9e0e9",
   "metadata": {},
   "source": [
    "### Define objective function as sum of deficiency variables"
   ]
  },
  {
   "cell_type": "code",
   "execution_count": 171,
   "id": "0b1a611d",
   "metadata": {},
   "outputs": [],
   "source": [
    "#Objective Function\n",
    "# model.setObjective(quicksum(a_ranks[i][j]*X[i,j] for i in range(n) for j in range(m)), GRB.MINIMIZE)\n",
    "model.setObjective(quicksum(d[i,j] for i in range(n) for j in range(m)), GRB.MINIMIZE)"
   ]
  },
  {
   "cell_type": "markdown",
   "id": "58dfdf2a",
   "metadata": {},
   "source": [
    "## First type of constraints"
   ]
  },
  {
   "cell_type": "markdown",
   "id": "9ba04bf5",
   "metadata": {},
   "source": [
    "### Define constraints"
   ]
  },
  {
   "cell_type": "code",
   "execution_count": 172,
   "id": "b9d6309a",
   "metadata": {},
   "outputs": [],
   "source": [
    "#Constraint-1\n",
    "for i in range(n):\n",
    "     model.addConstr(quicksum(X[i,j] for j in range(m)) <= 1)\n",
    "#Constraint-2\n",
    "for j in range(m):\n",
    "    model.addConstr(quicksum(X[i,j] for i in range(n)) <= upperQ[j])\n",
    "    \n",
    "#Constraint-3\n",
    "for j in range(m):\n",
    "    model.addConstr(quicksum(X[i,j] for i in range(n)) >= lowerQ[j])        \n",
    "\n",
    "# for i in range(n):\n",
    "#     for j in range(m):\n",
    "#         model.addConstr(quicksum(X[i,k] for k in range(m) if (a_ranks[i][k] <= a_ranks[i][j]))*upperQ[j] \\\n",
    "#                         + quicksum(X[h,j] for h in range(n) if c_score[h][j] > c_score[i][j]) >= upperQ[j])\n",
    "#Constraint-4\n",
    "for i in range(n):\n",
    "    for j in range(m):\n",
    "        model.addConstr(quicksum(X[i,k] for k in range(m) if (a_ranks[i][k] <= a_ranks[i][j]))*upperQ[j] \\\n",
    "                        + quicksum(X[h,j] for h in range(n) if c_score[h][j] >= c_score[i][j]) + d[i,j] \\\n",
    "                        >= upperQ[j])\n",
    "#Constraint-5    \n",
    "for i in range(n):\n",
    "    for j in range(m):\n",
    "        model.addConstr(X[i,j] >= 0)"
   ]
  },
  {
   "cell_type": "markdown",
   "id": "6608176a",
   "metadata": {},
   "source": [
    "### Solution"
   ]
  },
  {
   "cell_type": "code",
   "execution_count": 173,
   "id": "b31ea45e",
   "metadata": {},
   "outputs": [
    {
     "name": "stdout",
     "output_type": "stream",
     "text": [
      "Gurobi Optimizer version 9.1.2 build v9.1.2rc0 (mac64)\n",
      "Thread count: 8 physical cores, 8 logical processors, using up to 8 threads\n",
      "Optimize a model with 285 rows, 250 columns and 2675 nonzeros\n",
      "Model fingerprint: 0x974b45ac\n",
      "Variable types: 125 continuous, 125 integer (125 binary)\n",
      "Coefficient statistics:\n",
      "  Matrix range     [1e+00, 8e+00]\n",
      "  Objective range  [1e+00, 1e+00]\n",
      "  Bounds range     [1e+00, 1e+00]\n",
      "  RHS range        [1e+00, 7e+00]\n",
      "Found heuristic solution: objective 329.0000000\n",
      "Presolve removed 126 rows and 1 columns\n",
      "Presolve time: 0.01s\n",
      "Presolved: 159 rows, 249 columns, 2544 nonzeros\n",
      "Variable types: 0 continuous, 249 integer (125 binary)\n",
      "\n",
      "Root relaxation: objective 0.000000e+00, 132 iterations, 0.00 seconds\n",
      "\n",
      "    Nodes    |    Current Node    |     Objective Bounds      |     Work\n",
      " Expl Unexpl |  Obj  Depth IntInf | Incumbent    BestBd   Gap | It/Node Time\n",
      "\n",
      "     0     0    0.00000    0    4  329.00000    0.00000   100%     -    0s\n",
      "H    0     0                       3.0000000    0.00000   100%     -    0s\n",
      "H    0     0                       1.0000000    0.00000   100%     -    0s\n",
      "     0     0    0.00000    0    6    1.00000    0.00000   100%     -    0s\n",
      "\n",
      "Cutting planes:\n",
      "  MIR: 2\n",
      "\n",
      "Explored 1 nodes (230 simplex iterations) in 0.05 seconds\n",
      "Thread count was 8 (of 8 available processors)\n",
      "\n",
      "Solution count 3: 1 3 329 \n",
      "\n",
      "Optimal solution found (tolerance 1.00e-04)\n",
      "Best objective 1.000000000000e+00, best bound 1.000000000000e+00, gap 0.0000%\n"
     ]
    }
   ],
   "source": [
    "model.optimize()"
   ]
  },
  {
   "cell_type": "code",
   "execution_count": 174,
   "id": "a52eee53",
   "metadata": {},
   "outputs": [
    {
     "data": {
      "text/plain": [
       "array([[0., 0., 0., 1., 0.],\n",
       "       [0., 0., 1., 0., 0.],\n",
       "       [0., 0., 1., 0., 0.],\n",
       "       [0., 0., 0., 1., 0.],\n",
       "       [0., 0., 0., 0., 1.],\n",
       "       [0., 0., 0., 0., 1.],\n",
       "       [1., 0., 0., 0., 0.],\n",
       "       [0., 1., 0., 0., 0.],\n",
       "       [0., 0., 1., 0., 0.],\n",
       "       [0., 1., 0., 0., 0.],\n",
       "       [0., 1., 0., 0., 0.],\n",
       "       [0., 0., 1., 0., 0.],\n",
       "       [1., 0., 0., 0., 0.],\n",
       "       [0., 1., 0., 0., 0.],\n",
       "       [0., 0., 1., 0., 0.],\n",
       "       [1., 0., 0., 0., 0.],\n",
       "       [0., 0., 0., 1., 0.],\n",
       "       [0., 1., 0., 0., 0.],\n",
       "       [0., 0., 0., 0., 1.],\n",
       "       [0., 0., 0., 1., 0.],\n",
       "       [1., 0., 0., 0., 0.],\n",
       "       [0., 0., 0., 1., 0.],\n",
       "       [0., 0., 0., 0., 1.],\n",
       "       [0., 0., 0., 0., 1.],\n",
       "       [0., 0., 0., 0., 1.]])"
      ]
     },
     "execution_count": 174,
     "metadata": {},
     "output_type": "execute_result"
    }
   ],
   "source": [
    "res1 = np.array(model.X[:125]).reshape((n,m))\n",
    "res1"
   ]
  },
  {
   "cell_type": "code",
   "execution_count": 175,
   "id": "c2e457e5",
   "metadata": {},
   "outputs": [
    {
     "data": {
      "text/plain": [
       "array([[4, 2, 5, 1, 3],\n",
       "       [3, 4, 1, 2, 5],\n",
       "       [3, 2, 1, 5, 4],\n",
       "       [2, 3, 5, 1, 4],\n",
       "       [2, 5, 4, 3, 1],\n",
       "       [5, 3, 4, 2, 1],\n",
       "       [1, 5, 3, 4, 2],\n",
       "       [4, 1, 2, 3, 5],\n",
       "       [4, 3, 1, 5, 2],\n",
       "       [2, 1, 4, 3, 5],\n",
       "       [2, 1, 3, 5, 4],\n",
       "       [3, 2, 1, 5, 4],\n",
       "       [1, 3, 4, 5, 2],\n",
       "       [3, 1, 5, 4, 2],\n",
       "       [4, 5, 1, 3, 2],\n",
       "       [2, 3, 5, 4, 1],\n",
       "       [5, 2, 4, 1, 3],\n",
       "       [3, 1, 5, 4, 2],\n",
       "       [4, 3, 2, 5, 1],\n",
       "       [2, 3, 4, 1, 5],\n",
       "       [1, 5, 2, 4, 3],\n",
       "       [4, 3, 5, 1, 2],\n",
       "       [5, 2, 4, 3, 1],\n",
       "       [3, 4, 5, 2, 1],\n",
       "       [3, 4, 5, 2, 1]])"
      ]
     },
     "execution_count": 175,
     "metadata": {},
     "output_type": "execute_result"
    }
   ],
   "source": [
    "a_ranksTable = np.array(a_ranks).reshape((n,m))\n",
    "a_ranksTable"
   ]
  },
  {
   "cell_type": "markdown",
   "id": "5baecc4d",
   "metadata": {},
   "source": [
    "### Check how many students have  the choice that differs from initial one"
   ]
  },
  {
   "cell_type": "code",
   "execution_count": 176,
   "id": "27dd1a14",
   "metadata": {},
   "outputs": [],
   "source": [
    "checkMatch = [False for i in range(n)]\n",
    "for i in range(n):\n",
    "    if np.where(res1[i] == 1)[0][0] == np.where(a_ranksTable[i] == 1)[0][0]:\n",
    "        checkMatch[i] = True"
   ]
  },
  {
   "cell_type": "code",
   "execution_count": 177,
   "id": "99795de0",
   "metadata": {},
   "outputs": [
    {
     "data": {
      "text/plain": [
       "[True,\n",
       " True,\n",
       " True,\n",
       " True,\n",
       " True,\n",
       " True,\n",
       " True,\n",
       " True,\n",
       " True,\n",
       " True,\n",
       " True,\n",
       " True,\n",
       " True,\n",
       " True,\n",
       " True,\n",
       " False,\n",
       " True,\n",
       " True,\n",
       " True,\n",
       " True,\n",
       " True,\n",
       " True,\n",
       " True,\n",
       " True,\n",
       " True]"
      ]
     },
     "execution_count": 177,
     "metadata": {},
     "output_type": "execute_result"
    }
   ],
   "source": [
    "checkMatch"
   ]
  },
  {
   "cell_type": "code",
   "execution_count": 178,
   "id": "4b9de395",
   "metadata": {},
   "outputs": [
    {
     "data": {
      "text/plain": [
       "1"
      ]
     },
     "execution_count": 178,
     "metadata": {},
     "output_type": "execute_result"
    }
   ],
   "source": [
    "n - sum(checkMatch)"
   ]
  },
  {
   "cell_type": "markdown",
   "id": "eed11323",
   "metadata": {},
   "source": [
    "## Second type of constraints"
   ]
  },
  {
   "cell_type": "code",
   "execution_count": 210,
   "id": "aff69a5b",
   "metadata": {},
   "outputs": [],
   "source": [
    "model= Model(\"Assignment Model\")\n",
    "\n",
    "#Defining the Variable\n",
    "X = {}\n",
    "for i in range(n):\n",
    "    for j in range(m):\n",
    "        X[i,j] = model.addVar(vtype= GRB.BINARY)\n",
    "        \n",
    "d = {}\n",
    "for i in range(n):\n",
    "    for j in range(m):\n",
    "        d[i,j] = model.addVar(vtype= GRB.BINARY)\n",
    "        \n",
    "model.setObjective(quicksum(d[i,j] for i in range(n) for j in range(m)), GRB.MINIMIZE)"
   ]
  },
  {
   "cell_type": "code",
   "execution_count": 211,
   "id": "9777ef9d",
   "metadata": {},
   "outputs": [],
   "source": [
    "#Constraint-1\n",
    "for i in range(n):\n",
    "     model.addConstr(quicksum(X[i,j] for j in range(m)) <= 1)\n",
    "#Constraint-2\n",
    "for j in range(m):\n",
    "    model.addConstr(quicksum(X[i,j] for i in range(n)) <= upperQ[j])\n",
    "    \n",
    "#Constraint-3\n",
    "for j in range(m):\n",
    "    model.addConstr(quicksum(X[i,j] for i in range(n)) >= lowerQ[j])        \n",
    "\n",
    "# for i in range(n):\n",
    "#     for j in range(m):\n",
    "#         model.addConstr(quicksum(X[i,k] for k in range(m) if (a_ranks[i][k] <= a_ranks[i][j]))*upperQ[j] \\\n",
    "#                         + quicksum(X[h,j] for h in range(n) if c_score[h][j] > c_score[i][j]) >= upperQ[j])\n",
    "\n",
    "for i in range(n):\n",
    "    for j in range(m):\n",
    "        model.addConstr(quicksum(X[i,k] for k in range(m) if (a_ranks[i][k] <= a_ranks[i][j]))*upperQ[j] \\\n",
    "                        + quicksum(X[h,j] for h in range(n) if c_score[h][j] >= c_score[i][j])\\\n",
    "                        + d[i,j]*upperQ[j] >= upperQ[j])\n",
    "    \n",
    "for i in range(n):\n",
    "    for j in range(m):\n",
    "        model.addConstr(X[i,j] >= 0)"
   ]
  },
  {
   "cell_type": "code",
   "execution_count": 212,
   "id": "1257879e",
   "metadata": {},
   "outputs": [
    {
     "name": "stdout",
     "output_type": "stream",
     "text": [
      "Gurobi Optimizer version 9.1.2 build v9.1.2rc0 (mac64)\n",
      "Thread count: 8 physical cores, 8 logical processors, using up to 8 threads\n",
      "Optimize a model with 285 rows, 250 columns and 2657 nonzeros\n",
      "Model fingerprint: 0xb76cb43d\n",
      "Variable types: 0 continuous, 250 integer (250 binary)\n",
      "Coefficient statistics:\n",
      "  Matrix range     [1e+00, 8e+00]\n",
      "  Objective range  [1e+00, 1e+00]\n",
      "  Bounds range     [1e+00, 1e+00]\n",
      "  RHS range        [1e+00, 7e+00]\n",
      "Found heuristic solution: objective 73.0000000\n",
      "Presolve removed 135 rows and 10 columns\n",
      "Presolve time: 0.01s\n",
      "Presolved: 150 rows, 240 columns, 2389 nonzeros\n",
      "Variable types: 0 continuous, 240 integer (240 binary)\n",
      "\n",
      "Root relaxation: objective 0.000000e+00, 63 iterations, 0.00 seconds\n",
      "\n",
      "    Nodes    |    Current Node    |     Objective Bounds      |     Work\n",
      " Expl Unexpl |  Obj  Depth IntInf | Incumbent    BestBd   Gap | It/Node Time\n",
      "\n",
      "     0     0    0.00000    0   13   73.00000    0.00000   100%     -    0s\n",
      "H    0     0                       4.0000000    0.00000   100%     -    0s\n",
      "H    0     0                       3.0000000    0.00000   100%     -    0s\n",
      "H    0     0                       2.0000000    0.00000   100%     -    0s\n",
      "     0     0    0.00000    0   17    2.00000    0.00000   100%     -    0s\n",
      "     0     0    0.00000    0   15    2.00000    0.00000   100%     -    0s\n",
      "     0     0     cutoff    0         2.00000    2.00000  0.00%     -    0s\n",
      "\n",
      "Cutting planes:\n",
      "  Gomory: 2\n",
      "  Cover: 6\n",
      "  MIR: 13\n",
      "  StrongCG: 2\n",
      "  GUB cover: 1\n",
      "  RLT: 3\n",
      "\n",
      "Explored 1 nodes (295 simplex iterations) in 0.06 seconds\n",
      "Thread count was 8 (of 8 available processors)\n",
      "\n",
      "Solution count 4: 2 3 4 73 \n",
      "\n",
      "Optimal solution found (tolerance 1.00e-04)\n",
      "Best objective 2.000000000000e+00, best bound 2.000000000000e+00, gap 0.0000%\n"
     ]
    }
   ],
   "source": [
    "model.optimize()"
   ]
  },
  {
   "cell_type": "code",
   "execution_count": 213,
   "id": "4abc6a4e",
   "metadata": {},
   "outputs": [
    {
     "data": {
      "text/plain": [
       "array([[-0., -0., -0.,  1., -0.],\n",
       "       [-0., -0., -0.,  1., -0.],\n",
       "       [ 1., -0., -0., -0., -0.],\n",
       "       [-0., -0.,  1.,  0., -0.],\n",
       "       [-0., -0.,  1., -0., -0.],\n",
       "       [ 1., -0., -0., -0., -0.],\n",
       "       [-0., -0.,  1., -0., -0.],\n",
       "       [-0.,  1., -0., -0., -0.],\n",
       "       [-0., -0.,  1., -0., -0.],\n",
       "       [ 1., -0., -0., -0., -0.],\n",
       "       [-0.,  1., -0., -0., -0.],\n",
       "       [-0.,  1., -0., -0., -0.],\n",
       "       [-0.,  1., -0., -0., -0.],\n",
       "       [-0., -0., -0., -0.,  1.],\n",
       "       [-0., -0., -0., -0.,  1.],\n",
       "       [-0.,  1., -0., -0., -0.],\n",
       "       [-0., -0., -0.,  1., -0.],\n",
       "       [-0.,  1., -0., -0., -0.],\n",
       "       [ 1., -0., -0., -0., -0.],\n",
       "       [-0., -0.,  1., -0., -0.],\n",
       "       [-0., -0., -0.,  1., -0.],\n",
       "       [-0., -0.,  1., -0., -0.],\n",
       "       [-0., -0., -0., -0.,  1.],\n",
       "       [-0., -0., -0., -0.,  1.],\n",
       "       [-0.,  1., -0., -0., -0.]])"
      ]
     },
     "execution_count": 213,
     "metadata": {},
     "output_type": "execute_result"
    }
   ],
   "source": [
    "res2 = np.array(model.X[:125]).reshape((n,m))\n",
    "res2"
   ]
  },
  {
   "cell_type": "code",
   "execution_count": 214,
   "id": "68c14f3d",
   "metadata": {},
   "outputs": [
    {
     "data": {
      "text/plain": [
       "array([[5, 2, 4, 1, 3],\n",
       "       [3, 5, 2, 1, 4],\n",
       "       [1, 3, 5, 2, 4],\n",
       "       [5, 4, 1, 2, 3],\n",
       "       [2, 3, 1, 5, 4],\n",
       "       [2, 3, 1, 4, 5],\n",
       "       [3, 1, 2, 4, 5],\n",
       "       [4, 1, 3, 5, 2],\n",
       "       [4, 3, 1, 2, 5],\n",
       "       [1, 5, 4, 2, 3],\n",
       "       [2, 1, 5, 4, 3],\n",
       "       [2, 1, 3, 5, 4],\n",
       "       [5, 1, 3, 4, 2],\n",
       "       [4, 5, 3, 2, 1],\n",
       "       [5, 4, 2, 3, 1],\n",
       "       [5, 1, 2, 3, 4],\n",
       "       [3, 5, 2, 1, 4],\n",
       "       [5, 1, 4, 2, 3],\n",
       "       [1, 2, 4, 5, 3],\n",
       "       [2, 3, 1, 5, 4],\n",
       "       [2, 3, 5, 1, 4],\n",
       "       [5, 3, 1, 2, 4],\n",
       "       [5, 4, 3, 1, 2],\n",
       "       [4, 5, 3, 2, 1],\n",
       "       [3, 1, 5, 4, 2]])"
      ]
     },
     "execution_count": 214,
     "metadata": {},
     "output_type": "execute_result"
    }
   ],
   "source": [
    "a_ranksTable2 = np.array(a_ranks).reshape((n,m))\n",
    "a_ranksTable2"
   ]
  },
  {
   "cell_type": "code",
   "execution_count": 215,
   "id": "6872498e",
   "metadata": {},
   "outputs": [],
   "source": [
    "checkMatch2 = [False for i in range(n)]\n",
    "for i in range(n):\n",
    "    if np.where(res2[i] == 1)[0][0] == np.where(a_ranksTable2[i] == 1)[0][0]:\n",
    "        checkMatch2[i] = True"
   ]
  },
  {
   "cell_type": "code",
   "execution_count": 216,
   "id": "8551e164",
   "metadata": {},
   "outputs": [
    {
     "data": {
      "text/plain": [
       "3"
      ]
     },
     "execution_count": 216,
     "metadata": {},
     "output_type": "execute_result"
    }
   ],
   "source": [
    "n - sum(checkMatch2)"
   ]
  },
  {
   "cell_type": "markdown",
   "id": "2b2c1e01",
   "metadata": {},
   "source": [
    "### Define the function"
   ]
  },
  {
   "cell_type": "code",
   "execution_count": 237,
   "id": "da805a21",
   "metadata": {},
   "outputs": [],
   "source": [
    "def findAllocation(n, m, upperQ, lowerQ, a_ranks, c_score, typeConstr=1):\n",
    "    model= Model(\"Assignment Model\")\n",
    "    model.Params.LogToConsole = 0\n",
    "    \n",
    "    X = {}\n",
    "    for i in range(n):\n",
    "        for j in range(m):\n",
    "            X[i,j] = model.addVar(vtype= GRB.BINARY)\n",
    "            \n",
    "    if typeConstr == 1:        \n",
    "\n",
    "        d = {}\n",
    "        for i in range(n):\n",
    "            for j in range(m):\n",
    "                d[i,j] = model.addVar(lb=0.0, ub=float('inf'), vtype= GRB.CONTINUOUS)\n",
    "\n",
    "        model.setObjective(quicksum(d[i,j] for i in range(n) for j in range(m)), GRB.MINIMIZE)\n",
    "\n",
    "        #Constraint-1\n",
    "        for i in range(n):\n",
    "            model.addConstr(quicksum(X[i,j] for j in range(m)) <= 1)\n",
    "        #Constraint-2\n",
    "        for j in range(m):\n",
    "            model.addConstr(quicksum(X[i,j] for i in range(n)) <= upperQ[j])\n",
    "\n",
    "        #Constraint-3\n",
    "        for j in range(m):\n",
    "            model.addConstr(quicksum(X[i,j] for i in range(n)) >= lowerQ[j])        \n",
    "\n",
    "        # for i in range(n):\n",
    "        #     for j in range(m):\n",
    "        #         model.addConstr(quicksum(X[i,k] for k in range(m) if (a_ranks[i][k] <= a_ranks[i][j]))*upperQ[j] \\\n",
    "        #                         + quicksum(X[h,j] for h in range(n) if c_score[h][j] > c_score[i][j]) >= upperQ[j])\n",
    "    \n",
    "        #Constraint-4\n",
    "    \n",
    "        for i in range(n):\n",
    "            for j in range(m):\n",
    "                model.addConstr(quicksum(X[i,k] for k in range(m) if (a_ranks[i][k] <= a_ranks[i][j]))*upperQ[j] \\\n",
    "                                + quicksum(X[h,j] for h in range(n) if c_score[h][j] >= c_score[i][j]) + d[i,j] \\\n",
    "                                >= upperQ[j])\n",
    "                \n",
    "        #Constraint-5\n",
    "        for i in range(n):\n",
    "            for j in range(m):\n",
    "                model.addConstr(X[i,j] >= 0)\n",
    "                \n",
    "                \n",
    "    else:        \n",
    "        \n",
    "        d = {}\n",
    "        for i in range(n):\n",
    "            for j in range(m):\n",
    "                d[i,j] = model.addVar(vtype= GRB.BINARY)\n",
    "\n",
    "        model.setObjective(quicksum(d[i,j] for i in range(n) for j in range(m)), GRB.MINIMIZE)\n",
    "\n",
    "        #Constraint-1\n",
    "        for i in range(n):\n",
    "            model.addConstr(quicksum(X[i,j] for j in range(m)) <= 1)\n",
    "        #Constraint-2\n",
    "        for j in range(m):\n",
    "            model.addConstr(quicksum(X[i,j] for i in range(n)) <= upperQ[j])\n",
    "\n",
    "        #Constraint-3\n",
    "        for j in range(m):\n",
    "            model.addConstr(quicksum(X[i,j] for i in range(n)) >= lowerQ[j])        \n",
    "\n",
    "        # for i in range(n):\n",
    "        #     for j in range(m):\n",
    "        #         model.addConstr(quicksum(X[i,k] for k in range(m) if (a_ranks[i][k] <= a_ranks[i][j]))*upperQ[j] \\\n",
    "        #                         + quicksum(X[h,j] for h in range(n) if c_score[h][j] > c_score[i][j]) >= upperQ[j])\n",
    "       \n",
    "        #Constraint-4\n",
    "        for i in range(n):\n",
    "            for j in range(m):\n",
    "                model.addConstr(quicksum(X[i,k] for k in range(m) if (a_ranks[i][k] <= a_ranks[i][j]))*upperQ[j] \\\n",
    "                                + quicksum(X[h,j] for h in range(n) if c_score[h][j] >= c_score[i][j])\\\n",
    "                                + d[i,j]*upperQ[j] >= upperQ[j])        \n",
    "        #Constraint-5\n",
    "        for i in range(n):\n",
    "            for j in range(m):\n",
    "                model.addConstr(X[i,j] >= 0)\n",
    "            \n",
    "    model.optimize()\n",
    "    \n",
    "    res = np.array(model.X[:n*m]).reshape((n,m))\n",
    "    \n",
    "    return abs(res)"
   ]
  },
  {
   "cell_type": "code",
   "execution_count": 219,
   "id": "3f4f4089",
   "metadata": {},
   "outputs": [
    {
     "data": {
      "text/plain": [
       "array([[0., 0., 0., 1., 0.],\n",
       "       [0., 0., 0., 1., 0.],\n",
       "       [1., 0., 0., 0., 0.],\n",
       "       [0., 0., 1., 0., 0.],\n",
       "       [0., 0., 1., 0., 0.],\n",
       "       [1., 0., 0., 0., 0.],\n",
       "       [0., 0., 1., 0., 0.],\n",
       "       [0., 1., 0., 0., 0.],\n",
       "       [0., 0., 1., 0., 0.],\n",
       "       [1., 0., 0., 0., 0.],\n",
       "       [0., 1., 0., 0., 0.],\n",
       "       [0., 1., 0., 0., 0.],\n",
       "       [0., 1., 0., 0., 0.],\n",
       "       [0., 0., 0., 0., 1.],\n",
       "       [0., 0., 0., 0., 1.],\n",
       "       [0., 1., 0., 0., 0.],\n",
       "       [0., 0., 0., 1., 0.],\n",
       "       [0., 1., 0., 0., 0.],\n",
       "       [1., 0., 0., 0., 0.],\n",
       "       [0., 0., 1., 0., 0.],\n",
       "       [0., 0., 0., 1., 0.],\n",
       "       [0., 0., 1., 0., 0.],\n",
       "       [0., 0., 0., 0., 1.],\n",
       "       [0., 0., 0., 0., 1.],\n",
       "       [0., 1., 0., 0., 0.]])"
      ]
     },
     "execution_count": 219,
     "metadata": {},
     "output_type": "execute_result"
    }
   ],
   "source": [
    "res3 = findAllocation(n, m, upperQ, lowerQ, a_ranks, c_score, 2)\n",
    "res3"
   ]
  },
  {
   "cell_type": "markdown",
   "id": "7af01a6d",
   "metadata": {},
   "source": [
    "### Testing"
   ]
  },
  {
   "cell_type": "code",
   "execution_count": 238,
   "id": "b9dfef84",
   "metadata": {},
   "outputs": [],
   "source": [
    "def checkMatch(n, m, res, a_ranks):\n",
    "    a_ranksTable = np.array(a_ranks).reshape((n,m))\n",
    "    \n",
    "    checkMatch = [False for i in range(n)]\n",
    "    \n",
    "    for i in range(n):\n",
    "        if np.where(res[i] == 1)[0][0] == np.where(a_ranksTable[i] == 1)[0][0]:\n",
    "            checkMatch[i] = True\n",
    "\n",
    "    return (n - sum(checkMatch))  "
   ]
  },
  {
   "cell_type": "code",
   "execution_count": 221,
   "id": "a3d33594",
   "metadata": {},
   "outputs": [
    {
     "data": {
      "text/plain": [
       "3"
      ]
     },
     "execution_count": 221,
     "metadata": {},
     "output_type": "execute_result"
    }
   ],
   "source": [
    "checkMatch(n, m, res3, a_ranks)"
   ]
  },
  {
   "cell_type": "code",
   "execution_count": 260,
   "id": "2e486196",
   "metadata": {},
   "outputs": [],
   "source": [
    "test_size = 40\n",
    "\n",
    "n_array = np.sort([np.random.randint(25, 100) for i in range(test_size)])\n",
    "m_array = np.sort([np.random.randint(3, 10) for i in range(test_size)])"
   ]
  },
  {
   "cell_type": "code",
   "execution_count": 261,
   "id": "a6baf441",
   "metadata": {},
   "outputs": [],
   "source": [
    "#quotas\n",
    "upperQ = [list(np.random.randint(int(n_array[i]/m_array[i])+10, \\\n",
    "                                 int(n_array[i]/m_array[i])+50, size=m_array[i])) for i in range(test_size)]\n",
    "\n",
    "lowerQ = [list(np.random.randint(int(n_array[i]/m_array[i])-10, \\\n",
    "                                 int(n_array[i]/m_array[i]), size=m_array[i])) for i in range(test_size)]"
   ]
  },
  {
   "cell_type": "code",
   "execution_count": 262,
   "id": "35bdc40f",
   "metadata": {},
   "outputs": [],
   "source": [
    "#Students' ranks of companies\n",
    "a_ranks = [[random.sample(list(np.arange(m_array[j])+1), m_array[j]) for i in range(n_array[j])] for j in range(test_size)]\n",
    "\n",
    "#Companies' scores of students\n",
    "c_score = [np.array([np.random.randint(1, 10, size=n_array[k]) for j in range(m_array[k])]).T for k in range(test_size)]"
   ]
  },
  {
   "cell_type": "code",
   "execution_count": 263,
   "id": "342d37bb",
   "metadata": {},
   "outputs": [],
   "source": [
    "checkArray1 = []\n",
    "checkArray2 = []\n",
    "\n",
    "for i in range(test_size):\n",
    "#     print(i)\n",
    "    res1 = findAllocation(n_array[i], m_array[i], upperQ[i], lowerQ[i], a_ranks[i], c_score[i], 1)\n",
    "    checkRes1 = checkMatch(n_array[i], m_array[i], res1, a_ranks[i])\n",
    "    \n",
    "    checkArray1.append(checkRes1)\n",
    "    \n",
    "    res2 = findAllocation(n_array[i], m_array[i], upperQ[i], lowerQ[i], a_ranks[i], c_score[i], 2)\n",
    "    checkRes2 = checkMatch(n_array[i], m_array[i], res2, a_ranks[i])\n",
    "    \n",
    "    checkArray2.append(checkRes2)\n",
    "    "
   ]
  },
  {
   "cell_type": "code",
   "execution_count": 264,
   "id": "964fbebb",
   "metadata": {},
   "outputs": [
    {
     "data": {
      "text/plain": [
       "True"
      ]
     },
     "execution_count": 264,
     "metadata": {},
     "output_type": "execute_result"
    }
   ],
   "source": [
    "checkArray1 == checkArray2"
   ]
  },
  {
   "cell_type": "code",
   "execution_count": null,
   "id": "cffbe160",
   "metadata": {},
   "outputs": [],
   "source": []
  }
 ],
 "metadata": {
  "kernelspec": {
   "display_name": "Python 3",
   "language": "python",
   "name": "python3"
  },
  "language_info": {
   "codemirror_mode": {
    "name": "ipython",
    "version": 3
   },
   "file_extension": ".py",
   "mimetype": "text/x-python",
   "name": "python",
   "nbconvert_exporter": "python",
   "pygments_lexer": "ipython3",
   "version": "3.8.8"
  }
 },
 "nbformat": 4,
 "nbformat_minor": 5
}

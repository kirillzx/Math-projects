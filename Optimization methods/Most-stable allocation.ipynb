{
 "cells": [
  {
   "cell_type": "markdown",
   "id": "013df64a",
   "metadata": {},
   "source": [
    "# Most-stable allocation under distributional constraints\n",
    "### Kirill Zakharov\n",
    "2021"
   ]
  },
  {
   "cell_type": "code",
   "execution_count": 48,
   "id": "e865c9b2",
   "metadata": {},
   "outputs": [],
   "source": [
    "from gurobipy import *\n",
    "import numpy as np\n",
    "import random"
   ]
  },
  {
   "cell_type": "markdown",
   "id": "45cd3bed",
   "metadata": {},
   "source": [
    "### Introduce quotas and dimensional information"
   ]
  },
  {
   "cell_type": "code",
   "execution_count": 174,
   "id": "74dc9330",
   "metadata": {},
   "outputs": [],
   "source": [
    "# Defining Sets\n",
    "n = 25\n",
    "m = 5\n",
    "p = 3 #number of types\n",
    "\n",
    "students = [f\"st {i}\" for i in range(n)]\n",
    "jobs = [f\"comp {i}\" for i in range(m)]\n",
    "\n",
    "#quotas\n",
    "upperQ = list(np.random.randint(7, 8, size=m))\n",
    "lowerQ = list(np.random.randint(4, 5, size=m))\n",
    "\n",
    "lb_of_types = [np.random.randint(1, 2, size=p) for j in range(m)]\n",
    "ub_of_types = [np.random.randint(4, 5, size=p) for j in range(m)]\n",
    "\n",
    "applicants_types = np.random.randint(1, 4, size=n)"
   ]
  },
  {
   "cell_type": "code",
   "execution_count": 175,
   "id": "c154c608",
   "metadata": {},
   "outputs": [
    {
     "data": {
      "text/plain": [
       "array([4, 4, 4])"
      ]
     },
     "execution_count": 175,
     "metadata": {},
     "output_type": "execute_result"
    }
   ],
   "source": [
    "ub_of_types[0]"
   ]
  },
  {
   "cell_type": "code",
   "execution_count": 176,
   "id": "c8f7a4d1",
   "metadata": {},
   "outputs": [],
   "source": [
    "#Students' ranks of companies\n",
    "a_ranks = [random.sample(list(np.arange(m)+1), m) for i in range(n)]\n",
    "\n",
    "#Companies' scores of students\n",
    "c_score = np.array([np.random.randint(1, 10, size=n) for j in range(m)]).T"
   ]
  },
  {
   "cell_type": "code",
   "execution_count": 177,
   "id": "95a7d09c",
   "metadata": {},
   "outputs": [],
   "source": [
    "model= Model(\"Assignment Model\")"
   ]
  },
  {
   "cell_type": "markdown",
   "id": "211044f0",
   "metadata": {},
   "source": [
    "### Introduce deficiency variables and binary variables"
   ]
  },
  {
   "cell_type": "code",
   "execution_count": 178,
   "id": "3f2fc7d9",
   "metadata": {},
   "outputs": [],
   "source": [
    "#Defining the Variable\n",
    "X = {}\n",
    "for i in range(n):\n",
    "    for j in range(m):\n",
    "        X[i,j] = model.addVar(vtype= GRB.BINARY)\n",
    "        \n",
    "d = {}\n",
    "for i in range(n):\n",
    "    for j in range(m):\n",
    "        d[i,j] = model.addVar(lb=0.0, ub=float('inf'), vtype= GRB.CONTINUOUS)"
   ]
  },
  {
   "cell_type": "markdown",
   "id": "30e9e0e9",
   "metadata": {},
   "source": [
    "### Define objective function as sum of deficiency variables"
   ]
  },
  {
   "cell_type": "code",
   "execution_count": 179,
   "id": "0b1a611d",
   "metadata": {},
   "outputs": [],
   "source": [
    "#Objective Function\n",
    "# model.setObjective(quicksum(a_ranks[i][j]*X[i,j] for i in range(n) for j in range(m)), GRB.MINIMIZE)\n",
    "model.setObjective(quicksum(d[i,j] for i in range(n) for j in range(m)), GRB.MINIMIZE)"
   ]
  },
  {
   "cell_type": "markdown",
   "id": "58dfdf2a",
   "metadata": {},
   "source": [
    "## First type of constraints"
   ]
  },
  {
   "cell_type": "markdown",
   "id": "9ba04bf5",
   "metadata": {},
   "source": [
    "### Define constraints"
   ]
  },
  {
   "cell_type": "code",
   "execution_count": 180,
   "id": "b9d6309a",
   "metadata": {},
   "outputs": [],
   "source": [
    "#Constraint-1\n",
    "for i in range(n):\n",
    "     model.addConstr(quicksum(X[i,j] for j in range(m)) <= 1)\n",
    "#Constraint-2\n",
    "for j in range(m):\n",
    "    model.addConstr(quicksum(X[i,j] for i in range(n)) <= upperQ[j])\n",
    "    \n",
    "#Constraint-3\n",
    "for j in range(m):\n",
    "    model.addConstr(quicksum(X[i,j] for i in range(n)) >= lowerQ[j])        \n",
    "\n",
    "# for i in range(n):\n",
    "#     for j in range(m):\n",
    "#         model.addConstr(quicksum(X[i,k] for k in range(m) if (a_ranks[i][k] <= a_ranks[i][j]))*upperQ[j] \\\n",
    "#                         + quicksum(X[h,j] for h in range(n) if c_score[h][j] > c_score[i][j]) >= upperQ[j])\n",
    "#Constraint-4\n",
    "for i in range(n):\n",
    "    for j in range(m):\n",
    "        model.addConstr(quicksum(X[i,k] for k in range(m) if (a_ranks[i][k] <= a_ranks[i][j]))*upperQ[j] \\\n",
    "                        + quicksum(X[h,j] for h in range(n) if c_score[h][j] >= c_score[i][j]) + d[i,j] \\\n",
    "                        >= upperQ[j])\n",
    "#Constraint-5    \n",
    "for i in range(n):\n",
    "    for j in range(m):\n",
    "        model.addConstr(X[i,j] >= 0)\n",
    "        \n",
    "#Constraint-6\n",
    "for j in range(m):\n",
    "    for l in range(p):\n",
    "        model.addConstr(quicksum(X[i,j] for i in range(n) if applicants_types[i] == l+1) <= ub_of_types[j][l])\n",
    "        \n",
    "#Constraint-7\n",
    "for j in range(m):\n",
    "    for l in range(p):\n",
    "        model.addConstr(quicksum(X[i,j] for i in range(n) if applicants_types[i] == l+1) >= lb_of_types[j][l])"
   ]
  },
  {
   "cell_type": "markdown",
   "id": "6608176a",
   "metadata": {},
   "source": [
    "### Solution"
   ]
  },
  {
   "cell_type": "code",
   "execution_count": 181,
   "id": "b31ea45e",
   "metadata": {},
   "outputs": [
    {
     "name": "stdout",
     "output_type": "stream",
     "text": [
      "Gurobi Optimizer version 9.1.2 build v9.1.2rc0 (mac64)\n",
      "Thread count: 8 physical cores, 8 logical processors, using up to 8 threads\n",
      "Optimize a model with 315 rows, 250 columns and 2926 nonzeros\n",
      "Model fingerprint: 0xad08b156\n",
      "Variable types: 125 continuous, 125 integer (125 binary)\n",
      "Coefficient statistics:\n",
      "  Matrix range     [1e+00, 8e+00]\n",
      "  Objective range  [1e+00, 1e+00]\n",
      "  Bounds range     [1e+00, 1e+00]\n",
      "  RHS range        [1e+00, 7e+00]\n",
      "Found heuristic solution: objective 305.0000000\n",
      "Presolve removed 127 rows and 2 columns\n",
      "Presolve time: 0.01s\n",
      "Presolved: 188 rows, 248 columns, 2797 nonzeros\n",
      "Variable types: 0 continuous, 248 integer (127 binary)\n",
      "\n",
      "Root relaxation: objective 0.000000e+00, 155 iterations, 0.00 seconds\n",
      "\n",
      "    Nodes    |    Current Node    |     Objective Bounds      |     Work\n",
      " Expl Unexpl |  Obj  Depth IntInf | Incumbent    BestBd   Gap | It/Node Time\n",
      "\n",
      "     0     0    0.00000    0   27  305.00000    0.00000   100%     -    0s\n",
      "H    0     0                      33.0000000    0.00000   100%     -    0s\n",
      "H    0     0                      28.0000000    0.00000   100%     -    0s\n",
      "H    0     0                      26.0000000    0.00000   100%     -    0s\n",
      "H    0     0                      21.0000000    0.00000   100%     -    0s\n",
      "     0     0    3.55847    0   46   21.00000    3.55847  83.1%     -    0s\n",
      "     0     0    4.00000    0   37   21.00000    4.00000  81.0%     -    0s\n",
      "     0     0    4.00000    0   36   21.00000    4.00000  81.0%     -    0s\n",
      "H    0     0                      17.0000000    4.00000  76.5%     -    0s\n",
      "     0     0    4.54011    0   57   17.00000    4.54011  73.3%     -    0s\n",
      "     0     0    5.69026    0   61   17.00000    5.69026  66.5%     -    0s\n",
      "H    0     0                      14.0000000    5.69026  59.4%     -    0s\n",
      "     0     0    6.49169    0   63   14.00000    6.49169  53.6%     -    0s\n",
      "     0     0    6.64643    0   61   14.00000    6.64643  52.5%     -    0s\n",
      "     0     0    6.75977    0   65   14.00000    6.75977  51.7%     -    0s\n",
      "     0     0    6.76580    0   66   14.00000    6.76580  51.7%     -    0s\n",
      "H    0     0                      12.0000000    6.76580  43.6%     -    0s\n",
      "     0     0   10.15295    0   53   12.00000   10.15295  15.4%     -    0s\n",
      "     0     0   10.42338    0   58   12.00000   10.42338  13.1%     -    0s\n",
      "     0     0   10.45433    0   55   12.00000   10.45433  12.9%     -    0s\n",
      "     0     0   10.45804    0   57   12.00000   10.45804  12.8%     -    0s\n",
      "     0     0   10.70883    0   32   12.00000   10.70883  10.8%     -    0s\n",
      "\n",
      "Cutting planes:\n",
      "  Gomory: 3\n",
      "  Cover: 5\n",
      "  Implied bound: 7\n",
      "  MIR: 35\n",
      "  RLT: 16\n",
      "  Relax-and-lift: 1\n",
      "\n",
      "Explored 1 nodes (862 simplex iterations) in 0.13 seconds\n",
      "Thread count was 8 (of 8 available processors)\n",
      "\n",
      "Solution count 8: 12 14 17 ... 305\n",
      "\n",
      "Optimal solution found (tolerance 1.00e-04)\n",
      "Best objective 1.200000000000e+01, best bound 1.200000000000e+01, gap 0.0000%\n"
     ]
    }
   ],
   "source": [
    "model.optimize()"
   ]
  },
  {
   "cell_type": "code",
   "execution_count": 182,
   "id": "a52eee53",
   "metadata": {},
   "outputs": [
    {
     "data": {
      "text/plain": [
       "array([[-0., -0.,  1., -0., -0.],\n",
       "       [ 0., -0., -0.,  1.,  0.],\n",
       "       [-0., -0., -0., -0.,  1.],\n",
       "       [ 1., -0., -0., -0., -0.],\n",
       "       [-0., -0., -0., -0.,  1.],\n",
       "       [ 1., -0., -0., -0., -0.],\n",
       "       [-0., -0., -0.,  1., -0.],\n",
       "       [-0., -0., -0.,  1., -0.],\n",
       "       [-0.,  1., -0., -0., -0.],\n",
       "       [-0., -0.,  1., -0., -0.],\n",
       "       [-0., -0., -0., -0.,  1.],\n",
       "       [-0., -0., -0., -0.,  1.],\n",
       "       [-0., -0.,  1., -0., -0.],\n",
       "       [-0., -0.,  1., -0., -0.],\n",
       "       [ 1., -0., -0., -0., -0.],\n",
       "       [-0.,  0.,  1., -0., -0.],\n",
       "       [-0.,  1., -0., -0., -0.],\n",
       "       [-0.,  1.,  0., -0.,  0.],\n",
       "       [ 1., -0.,  0., -0., -0.],\n",
       "       [ 1., -0., -0., -0., -0.],\n",
       "       [-0.,  0.,  1.,  0., -0.],\n",
       "       [-0., -0., -0.,  1., -0.],\n",
       "       [-0.,  1., -0., -0.,  0.],\n",
       "       [-0., -0., -0., -0.,  1.],\n",
       "       [-0., -0., -0.,  0.,  1.]])"
      ]
     },
     "execution_count": 182,
     "metadata": {},
     "output_type": "execute_result"
    }
   ],
   "source": [
    "res1 = np.array(model.X[:125]).reshape((n,m))\n",
    "res1"
   ]
  },
  {
   "cell_type": "code",
   "execution_count": 183,
   "id": "c2e457e5",
   "metadata": {},
   "outputs": [
    {
     "data": {
      "text/plain": [
       "array([[2, 5, 1, 4, 3],\n",
       "       [3, 4, 5, 2, 1],\n",
       "       [4, 3, 5, 2, 1],\n",
       "       [1, 3, 2, 5, 4],\n",
       "       [4, 5, 2, 3, 1],\n",
       "       [1, 4, 3, 2, 5],\n",
       "       [2, 5, 4, 1, 3],\n",
       "       [2, 3, 5, 1, 4],\n",
       "       [5, 1, 2, 3, 4],\n",
       "       [3, 5, 1, 4, 2],\n",
       "       [5, 2, 4, 3, 1],\n",
       "       [3, 4, 2, 5, 1],\n",
       "       [4, 5, 1, 3, 2],\n",
       "       [5, 4, 1, 2, 3],\n",
       "       [1, 2, 4, 5, 3],\n",
       "       [5, 2, 1, 3, 4],\n",
       "       [3, 1, 4, 5, 2],\n",
       "       [3, 2, 5, 4, 1],\n",
       "       [2, 5, 1, 3, 4],\n",
       "       [1, 4, 5, 3, 2],\n",
       "       [4, 2, 1, 3, 5],\n",
       "       [5, 2, 4, 1, 3],\n",
       "       [4, 1, 3, 5, 2],\n",
       "       [5, 4, 3, 2, 1],\n",
       "       [5, 4, 1, 2, 3]])"
      ]
     },
     "execution_count": 183,
     "metadata": {},
     "output_type": "execute_result"
    }
   ],
   "source": [
    "a_ranksTable = np.array(a_ranks).reshape((n,m))\n",
    "a_ranksTable"
   ]
  },
  {
   "cell_type": "markdown",
   "id": "5baecc4d",
   "metadata": {},
   "source": [
    "### Check how many students have  the choice that differs from initial one"
   ]
  },
  {
   "cell_type": "code",
   "execution_count": 184,
   "id": "27dd1a14",
   "metadata": {},
   "outputs": [],
   "source": [
    "checkMatch = [False for i in range(n)]\n",
    "for i in range(n):\n",
    "    if np.where(res1[i] == 1)[0][0] == np.where(a_ranksTable[i] == 1)[0][0]:\n",
    "        checkMatch[i] = True"
   ]
  },
  {
   "cell_type": "code",
   "execution_count": 185,
   "id": "99795de0",
   "metadata": {},
   "outputs": [
    {
     "data": {
      "text/plain": [
       "[True,\n",
       " False,\n",
       " True,\n",
       " True,\n",
       " True,\n",
       " True,\n",
       " True,\n",
       " True,\n",
       " True,\n",
       " True,\n",
       " True,\n",
       " True,\n",
       " True,\n",
       " True,\n",
       " True,\n",
       " True,\n",
       " True,\n",
       " False,\n",
       " False,\n",
       " True,\n",
       " True,\n",
       " True,\n",
       " True,\n",
       " True,\n",
       " False]"
      ]
     },
     "execution_count": 185,
     "metadata": {},
     "output_type": "execute_result"
    }
   ],
   "source": [
    "checkMatch"
   ]
  },
  {
   "cell_type": "code",
   "execution_count": 186,
   "id": "4b9de395",
   "metadata": {},
   "outputs": [
    {
     "data": {
      "text/plain": [
       "4"
      ]
     },
     "execution_count": 186,
     "metadata": {},
     "output_type": "execute_result"
    }
   ],
   "source": [
    "n - sum(checkMatch)"
   ]
  },
  {
   "cell_type": "markdown",
   "id": "eed11323",
   "metadata": {},
   "source": [
    "## Second type of constraints"
   ]
  },
  {
   "cell_type": "code",
   "execution_count": 187,
   "id": "aff69a5b",
   "metadata": {},
   "outputs": [],
   "source": [
    "model= Model(\"Assignment Model\")\n",
    "\n",
    "#Defining the Variable\n",
    "X = {}\n",
    "for i in range(n):\n",
    "    for j in range(m):\n",
    "        X[i,j] = model.addVar(vtype= GRB.BINARY)\n",
    "        \n",
    "d = {}\n",
    "for i in range(n):\n",
    "    for j in range(m):\n",
    "        d[i,j] = model.addVar(vtype= GRB.BINARY)\n",
    "        \n",
    "model.setObjective(quicksum(d[i,j] for i in range(n) for j in range(m)), GRB.MINIMIZE)"
   ]
  },
  {
   "cell_type": "code",
   "execution_count": 188,
   "id": "9777ef9d",
   "metadata": {},
   "outputs": [],
   "source": [
    "#Constraint-1\n",
    "for i in range(n):\n",
    "     model.addConstr(quicksum(X[i,j] for j in range(m)) <= 1)\n",
    "#Constraint-2\n",
    "for j in range(m):\n",
    "    model.addConstr(quicksum(X[i,j] for i in range(n)) <= upperQ[j])\n",
    "    \n",
    "#Constraint-3\n",
    "for j in range(m):\n",
    "    model.addConstr(quicksum(X[i,j] for i in range(n)) >= lowerQ[j])        \n",
    "\n",
    "# for i in range(n):\n",
    "#     for j in range(m):\n",
    "#         model.addConstr(quicksum(X[i,k] for k in range(m) if (a_ranks[i][k] <= a_ranks[i][j]))*upperQ[j] \\\n",
    "#                         + quicksum(X[h,j] for h in range(n) if c_score[h][j] > c_score[i][j]) >= upperQ[j])\n",
    "\n",
    "for i in range(n):\n",
    "    for j in range(m):\n",
    "        model.addConstr(quicksum(X[i,k] for k in range(m) if (a_ranks[i][k] <= a_ranks[i][j]))*upperQ[j] \\\n",
    "                        + quicksum(X[h,j] for h in range(n) if c_score[h][j] >= c_score[i][j])\\\n",
    "                        + d[i,j]*upperQ[j] >= upperQ[j])\n",
    "    \n",
    "for i in range(n):\n",
    "    for j in range(m):\n",
    "        model.addConstr(X[i,j] >= 0)\n",
    "        \n",
    "#Constraint-6\n",
    "for j in range(m):\n",
    "    for l in range(p):\n",
    "        model.addConstr(quicksum(X[i,j] for i in range(n) if applicants_types[i] == l+1) <= ub_of_types[j][l])\n",
    "        \n",
    "#Constraint-7\n",
    "for j in range(m):\n",
    "    for l in range(p):\n",
    "        model.addConstr(quicksum(X[i,j] for i in range(n) if applicants_types[i] == l+1) >= lb_of_types[j][l])        "
   ]
  },
  {
   "cell_type": "code",
   "execution_count": 189,
   "id": "1257879e",
   "metadata": {},
   "outputs": [
    {
     "name": "stdout",
     "output_type": "stream",
     "text": [
      "Gurobi Optimizer version 9.1.2 build v9.1.2rc0 (mac64)\n",
      "Thread count: 8 physical cores, 8 logical processors, using up to 8 threads\n",
      "Optimize a model with 315 rows, 250 columns and 2926 nonzeros\n",
      "Model fingerprint: 0xdd9660be\n",
      "Variable types: 0 continuous, 250 integer (250 binary)\n",
      "Coefficient statistics:\n",
      "  Matrix range     [1e+00, 8e+00]\n",
      "  Objective range  [1e+00, 1e+00]\n",
      "  Bounds range     [1e+00, 1e+00]\n",
      "  RHS range        [1e+00, 7e+00]\n",
      "Found heuristic solution: objective 64.0000000\n",
      "Presolve removed 136 rows and 11 columns\n",
      "Presolve time: 0.01s\n",
      "Presolved: 179 rows, 239 columns, 2641 nonzeros\n",
      "Variable types: 0 continuous, 239 integer (239 binary)\n",
      "\n",
      "Root relaxation: objective 1.000000e+00, 91 iterations, 0.00 seconds\n",
      "\n",
      "    Nodes    |    Current Node    |     Objective Bounds      |     Work\n",
      " Expl Unexpl |  Obj  Depth IntInf | Incumbent    BestBd   Gap | It/Node Time\n",
      "\n",
      "     0     0    1.00000    0   18   64.00000    1.00000  98.4%     -    0s\n",
      "H    0     0                       5.0000000    1.00000  80.0%     -    0s\n",
      "     0     0    1.00000    0   33    5.00000    1.00000  80.0%     -    0s\n",
      "     0     0    1.00000    0   33    5.00000    1.00000  80.0%     -    0s\n",
      "     0     0    1.86946    0   43    5.00000    1.86946  62.6%     -    0s\n",
      "H    0     0                       4.0000000    1.86946  53.3%     -    0s\n",
      "     0     0    2.06204    0   28    4.00000    2.06204  48.4%     -    0s\n",
      "     0     0    2.13618    0   49    4.00000    2.13618  46.6%     -    0s\n",
      "     0     0    2.15108    0   48    4.00000    2.15108  46.2%     -    0s\n",
      "     0     0    2.15647    0   44    4.00000    2.15647  46.1%     -    0s\n",
      "     0     0    2.52669    0   29    4.00000    2.52669  36.8%     -    0s\n",
      "     0     0    2.52669    0   19    4.00000    2.52669  36.8%     -    0s\n",
      "     0     0    2.52669    0   25    4.00000    2.52669  36.8%     -    0s\n",
      "     0     0    2.52669    0   21    4.00000    2.52669  36.8%     -    0s\n",
      "     0     0    2.56593    0   24    4.00000    2.56593  35.9%     -    0s\n",
      "     0     0    2.56667    0   21    4.00000    2.56667  35.8%     -    0s\n",
      "     0     0    2.59524    0   13    4.00000    2.59524  35.1%     -    0s\n",
      "     0     0    2.69565    0   13    4.00000    2.69565  32.6%     -    0s\n",
      "     0     0    2.72581    0   23    4.00000    2.72581  31.9%     -    0s\n",
      "     0     0    4.00000    0   17    4.00000    4.00000  0.00%     -    0s\n",
      "\n",
      "Cutting planes:\n",
      "  Gomory: 2\n",
      "  Cover: 7\n",
      "  MIR: 19\n",
      "  GUB cover: 2\n",
      "  RLT: 2\n",
      "\n",
      "Explored 1 nodes (615 simplex iterations) in 0.11 seconds\n",
      "Thread count was 8 (of 8 available processors)\n",
      "\n",
      "Solution count 3: 4 5 64 \n",
      "\n",
      "Optimal solution found (tolerance 1.00e-04)\n",
      "Best objective 4.000000000000e+00, best bound 4.000000000000e+00, gap 0.0000%\n"
     ]
    }
   ],
   "source": [
    "model.optimize()"
   ]
  },
  {
   "cell_type": "code",
   "execution_count": 190,
   "id": "4abc6a4e",
   "metadata": {},
   "outputs": [
    {
     "data": {
      "text/plain": [
       "array([[1., 0., 0., 0., 0.],\n",
       "       [0., 0., 0., 1., 0.],\n",
       "       [0., 0., 0., 0., 1.],\n",
       "       [1., 0., 0., 0., 0.],\n",
       "       [0., 0., 0., 0., 1.],\n",
       "       [1., 0., 0., 0., 0.],\n",
       "       [0., 0., 0., 1., 0.],\n",
       "       [0., 0., 0., 1., 0.],\n",
       "       [0., 1., 0., 0., 0.],\n",
       "       [0., 0., 1., 0., 0.],\n",
       "       [0., 0., 0., 0., 1.],\n",
       "       [0., 0., 0., 0., 1.],\n",
       "       [0., 0., 1., 0., 0.],\n",
       "       [0., 0., 1., 0., 0.],\n",
       "       [1., 0., 0., 0., 0.],\n",
       "       [0., 0., 1., 0., 0.],\n",
       "       [0., 1., 0., 0., 0.],\n",
       "       [0., 0., 0., 0., 1.],\n",
       "       [0., 0., 1., 0., 0.],\n",
       "       [1., 0., 0., 0., 0.],\n",
       "       [0., 1., 0., 0., 0.],\n",
       "       [0., 0., 0., 1., 0.],\n",
       "       [0., 1., 0., 0., 0.],\n",
       "       [0., 0., 0., 0., 1.],\n",
       "       [0., 0., 0., 0., 1.]])"
      ]
     },
     "execution_count": 190,
     "metadata": {},
     "output_type": "execute_result"
    }
   ],
   "source": [
    "res2 = np.array(model.X[:125]).reshape((n,m))\n",
    "abs(res2)"
   ]
  },
  {
   "cell_type": "code",
   "execution_count": 191,
   "id": "68c14f3d",
   "metadata": {},
   "outputs": [
    {
     "data": {
      "text/plain": [
       "array([[2, 5, 1, 4, 3],\n",
       "       [3, 4, 5, 2, 1],\n",
       "       [4, 3, 5, 2, 1],\n",
       "       [1, 3, 2, 5, 4],\n",
       "       [4, 5, 2, 3, 1],\n",
       "       [1, 4, 3, 2, 5],\n",
       "       [2, 5, 4, 1, 3],\n",
       "       [2, 3, 5, 1, 4],\n",
       "       [5, 1, 2, 3, 4],\n",
       "       [3, 5, 1, 4, 2],\n",
       "       [5, 2, 4, 3, 1],\n",
       "       [3, 4, 2, 5, 1],\n",
       "       [4, 5, 1, 3, 2],\n",
       "       [5, 4, 1, 2, 3],\n",
       "       [1, 2, 4, 5, 3],\n",
       "       [5, 2, 1, 3, 4],\n",
       "       [3, 1, 4, 5, 2],\n",
       "       [3, 2, 5, 4, 1],\n",
       "       [2, 5, 1, 3, 4],\n",
       "       [1, 4, 5, 3, 2],\n",
       "       [4, 2, 1, 3, 5],\n",
       "       [5, 2, 4, 1, 3],\n",
       "       [4, 1, 3, 5, 2],\n",
       "       [5, 4, 3, 2, 1],\n",
       "       [5, 4, 1, 2, 3]])"
      ]
     },
     "execution_count": 191,
     "metadata": {},
     "output_type": "execute_result"
    }
   ],
   "source": [
    "a_ranksTable2 = np.array(a_ranks).reshape((n,m))\n",
    "a_ranksTable2"
   ]
  },
  {
   "cell_type": "code",
   "execution_count": 192,
   "id": "6872498e",
   "metadata": {},
   "outputs": [],
   "source": [
    "checkMatch2 = [False for i in range(n)]\n",
    "for i in range(n):\n",
    "    if np.where(res2[i] == 1)[0][0] == np.where(a_ranksTable2[i] == 1)[0][0]:\n",
    "        checkMatch2[i] = True"
   ]
  },
  {
   "cell_type": "code",
   "execution_count": 193,
   "id": "8551e164",
   "metadata": {},
   "outputs": [
    {
     "data": {
      "text/plain": [
       "4"
      ]
     },
     "execution_count": 193,
     "metadata": {},
     "output_type": "execute_result"
    }
   ],
   "source": [
    "n - sum(checkMatch2)"
   ]
  },
  {
   "cell_type": "markdown",
   "id": "2b2c1e01",
   "metadata": {},
   "source": [
    "### Define the function"
   ]
  },
  {
   "cell_type": "code",
   "execution_count": 147,
   "id": "da805a21",
   "metadata": {},
   "outputs": [],
   "source": [
    "def findAllocation(n, m, p, upperQ, lowerQ, a_ranks, c_score, lb_of_types, ub_of_types, applicants_types, typeConstr=1):\n",
    "    model= Model(\"Assignment Model\")\n",
    "    model.Params.LogToConsole = 0\n",
    "    \n",
    "    X = {}\n",
    "    for i in range(n):\n",
    "        for j in range(m):\n",
    "            X[i,j] = model.addVar(vtype= GRB.BINARY)\n",
    "            \n",
    "    if typeConstr == 1:        \n",
    "\n",
    "        d = {}\n",
    "        for i in range(n):\n",
    "            for j in range(m):\n",
    "                d[i,j] = model.addVar(lb=0.0, ub=float('inf'), vtype= GRB.CONTINUOUS)\n",
    "\n",
    "        model.setObjective(quicksum(d[i,j] for i in range(n) for j in range(m)), GRB.MINIMIZE)\n",
    "\n",
    "        #Constraint-1\n",
    "        for i in range(n):\n",
    "            model.addConstr(quicksum(X[i,j] for j in range(m)) <= 1)\n",
    "        #Constraint-2\n",
    "        for j in range(m):\n",
    "            model.addConstr(quicksum(X[i,j] for i in range(n)) <= upperQ[j])\n",
    "\n",
    "        #Constraint-3\n",
    "        for j in range(m):\n",
    "            model.addConstr(quicksum(X[i,j] for i in range(n)) >= lowerQ[j])        \n",
    "\n",
    "        # for i in range(n):\n",
    "        #     for j in range(m):\n",
    "        #         model.addConstr(quicksum(X[i,k] for k in range(m) if (a_ranks[i][k] <= a_ranks[i][j]))*upperQ[j] \\\n",
    "        #                         + quicksum(X[h,j] for h in range(n) if c_score[h][j] > c_score[i][j]) >= upperQ[j])\n",
    "    \n",
    "        #Constraint-4\n",
    "    \n",
    "        for i in range(n):\n",
    "            for j in range(m):\n",
    "                model.addConstr(quicksum(X[i,k] for k in range(m) if (a_ranks[i][k] <= a_ranks[i][j]))*upperQ[j] \\\n",
    "                                + quicksum(X[h,j] for h in range(n) if c_score[h][j] >= c_score[i][j]) + d[i,j] \\\n",
    "                                >= upperQ[j])\n",
    "                \n",
    "        #Constraint-5\n",
    "        for i in range(n):\n",
    "            for j in range(m):\n",
    "                model.addConstr(X[i,j] >= 0)\n",
    "                \n",
    "        #Constraint-6\n",
    "        for j in range(m):\n",
    "            for l in range(p):\n",
    "                model.addConstr(quicksum(X[i,j] for i in range(n) if applicants_types[i] == l+1) <= ub_of_types[j][l])\n",
    "\n",
    "        #Constraint-7\n",
    "        for j in range(m):\n",
    "            for l in range(p):\n",
    "                model.addConstr(quicksum(X[i,j] for i in range(n) if applicants_types[i] == l+1) >= lb_of_types[j][l])        \n",
    "                \n",
    "                \n",
    "    else:        \n",
    "        \n",
    "        d = {}\n",
    "        for i in range(n):\n",
    "            for j in range(m):\n",
    "                d[i,j] = model.addVar(vtype= GRB.BINARY)\n",
    "\n",
    "        model.setObjective(quicksum(d[i,j] for i in range(n) for j in range(m)), GRB.MINIMIZE)\n",
    "\n",
    "        #Constraint-1\n",
    "        for i in range(n):\n",
    "            model.addConstr(quicksum(X[i,j] for j in range(m)) <= 1)\n",
    "        #Constraint-2\n",
    "        for j in range(m):\n",
    "            model.addConstr(quicksum(X[i,j] for i in range(n)) <= upperQ[j])\n",
    "\n",
    "        #Constraint-3\n",
    "        for j in range(m):\n",
    "            model.addConstr(quicksum(X[i,j] for i in range(n)) >= lowerQ[j])        \n",
    "\n",
    "        # for i in range(n):\n",
    "        #     for j in range(m):\n",
    "        #         model.addConstr(quicksum(X[i,k] for k in range(m) if (a_ranks[i][k] <= a_ranks[i][j]))*upperQ[j] \\\n",
    "        #                         + quicksum(X[h,j] for h in range(n) if c_score[h][j] > c_score[i][j]) >= upperQ[j])\n",
    "       \n",
    "        #Constraint-4\n",
    "        for i in range(n):\n",
    "            for j in range(m):\n",
    "                model.addConstr(quicksum(X[i,k] for k in range(m) if (a_ranks[i][k] <= a_ranks[i][j]))*upperQ[j] \\\n",
    "                                + quicksum(X[h,j] for h in range(n) if c_score[h][j] >= c_score[i][j])\\\n",
    "                                + d[i,j]*upperQ[j] >= upperQ[j])        \n",
    "        #Constraint-5\n",
    "        for i in range(n):\n",
    "            for j in range(m):\n",
    "                model.addConstr(X[i,j] >= 0)\n",
    "                \n",
    "        #Constraint-6\n",
    "        for j in range(m):\n",
    "            for l in range(p):\n",
    "                model.addConstr(quicksum(X[i,j] for i in range(n) if applicants_types[i] == l+1) <= ub_of_types[j][l])\n",
    "\n",
    "        #Constraint-7\n",
    "        for j in range(m):\n",
    "            for l in range(p):\n",
    "                model.addConstr(quicksum(X[i,j] for i in range(n) if applicants_types[i] == l+1) >= lb_of_types[j][l])        \n",
    "            \n",
    "    model.optimize()\n",
    "    \n",
    "    res = np.array(model.X[:n*m]).reshape((n,m))\n",
    "    \n",
    "    return abs(res)"
   ]
  },
  {
   "cell_type": "code",
   "execution_count": 194,
   "id": "3f4f4089",
   "metadata": {},
   "outputs": [
    {
     "data": {
      "text/plain": [
       "array([[1., 0., 0., 0., 0.],\n",
       "       [0., 0., 0., 1., 0.],\n",
       "       [0., 0., 0., 0., 1.],\n",
       "       [1., 0., 0., 0., 0.],\n",
       "       [0., 0., 0., 0., 1.],\n",
       "       [1., 0., 0., 0., 0.],\n",
       "       [0., 0., 0., 1., 0.],\n",
       "       [0., 0., 0., 1., 0.],\n",
       "       [0., 1., 0., 0., 0.],\n",
       "       [0., 0., 1., 0., 0.],\n",
       "       [0., 0., 0., 0., 1.],\n",
       "       [0., 0., 0., 0., 1.],\n",
       "       [0., 0., 1., 0., 0.],\n",
       "       [0., 0., 1., 0., 0.],\n",
       "       [1., 0., 0., 0., 0.],\n",
       "       [0., 0., 1., 0., 0.],\n",
       "       [0., 1., 0., 0., 0.],\n",
       "       [0., 0., 0., 0., 1.],\n",
       "       [0., 0., 1., 0., 0.],\n",
       "       [1., 0., 0., 0., 0.],\n",
       "       [0., 1., 0., 0., 0.],\n",
       "       [0., 0., 0., 1., 0.],\n",
       "       [0., 1., 0., 0., 0.],\n",
       "       [0., 0., 0., 0., 1.],\n",
       "       [0., 0., 0., 0., 1.]])"
      ]
     },
     "execution_count": 194,
     "metadata": {},
     "output_type": "execute_result"
    }
   ],
   "source": [
    "res3 = findAllocation(n, m, p, upperQ, lowerQ, a_ranks, c_score, lb_of_types, ub_of_types, applicants_types, 2)\n",
    "res3"
   ]
  },
  {
   "cell_type": "markdown",
   "id": "7af01a6d",
   "metadata": {},
   "source": [
    "### Testing"
   ]
  },
  {
   "cell_type": "code",
   "execution_count": 196,
   "id": "b9dfef84",
   "metadata": {},
   "outputs": [],
   "source": [
    "def checkMatch(n, m, res, a_ranks):\n",
    "    a_ranksTable = np.array(a_ranks).reshape((n,m))\n",
    "    \n",
    "    checkMatch = [False for i in range(n)]\n",
    "    \n",
    "    for i in range(n):\n",
    "        if np.where(res[i] == 1)[0][0] == np.where(a_ranksTable[i] == 1)[0][0]:\n",
    "            checkMatch[i] = True\n",
    "\n",
    "    return (n - sum(checkMatch))  "
   ]
  },
  {
   "cell_type": "code",
   "execution_count": 197,
   "id": "a3d33594",
   "metadata": {},
   "outputs": [
    {
     "data": {
      "text/plain": [
       "4"
      ]
     },
     "execution_count": 197,
     "metadata": {},
     "output_type": "execute_result"
    }
   ],
   "source": [
    "checkMatch(n, m, res3, a_ranks)"
   ]
  },
  {
   "cell_type": "code",
   "execution_count": 222,
   "id": "2e486196",
   "metadata": {},
   "outputs": [],
   "source": [
    "test_size = 50\n",
    "\n",
    "n_array = np.sort([np.random.randint(25, 100) for i in range(test_size)])\n",
    "m_array = np.sort([np.random.randint(3, 10) for i in range(test_size)])\n",
    "p_array = [np.random.randint(1, 4) for i in range(test_size)]"
   ]
  },
  {
   "cell_type": "code",
   "execution_count": 223,
   "id": "a6baf441",
   "metadata": {},
   "outputs": [],
   "source": [
    "#quotas\n",
    "upperQ = [list(np.random.randint(int(n_array[i]/m_array[i])+10, \\\n",
    "                                 int(n_array[i]/m_array[i])+50, size=m_array[i])) for i in range(test_size)]\n",
    "\n",
    "lowerQ = [list(np.random.randint(int(n_array[i]/m_array[i])-10, \\\n",
    "                                 int(n_array[i]/m_array[i]), size=m_array[i])) for i in range(test_size)]"
   ]
  },
  {
   "cell_type": "code",
   "execution_count": 224,
   "id": "44ecad0c",
   "metadata": {},
   "outputs": [],
   "source": [
    "lb_of_types = [[np.random.randint(int(n_array[i]/m_array[i]/p_array[i])-1, \\\n",
    "                                 int(n_array[i]/m_array[i]/p_array[i]), size=p_array[i]) for j in range(m_array[i])] for i in range(test_size)]\n",
    "\n",
    "ub_of_types = [[np.random.randint(int(n_array[i]/m_array[i])+10, \\\n",
    "                                 int(n_array[i]/m_array[i])+50, size=p_array[i]) for j in range(m_array[i])] for i in range(test_size)]\n",
    "\n",
    "applicants_types = [np.random.randint(1, p_array[i]+1, size=n_array[i]) for i in range(test_size)]"
   ]
  },
  {
   "cell_type": "code",
   "execution_count": 225,
   "id": "35bdc40f",
   "metadata": {},
   "outputs": [],
   "source": [
    "#Students' ranks of companies\n",
    "a_ranks = [[random.sample(list(np.arange(m_array[j])+1), m_array[j]) for i in range(n_array[j])] for j in range(test_size)]\n",
    "\n",
    "#Companies' scores of students\n",
    "c_score = [np.array([np.random.randint(1, 10, size=n_array[k]) for j in range(m_array[k])]).T for k in range(test_size)]"
   ]
  },
  {
   "cell_type": "code",
   "execution_count": 226,
   "id": "342d37bb",
   "metadata": {},
   "outputs": [],
   "source": [
    "checkArray1 = []\n",
    "checkArray2 = []\n",
    "\n",
    "for i in range(test_size):\n",
    "#     print(i)\n",
    "    res1 = findAllocation(n_array[i], m_array[i], p_array[i], upperQ[i], lowerQ[i], a_ranks[i], c_score[i],\\\n",
    "                          lb_of_types[i], ub_of_types[i], applicants_types[i], 1)\n",
    "    \n",
    "    checkRes1 = checkMatch(n_array[i], m_array[i], res1, a_ranks[i])\n",
    "    \n",
    "    checkArray1.append(checkRes1)\n",
    "    \n",
    "    res2 = findAllocation(n_array[i], m_array[i], p_array[i], upperQ[i], lowerQ[i], a_ranks[i], c_score[i], \\\n",
    "                          lb_of_types[i], ub_of_types[i], applicants_types[i], 2)\n",
    "    \n",
    "    checkRes2 = checkMatch(n_array[i], m_array[i], res2, a_ranks[i])\n",
    "    \n",
    "    checkArray2.append(checkRes2)\n",
    "    "
   ]
  },
  {
   "cell_type": "code",
   "execution_count": 237,
   "id": "964fbebb",
   "metadata": {},
   "outputs": [
    {
     "data": {
      "text/plain": [
       "array([20, 30])"
      ]
     },
     "execution_count": 237,
     "metadata": {},
     "output_type": "execute_result"
    }
   ],
   "source": [
    "ind = np.where(np.array(checkArray1) != np.array(checkArray2))[0]\n",
    "ind"
   ]
  },
  {
   "cell_type": "code",
   "execution_count": 246,
   "id": "53b584f2",
   "metadata": {},
   "outputs": [
    {
     "data": {
      "text/plain": [
       "8"
      ]
     },
     "execution_count": 246,
     "metadata": {},
     "output_type": "execute_result"
    }
   ],
   "source": [
    "checkArray1[20]"
   ]
  },
  {
   "cell_type": "code",
   "execution_count": 247,
   "id": "d6ce72aa",
   "metadata": {},
   "outputs": [
    {
     "data": {
      "text/plain": [
       "6"
      ]
     },
     "execution_count": 247,
     "metadata": {},
     "output_type": "execute_result"
    }
   ],
   "source": [
    "checkArray2[20]"
   ]
  },
  {
   "cell_type": "code",
   "execution_count": 248,
   "id": "1a43f39f",
   "metadata": {},
   "outputs": [
    {
     "data": {
      "text/plain": [
       "8"
      ]
     },
     "execution_count": 248,
     "metadata": {},
     "output_type": "execute_result"
    }
   ],
   "source": [
    "checkArray1[30]"
   ]
  },
  {
   "cell_type": "code",
   "execution_count": 249,
   "id": "2b25c073",
   "metadata": {},
   "outputs": [
    {
     "data": {
      "text/plain": [
       "7"
      ]
     },
     "execution_count": 249,
     "metadata": {},
     "output_type": "execute_result"
    }
   ],
   "source": [
    "checkArray2[30]"
   ]
  },
  {
   "cell_type": "code",
   "execution_count": null,
   "id": "26ee1638",
   "metadata": {},
   "outputs": [],
   "source": []
  }
 ],
 "metadata": {
  "kernelspec": {
   "display_name": "Python 3",
   "language": "python",
   "name": "python3"
  },
  "language_info": {
   "codemirror_mode": {
    "name": "ipython",
    "version": 3
   },
   "file_extension": ".py",
   "mimetype": "text/x-python",
   "name": "python",
   "nbconvert_exporter": "python",
   "pygments_lexer": "ipython3",
   "version": "3.8.8"
  }
 },
 "nbformat": 4,
 "nbformat_minor": 5
}

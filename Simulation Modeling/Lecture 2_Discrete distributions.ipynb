{
 "cells": [
  {
   "cell_type": "markdown",
   "id": "0cc0b79a-5d27-4ed1-8df3-21efebfc9f75",
   "metadata": {},
   "source": [
    "# Descrete Distributions\n",
    "### Kirill Zakharov"
   ]
  },
  {
   "cell_type": "code",
   "execution_count": 1,
   "id": "00c1b959-d120-44f1-aed7-fc751e797bee",
   "metadata": {},
   "outputs": [],
   "source": [
    "import numpy as np\n",
    "import matplotlib.pyplot as plt\n",
    "%matplotlib inline\n",
    "\n",
    "plt.style.use('ggplot')"
   ]
  },
  {
   "cell_type": "code",
   "execution_count": null,
   "id": "be09e23f-cad2-4b7d-973c-e0e173a420f5",
   "metadata": {},
   "outputs": [],
   "source": []
  }
 ],
 "metadata": {
  "kernelspec": {
   "display_name": "Python 3",
   "language": "python",
   "name": "python3"
  },
  "language_info": {
   "codemirror_mode": {
    "name": "ipython",
    "version": 3
   },
   "file_extension": ".py",
   "mimetype": "text/x-python",
   "name": "python",
   "nbconvert_exporter": "python",
   "pygments_lexer": "ipython3",
   "version": "3.8.8"
  }
 },
 "nbformat": 4,
 "nbformat_minor": 5
}

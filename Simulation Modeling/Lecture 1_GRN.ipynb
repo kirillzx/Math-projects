{
 "cells": [
  {
   "cell_type": "markdown",
   "id": "48f94a4d-cd0c-4c1c-9c61-85673306062a",
   "metadata": {},
   "source": [
    "# Random Numbers Generators\n",
    "### Kirill Zakharov"
   ]
  },
  {
   "cell_type": "markdown",
   "id": "aa97ab00-4e52-4d5c-a887-fc206faddc26",
   "metadata": {},
   "source": [
    "### Middle squares"
   ]
  },
  {
   "cell_type": "code",
   "execution_count": 1,
   "id": "2d45cedf-e75f-44fc-a135-80e051b02325",
   "metadata": {},
   "outputs": [],
   "source": [
    "import numpy as np\n",
    "import matplotlib.pyplot as plt\n",
    "%matplotlib inline\n",
    "\n",
    "plt.style.use('ggplot')"
   ]
  },
  {
   "cell_type": "code",
   "execution_count": 2,
   "id": "85cfaa74-b2a0-432e-90f3-d76c0082acf7",
   "metadata": {},
   "outputs": [],
   "source": [
    "def gen1(r, s, n):\n",
    "    r0 = r\n",
    "    r1 = 0\n",
    "    str_r1 = ''\n",
    "    \n",
    "    rand_array = [r0/int(str(1).ljust(n + 1, '0'))]\n",
    "    for i in range(s):\n",
    "        r1 = r0**2\n",
    "        if len(str(r1)) < 2*n:\n",
    "            r0 = int(str(r1).zfill(2*n)[n//2:-n//2])\n",
    "        else:\n",
    "            r0 = int(str(r1)[n//2:-n//2])\n",
    "            \n",
    "        rand_array.append(r0/int(str(1).ljust(n + 1, '0')))\n",
    "        \n",
    "    return rand_array    "
   ]
  },
  {
   "cell_type": "code",
   "execution_count": 11,
   "id": "1aa9d218-c5a6-4ddd-aca8-574d85961ec6",
   "metadata": {},
   "outputs": [],
   "source": [
    "r0 = 161512123123121\n",
    "res1 = gen1(r0, 10000, len(str(r0)))"
   ]
  },
  {
   "cell_type": "markdown",
   "id": "0ce33180-4a35-424f-a188-041664ed0af8",
   "metadata": {},
   "source": [
    "#### Histogram"
   ]
  },
  {
   "cell_type": "code",
   "execution_count": 12,
   "id": "7341a145-5a88-4cd0-8545-afa6460bd44e",
   "metadata": {},
   "outputs": [
    {
     "data": {
      "image/png": "[encoded data removed]",
      "text/plain": [
       "<Figure size 432x288 with 1 Axes>"
      ]
     },
     "metadata": {},
     "output_type": "display_data"
    }
   ],
   "source": [
    "plt.hist(np.array(res1), bins=20)\n",
    "plt.show()"
   ]
  },
  {
   "cell_type": "code",
   "execution_count": 13,
   "id": "7a3a9dcf-1c6f-4bf9-a3ad-fdfbf49fdd76",
   "metadata": {},
   "outputs": [],
   "source": [
    "def period(r0, array):\n",
    "    for i in range(1, len(array)):\n",
    "        if r0 == array[i]:\n",
    "            return i\n",
    "            break"
   ]
  },
  {
   "cell_type": "code",
   "execution_count": 14,
   "id": "a98d14dd-2720-4110-8174-8ffd18ff5da3",
   "metadata": {},
   "outputs": [],
   "source": [
    "period(r0/int(str(1).ljust(len(str(r0)) + 1, '0')), res1)"
   ]
  },
  {
   "cell_type": "markdown",
   "id": "98e9408f-1bd5-4fcf-bc40-45907f06ba53",
   "metadata": {},
   "source": [
    "### Linear Congruent method"
   ]
  },
  {
   "cell_type": "code",
   "execution_count": 15,
   "id": "b13c2e11-d3f9-465e-9952-40dcc7a1368b",
   "metadata": {},
   "outputs": [],
   "source": [
    "def gen_LG(r, s, k, b, m):\n",
    "    r0 = r\n",
    "    \n",
    "    rand_array = [r0/m]\n",
    "    for i in range(s):\n",
    "        r0 = (k*r0 + b)%m\n",
    "            \n",
    "        rand_array.append(r0/m)\n",
    "        \n",
    "    return rand_array"
   ]
  },
  {
   "cell_type": "markdown",
   "id": "a8f9f755-0192-4dce-b20d-e7f8a83a34cd",
   "metadata": {},
   "source": [
    "### [0;1]"
   ]
  },
  {
   "cell_type": "code",
   "execution_count": 16,
   "id": "8bac9a0c-ffb5-4093-9cd3-487b7923ba56",
   "metadata": {},
   "outputs": [
    {
     "data": {
      "text/plain": [
       "[0.00011899803653239721,\n",
       " 0.17768638067471887,\n",
       " 0.20240078538704112,\n",
       " 0.9080814541560064,\n",
       " 0.7407925269233058,\n",
       " 0.18741447016124235,\n",
       " 0.20421550544416017,\n",
       " 0.6454230380198727,\n",
       " 0.6917950853810912,\n",
       " 0.2791917058368537]"
      ]
     },
     "execution_count": 16,
     "metadata": {},
     "output_type": "execute_result"
    }
   ],
   "source": [
    "r0 = 16\n",
    "m = 134456\n",
    "res2 = gen_LG(r0, 1000000, 8121, 28411, m)\n",
    "res2[:10]"
   ]
  },
  {
   "cell_type": "code",
   "execution_count": 17,
   "id": "95d9669e-234c-4364-b78b-a4179512f5f1",
   "metadata": {},
   "outputs": [
    {
     "data": {
      "image/png": "[encoded data removed]",
      "text/plain": [
       "<Figure size 432x288 with 1 Axes>"
      ]
     },
     "metadata": {},
     "output_type": "display_data"
    }
   ],
   "source": [
    "plt.hist(np.array(res2), bins=20)\n",
    "plt.show()"
   ]
  },
  {
   "cell_type": "code",
   "execution_count": 18,
   "id": "df7874c8-7718-4bbf-b512-db63a0d1439b",
   "metadata": {},
   "outputs": [
    {
     "data": {
      "text/plain": [
       "134456"
      ]
     },
     "execution_count": 18,
     "metadata": {},
     "output_type": "execute_result"
    }
   ],
   "source": [
    "period(r0/m, res2)"
   ]
  },
  {
   "cell_type": "markdown",
   "id": "131fae2d-0acf-4e8f-801d-b822f9ccac6c",
   "metadata": {},
   "source": [
    "### [a;c]"
   ]
  },
  {
   "cell_type": "code",
   "execution_count": 19,
   "id": "763fbd63-1fc8-49e7-8ae4-514b77b6eb7d",
   "metadata": {},
   "outputs": [],
   "source": [
    "def gen_LG_ac(r, s, k, b, m, a, c):\n",
    "    r0 = r\n",
    "    \n",
    "    rand_array = []\n",
    "    for i in range(s):\n",
    "        r0 = (k*r0 + b)%m\n",
    "            \n",
    "        rand_array.append(r0/m *(c-a) + a)\n",
    "        \n",
    "    return rand_array"
   ]
  },
  {
   "cell_type": "code",
   "execution_count": 20,
   "id": "7de01aed-6aa7-4574-a302-469ad7652ba0",
   "metadata": {},
   "outputs": [
    {
     "data": {
      "text/plain": [
       "[5.12670315939787,\n",
       " 2.8015707740822275,\n",
       " 4.401469625751175,\n",
       " 5.1800440292735175,\n",
       " 3.9827750342119357,\n",
       " 4.961266139108705,\n",
       " 3.287529005771405,\n",
       " 2.8682691735586365,\n",
       " 2.0591717736657347,\n",
       " 3.3791872434104837]"
      ]
     },
     "execution_count": 20,
     "metadata": {},
     "output_type": "execute_result"
    }
   ],
   "source": [
    "a = 2\n",
    "c = 6\n",
    "\n",
    "res3 = gen_LG_ac(26, 100000, 8121, 28411, m, a, c)\n",
    "res3[:10]"
   ]
  },
  {
   "cell_type": "code",
   "execution_count": 21,
   "id": "3f0c241d-05a1-4477-acbc-1cf8b58b6634",
   "metadata": {},
   "outputs": [
    {
     "data": {
      "image/png": "[encoded data removed]",
      "text/plain": [
       "<Figure size 432x288 with 1 Axes>"
      ]
     },
     "metadata": {},
     "output_type": "display_data"
    }
   ],
   "source": [
    "plt.hist(np.array(res3), bins=20)\n",
    "plt.show()"
   ]
  },
  {
   "cell_type": "code",
   "execution_count": 22,
   "id": "8f9b007a-00da-44a1-8755-7ab5e4fe74cf",
   "metadata": {},
   "outputs": [
    {
     "data": {
      "text/plain": [
       "72937"
      ]
     },
     "execution_count": 22,
     "metadata": {},
     "output_type": "execute_result"
    }
   ],
   "source": [
    "period(r0/m * (c-a) + a, res3)"
   ]
  },
  {
   "cell_type": "markdown",
   "id": "5e4c6439-cf4c-4858-ba0c-344f8c34dbd0",
   "metadata": {},
   "source": [
    "### Exponential distribution"
   ]
  },
  {
   "cell_type": "code",
   "execution_count": 23,
   "id": "9f79722d-a619-4a04-9b3f-28bc8f1d72fb",
   "metadata": {},
   "outputs": [],
   "source": [
    "def gen_Exp(lmd, s):\n",
    "    \n",
    "    rand_array = []\n",
    "    \n",
    "    for i in range(s):\n",
    "        rand_array.append(- np.log(np.random.random())/lmd)\n",
    "        \n",
    "    return rand_array"
   ]
  },
  {
   "cell_type": "code",
   "execution_count": 24,
   "id": "3857d623-057c-4b9a-ba32-83d4f289875d",
   "metadata": {},
   "outputs": [
    {
     "data": {
      "text/plain": [
       "[0.3920895617097593,\n",
       " 0.6024472373951134,\n",
       " 0.12299590726958858,\n",
       " 0.6247044956453391,\n",
       " 0.06293359466458519,\n",
       " 0.1533012138108534,\n",
       " 0.08508474394375891,\n",
       " 0.24891107123387482,\n",
       " 0.175165927996419,\n",
       " 0.48021081349217504]"
      ]
     },
     "execution_count": 24,
     "metadata": {},
     "output_type": "execute_result"
    }
   ],
   "source": [
    "lmd = 2\n",
    "res4 = gen_Exp(lmd, 10000)\n",
    "res4[:10]"
   ]
  },
  {
   "cell_type": "code",
   "execution_count": 25,
   "id": "49c96f44-66f3-4305-b2a7-45839ac5171c",
   "metadata": {},
   "outputs": [
    {
     "data": {
      "image/png": "[encoded data removed]",
      "text/plain": [
       "<Figure size 432x288 with 1 Axes>"
      ]
     },
     "metadata": {},
     "output_type": "display_data"
    }
   ],
   "source": [
    "plt.hist(res4, bins=20)\n",
    "plt.show()"
   ]
  },
  {
   "cell_type": "code",
   "execution_count": 26,
   "id": "7aefc6f4-610a-4371-8188-96cc2a4af995",
   "metadata": {},
   "outputs": [
    {
     "name": "stdout",
     "output_type": "stream",
     "text": [
      "E ~ 0.4960768232277308, E = 0.5\n"
     ]
    }
   ],
   "source": [
    "res4 = np.array(res4)\n",
    "print(f'E ~ {res4.mean()}, E = {1/lmd}')"
   ]
  },
  {
   "cell_type": "code",
   "execution_count": 27,
   "id": "ed546271-acac-4346-a0d0-e3657d6f4a21",
   "metadata": {},
   "outputs": [
    {
     "name": "stdout",
     "output_type": "stream",
     "text": [
      "D ~ 0.2520669137284914, D = 0.25\n"
     ]
    }
   ],
   "source": [
    "print(f'D ~ {res4.var()}, D = {1/lmd**2}')"
   ]
  },
  {
   "cell_type": "markdown",
   "id": "144cfebd-d26f-43ce-8df8-7bd00bb0f6a6",
   "metadata": {},
   "source": [
    "### Triangular Distribution"
   ]
  },
  {
   "cell_type": "code",
   "execution_count": 28,
   "id": "53688a46-9802-45de-bc24-0959e29108cd",
   "metadata": {},
   "outputs": [],
   "source": [
    "def gen_Tr(a, c, b, s):\n",
    "    \n",
    "    rand_array = []\n",
    "    \n",
    "    for i in range(s):\n",
    "        val1 = np.sqrt(np.random.random() * (b-a)*(c-a)) + a\n",
    "        if val1 <= c:\n",
    "            rand_array.append(val1)\n",
    "    \n",
    "    for i in range(s):\n",
    "        val = b - np.sqrt((1-np.random.random()) * (b-a)*(b-c))\n",
    "        if val >= c:\n",
    "            rand_array.append(val)\n",
    "        \n",
    "    return rand_array"
   ]
  },
  {
   "cell_type": "code",
   "execution_count": 29,
   "id": "24affe26-3c75-43db-b74f-3d72f154ec92",
   "metadata": {},
   "outputs": [
    {
     "data": {
      "text/plain": [
       "[2.030033809982349,\n",
       " 1.3265864335644872,\n",
       " 4.1600305086241285,\n",
       " 4.3947601785258135,\n",
       " 2.048540102229754,\n",
       " 3.301235709965401,\n",
       " 4.032515103212114,\n",
       " 3.2873178354345884,\n",
       " 4.333089440909331,\n",
       " 4.5351616303310145]"
      ]
     },
     "execution_count": 29,
     "metadata": {},
     "output_type": "execute_result"
    }
   ],
   "source": [
    "a = 0\n",
    "c = 5\n",
    "b = 10\n",
    "\n",
    "res5 = gen_Tr(a, c, b, 10000)\n",
    "res5[:10]"
   ]
  },
  {
   "cell_type": "code",
   "execution_count": 30,
   "id": "6c2c4d2b-1ad4-40f3-9c81-675c1b73144f",
   "metadata": {},
   "outputs": [
    {
     "data": {
      "image/png": "[encoded data removed]",
      "text/plain": [
       "<Figure size 432x288 with 1 Axes>"
      ]
     },
     "metadata": {},
     "output_type": "display_data"
    }
   ],
   "source": [
    "plt.hist(res5[:], bins=30)\n",
    "plt.show()"
   ]
  },
  {
   "cell_type": "code",
   "execution_count": 31,
   "id": "029db1ff-8288-48f9-96de-301a1ff2c965",
   "metadata": {},
   "outputs": [
    {
     "name": "stdout",
     "output_type": "stream",
     "text": [
      "E ~ 4.981972774317043, E = 5.0\n"
     ]
    }
   ],
   "source": [
    "res5 = np.array(res5)\n",
    "print(f'E ~ {res5.mean()}, E = {(a+b+c)/3}')"
   ]
  },
  {
   "cell_type": "code",
   "execution_count": 32,
   "id": "8195eec3-9a10-4cd0-805b-caaaa305c674",
   "metadata": {},
   "outputs": [
    {
     "name": "stdout",
     "output_type": "stream",
     "text": [
      "D ~ 4.1392957727455775, D = 4.166666666666667\n"
     ]
    }
   ],
   "source": [
    "print(f'D ~ {res5.var()}, D = {(a**2 + b**2 + c**2 - a*b - a*c - b*c)/18}')"
   ]
  },
  {
   "cell_type": "markdown",
   "id": "e769ba51-ac4e-4b45-8323-70e141a555c9",
   "metadata": {},
   "source": [
    "### Normal Distribution"
   ]
  },
  {
   "cell_type": "code",
   "execution_count": 33,
   "id": "cbccfa9f-2aa4-4673-a01f-cfc7fd8a0fd2",
   "metadata": {},
   "outputs": [],
   "source": [
    "#Box-Mullers' transform\n",
    "\n",
    "def gen_ND(s):\n",
    "    rand_array = []\n",
    "    for i in range(s):\n",
    "        z1 = np.cos(2*np.pi * np.random.random()) * np.sqrt(-2*np.log(np.random.random()))\n",
    "        z2 = np.sin(2*np.pi * np.random.random()) * np.sqrt(-2*np.log(np.random.random()))\n",
    "        \n",
    "        rand_array.append(z1)\n",
    "        rand_array.append(z2)\n",
    "        \n",
    "    return rand_array"
   ]
  },
  {
   "cell_type": "code",
   "execution_count": 34,
   "id": "488af8a5-b3ee-455d-a893-00d97f2f725b",
   "metadata": {},
   "outputs": [
    {
     "data": {
      "text/plain": [
       "[-0.3295038102081873,\n",
       " -1.5189434605754666,\n",
       " -1.4240565460953427,\n",
       " 0.5424235610346859,\n",
       " 0.01239055902218901,\n",
       " -0.6427512997053858,\n",
       " 0.015435923840203293,\n",
       " -0.7408431918544157,\n",
       " 0.24167350349170108,\n",
       " -0.9600432924107942]"
      ]
     },
     "execution_count": 34,
     "metadata": {},
     "output_type": "execute_result"
    }
   ],
   "source": [
    "res6 = gen_ND(100000)\n",
    "res6[:10]"
   ]
  },
  {
   "cell_type": "code",
   "execution_count": 35,
   "id": "8592c34b-8ee4-4972-a237-3d14d81e58ef",
   "metadata": {},
   "outputs": [
    {
     "data": {
      "image/png": "[encoded data removed]",
      "text/plain": [
       "<Figure size 432x288 with 1 Axes>"
      ]
     },
     "metadata": {},
     "output_type": "display_data"
    }
   ],
   "source": [
    "plt.hist(res6, bins=20)\n",
    "plt.show()"
   ]
  },
  {
   "cell_type": "code",
   "execution_count": 36,
   "id": "1f1a8118-9cd9-4911-a132-b84643f10607",
   "metadata": {},
   "outputs": [
    {
     "name": "stdout",
     "output_type": "stream",
     "text": [
      "E = 0.003582974215681419\n",
      "D = 1.0018371327500426\n"
     ]
    }
   ],
   "source": [
    "print(f'E = {np.array(res6).mean()}\\nD = {np.array(res6).var()}')"
   ]
  },
  {
   "cell_type": "code",
   "execution_count": 37,
   "id": "93bbd0f8-67de-439b-83e7-7230d24bc507",
   "metadata": {},
   "outputs": [],
   "source": [
    "#By Central Limit Theorem\n",
    "\n",
    "def gen_ND_CLT(s, n):\n",
    "    rand_array = []\n",
    "    \n",
    "    for i in range(s):\n",
    "        rand_array.append(np.sqrt(12/n)*(np.sum(np.random.uniform(0, 1, n))-n/2))\n",
    "    \n",
    "    return rand_array"
   ]
  },
  {
   "cell_type": "code",
   "execution_count": 38,
   "id": "f5409c8a-28b6-46a9-8d09-b3db0929af3d",
   "metadata": {},
   "outputs": [
    {
     "data": {
      "text/plain": [
       "[-0.8029726086055022,\n",
       " 0.7412229075120632,\n",
       " -1.031683036719026,\n",
       " 1.0522717247873978,\n",
       " 0.47431624195391525,\n",
       " 1.2228784111235655,\n",
       " 1.0043045542781852,\n",
       " 0.06451624038054093,\n",
       " 0.19188324604413784,\n",
       " -0.1785939564801448]"
      ]
     },
     "execution_count": 38,
     "metadata": {},
     "output_type": "execute_result"
    }
   ],
   "source": [
    "res7 = gen_ND_CLT(100000, 10)\n",
    "res7[:10]"
   ]
  },
  {
   "cell_type": "code",
   "execution_count": 39,
   "id": "d70928ef-ee77-404c-99f0-73b0b4e2cfb0",
   "metadata": {},
   "outputs": [
    {
     "data": {
      "image/png": "[encoded data removed]",
      "text/plain": [
       "<Figure size 432x288 with 1 Axes>"
      ]
     },
     "metadata": {},
     "output_type": "display_data"
    }
   ],
   "source": [
    "plt.hist(res7, bins=20)\n",
    "plt.show()"
   ]
  },
  {
   "cell_type": "code",
   "execution_count": 40,
   "id": "03fcd7ee-489e-47a3-ad2c-009494452fc5",
   "metadata": {},
   "outputs": [
    {
     "name": "stdout",
     "output_type": "stream",
     "text": [
      "E = -0.002259352997311988\n",
      "D = 0.9977535012519129\n"
     ]
    }
   ],
   "source": [
    "print(f'E = {np.array(res7).mean()}\\nD = {np.array(res7).var()}')"
   ]
  },
  {
   "cell_type": "markdown",
   "id": "8c1bb4a5-7202-4bd6-9b16-07d46812eddd",
   "metadata": {},
   "source": [
    "## Calculating Integral by Monte-Carlo method"
   ]
  },
  {
   "cell_type": "code",
   "execution_count": 41,
   "id": "5c0cf8ee-5536-4809-98d2-35f18b660810",
   "metadata": {},
   "outputs": [],
   "source": [
    "def integral(n, points, f):\n",
    "    n1 = 0\n",
    "    for point in points:\n",
    "        if point[1] < f(point[0]):\n",
    "            n1 += 1\n",
    "            \n",
    "    return n1/n        "
   ]
  },
  {
   "cell_type": "code",
   "execution_count": 42,
   "id": "0227641e-982b-453d-b328-24d75a716987",
   "metadata": {},
   "outputs": [
    {
     "data": {
      "text/plain": [
       "0.646"
      ]
     },
     "execution_count": 42,
     "metadata": {},
     "output_type": "execute_result"
    }
   ],
   "source": [
    "n = 1000\n",
    "points = np.random.rand(n, 2)\n",
    "\n",
    "integral(n, points, lambda x: np.sin(np.pi*x))"
   ]
  },
  {
   "cell_type": "code",
   "execution_count": 43,
   "id": "ae34ccfe-341e-44ba-a654-cd8ae0e82192",
   "metadata": {},
   "outputs": [],
   "source": [
    "array_test = []\n",
    "for i in range(1000):\n",
    "    n = 1000\n",
    "    points = np.random.rand(n, 2)\n",
    "\n",
    "    array_test.append(integral(n, points, lambda x: np.sin(np.pi*x)))"
   ]
  },
  {
   "cell_type": "code",
   "execution_count": 44,
   "id": "0a8b43c8-403e-4a80-a681-0248f3efb6b7",
   "metadata": {},
   "outputs": [
    {
     "data": {
      "image/png": "[encoded data removed]",
      "text/plain": [
       "<Figure size 432x288 with 1 Axes>"
      ]
     },
     "metadata": {},
     "output_type": "display_data"
    }
   ],
   "source": [
    "plt.hist(array_test, bins=20)\n",
    "plt.show()"
   ]
  },
  {
   "cell_type": "code",
   "execution_count": 45,
   "id": "c9f826ad-4be6-4a80-afff-f5f5685d6e33",
   "metadata": {},
   "outputs": [
    {
     "data": {
      "text/plain": [
       "0.637062"
      ]
     },
     "execution_count": 45,
     "metadata": {},
     "output_type": "execute_result"
    }
   ],
   "source": [
    "mean = np.array(array_test).mean()\n",
    "mean"
   ]
  },
  {
   "cell_type": "code",
   "execution_count": 104,
   "id": "8666ca62-bd68-48fb-ac22-2c5d79d26527",
   "metadata": {},
   "outputs": [],
   "source": [
    "array_test2 = []\n",
    "n = 10000\n",
    "for i in range(2, 10000):\n",
    "    points = np.random.rand(i, 2)\n",
    "    \n",
    "    array_test2.append(integral(i, points, lambda x: np.sin(np.pi*x)))"
   ]
  },
  {
   "cell_type": "code",
   "execution_count": 105,
   "id": "359a93e6-3685-49de-a7a3-6c1cd2bd87a5",
   "metadata": {},
   "outputs": [],
   "source": [
    "eps = abs(np.array(array_test2) - mean)"
   ]
  },
  {
   "cell_type": "code",
   "execution_count": 106,
   "id": "3b1d8238-7db9-4009-b75d-0a2ffb85072a",
   "metadata": {},
   "outputs": [
    {
     "data": {
      "image/png": "[encoded data removed]",
      "text/plain": [
       "<Figure size 720x360 with 1 Axes>"
      ]
     },
     "metadata": {},
     "output_type": "display_data"
    }
   ],
   "source": [
    "plt.subplots(figsize=(10, 5))\n",
    "plt.scatter(np.arange(2, 10000), eps, s=1)\n",
    "plt.show()"
   ]
  },
  {
   "cell_type": "code",
   "execution_count": 107,
   "id": "ff582774-b34f-4f1d-9065-f2e21d139439",
   "metadata": {},
   "outputs": [
    {
     "data": {
      "image/png": "[encoded data removed]",
      "text/plain": [
       "<Figure size 720x360 with 1 Axes>"
      ]
     },
     "metadata": {},
     "output_type": "display_data"
    }
   ],
   "source": [
    "plt.subplots(figsize=(10, 5))\n",
    "plt.scatter(np.arange(2, 10000), array_test2, s=1)\n",
    "plt.show()"
   ]
  },
  {
   "cell_type": "code",
   "execution_count": null,
   "id": "1643c966-8feb-48c6-8412-e7c00cb5226d",
   "metadata": {},
   "outputs": [],
   "source": []
  }
 ],
 "metadata": {
  "kernelspec": {
   "display_name": "Python 3",
   "language": "python",
   "name": "python3"
  },
  "language_info": {
   "codemirror_mode": {
    "name": "ipython",
    "version": 3
   },
   "file_extension": ".py",
   "mimetype": "text/x-python",
   "name": "python",
   "nbconvert_exporter": "python",
   "pygments_lexer": "ipython3",
   "version": "3.8.8"
  }
 },
 "nbformat": 4,
 "nbformat_minor": 5
}

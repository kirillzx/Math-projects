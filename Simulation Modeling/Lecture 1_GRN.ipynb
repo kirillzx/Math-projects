{
 "cells": [
  {
   "cell_type": "markdown",
   "id": "48f94a4d-cd0c-4c1c-9c61-85673306062a",
   "metadata": {},
   "source": [
    "# Random Numbers Generators\n",
    "### Kirill Zakharov"
   ]
  },
  {
   "cell_type": "markdown",
   "id": "aa97ab00-4e52-4d5c-a887-fc206faddc26",
   "metadata": {},
   "source": [
    "### Middle squares"
   ]
  },
  {
   "cell_type": "code",
   "execution_count": 28,
   "id": "2d45cedf-e75f-44fc-a135-80e051b02325",
   "metadata": {},
   "outputs": [],
   "source": [
    "import numpy as np\n",
    "import matplotlib.pyplot as plt\n",
    "%matplotlib inline\n",
    "\n",
    "plt.style.use('ggplot')"
   ]
  },
  {
   "cell_type": "code",
   "execution_count": 29,
   "id": "85cfaa74-b2a0-432e-90f3-d76c0082acf7",
   "metadata": {},
   "outputs": [],
   "source": [
    "def gen1(r, s, n):\n",
    "    r0 = r\n",
    "    r1 = 0\n",
    "    str_r1 = ''\n",
    "    \n",
    "    rand_array = [r0/100]\n",
    "    for i in range(s):\n",
    "        r1 = r0**2\n",
    "        if len(str(r1)) < 2*n:\n",
    "            r0 = int(str(r1).zfill(2*n)[n//2:-n//2])\n",
    "        else:\n",
    "            r0 = int(str(r1)[n//2:-n//2])\n",
    "            \n",
    "        rand_array.append(r0/100)\n",
    "        \n",
    "    return rand_array    "
   ]
  },
  {
   "cell_type": "code",
   "execution_count": 30,
   "id": "1aa9d218-c5a6-4ddd-aca8-574d85961ec6",
   "metadata": {},
   "outputs": [],
   "source": [
    "res1 = gen1(1615, 1000, 4)\n",
    "# res1"
   ]
  },
  {
   "cell_type": "markdown",
   "id": "0ce33180-4a35-424f-a188-041664ed0af8",
   "metadata": {},
   "source": [
    "#### Histogram"
   ]
  },
  {
   "cell_type": "code",
   "execution_count": 31,
   "id": "7341a145-5a88-4cd0-8545-afa6460bd44e",
   "metadata": {},
   "outputs": [
    {
     "data": {
      "image/png": "[encoded data removed]",
      "text/plain": [
       "<Figure size 432x288 with 1 Axes>"
      ]
     },
     "metadata": {},
     "output_type": "display_data"
    }
   ],
   "source": [
    "plt.hist(np.array(res1), bins=20)\n",
    "plt.show()"
   ]
  },
  {
   "cell_type": "markdown",
   "id": "98e9408f-1bd5-4fcf-bc40-45907f06ba53",
   "metadata": {},
   "source": [
    "### Linear Congruent method"
   ]
  },
  {
   "cell_type": "code",
   "execution_count": 32,
   "id": "b13c2e11-d3f9-465e-9952-40dcc7a1368b",
   "metadata": {},
   "outputs": [],
   "source": [
    "def gen_LG(r, s, k, b, m):\n",
    "    r0 = r\n",
    "    \n",
    "    rand_array = [r0/m]\n",
    "    for i in range(s):\n",
    "        r0 = (k*r0 + b)%m\n",
    "            \n",
    "        rand_array.append(r0/m)\n",
    "        \n",
    "    return rand_array"
   ]
  },
  {
   "cell_type": "markdown",
   "id": "a8f9f755-0192-4dce-b20d-e7f8a83a34cd",
   "metadata": {},
   "source": [
    "### [0;1]"
   ]
  },
  {
   "cell_type": "code",
   "execution_count": 33,
   "id": "8bac9a0c-ffb5-4093-9cd3-487b7923ba56",
   "metadata": {},
   "outputs": [
    {
     "data": {
      "text/plain": [
       "[0.00011899803653239721,\n",
       " 0.17768638067471887,\n",
       " 0.20240078538704112,\n",
       " 0.9080814541560064,\n",
       " 0.7407925269233058,\n",
       " 0.18741447016124235,\n",
       " 0.20421550544416017,\n",
       " 0.6454230380198727,\n",
       " 0.6917950853810912,\n",
       " 0.2791917058368537]"
      ]
     },
     "execution_count": 33,
     "metadata": {},
     "output_type": "execute_result"
    }
   ],
   "source": [
    "res2 = gen_LG(16, 10000, 8121, 28411, 134456)\n",
    "res2[:10]"
   ]
  },
  {
   "cell_type": "code",
   "execution_count": 34,
   "id": "95d9669e-234c-4364-b78b-a4179512f5f1",
   "metadata": {},
   "outputs": [
    {
     "data": {
      "image/png": "[encoded data removed]",
      "text/plain": [
       "<Figure size 432x288 with 1 Axes>"
      ]
     },
     "metadata": {},
     "output_type": "display_data"
    }
   ],
   "source": [
    "plt.hist(np.array(res2), bins=20)\n",
    "plt.show()"
   ]
  },
  {
   "cell_type": "markdown",
   "id": "131fae2d-0acf-4e8f-801d-b822f9ccac6c",
   "metadata": {},
   "source": [
    "### [a;c]"
   ]
  },
  {
   "cell_type": "code",
   "execution_count": 35,
   "id": "763fbd63-1fc8-49e7-8ae4-514b77b6eb7d",
   "metadata": {},
   "outputs": [],
   "source": [
    "def gen_LG_ac(r, s, k, b, m, a, c):\n",
    "    r0 = r\n",
    "    \n",
    "    rand_array = []\n",
    "    for i in range(s):\n",
    "        r0 = (k*r0 + b)%m\n",
    "            \n",
    "        rand_array.append(r0/m *(c-a) + a)\n",
    "        \n",
    "    return rand_array"
   ]
  },
  {
   "cell_type": "code",
   "execution_count": 36,
   "id": "7de01aed-6aa7-4574-a302-469ad7652ba0",
   "metadata": {},
   "outputs": [
    {
     "data": {
      "text/plain": [
       "[5.12670315939787,\n",
       " 2.8015707740822275,\n",
       " 4.401469625751175,\n",
       " 5.1800440292735175,\n",
       " 3.9827750342119357,\n",
       " 4.961266139108705,\n",
       " 3.287529005771405,\n",
       " 2.8682691735586365,\n",
       " 2.0591717736657347,\n",
       " 3.3791872434104837]"
      ]
     },
     "execution_count": 36,
     "metadata": {},
     "output_type": "execute_result"
    }
   ],
   "source": [
    "res3 = gen_LG_ac(26, 10000, 8121, 28411, 134456, 2, 6)\n",
    "res3[:10]"
   ]
  },
  {
   "cell_type": "code",
   "execution_count": 37,
   "id": "3f0c241d-05a1-4477-acbc-1cf8b58b6634",
   "metadata": {},
   "outputs": [
    {
     "data": {
      "image/png": "[encoded data removed]",
      "text/plain": [
       "<Figure size 432x288 with 1 Axes>"
      ]
     },
     "metadata": {},
     "output_type": "display_data"
    }
   ],
   "source": [
    "plt.hist(np.array(res3), bins=20)\n",
    "plt.show()"
   ]
  },
  {
   "cell_type": "markdown",
   "id": "5e4c6439-cf4c-4858-ba0c-344f8c34dbd0",
   "metadata": {},
   "source": [
    "### Exponential distribution"
   ]
  },
  {
   "cell_type": "code",
   "execution_count": 38,
   "id": "9f79722d-a619-4a04-9b3f-28bc8f1d72fb",
   "metadata": {},
   "outputs": [],
   "source": [
    "def gen_Exp(lmd, s):\n",
    "    \n",
    "    rand_array = []\n",
    "    \n",
    "    for i in range(s):\n",
    "        rand_array.append(- np.log(np.random.random())/lmd)\n",
    "        \n",
    "    return rand_array"
   ]
  },
  {
   "cell_type": "code",
   "execution_count": 39,
   "id": "3857d623-057c-4b9a-ba32-83d4f289875d",
   "metadata": {},
   "outputs": [
    {
     "data": {
      "text/plain": [
       "[0.505773592498741,\n",
       " 0.48454191268821634,\n",
       " 0.2713358777285977,\n",
       " 0.05180349299321727,\n",
       " 0.19173005092452652,\n",
       " 0.389111144532803,\n",
       " 1.0028012986003005,\n",
       " 0.1899870273060071,\n",
       " 1.7984519021450465,\n",
       " 0.3797044528869438]"
      ]
     },
     "execution_count": 39,
     "metadata": {},
     "output_type": "execute_result"
    }
   ],
   "source": [
    "lmd = 2\n",
    "res4 = gen_Exp(lmd, 10000)\n",
    "res4[:10]"
   ]
  },
  {
   "cell_type": "code",
   "execution_count": 40,
   "id": "49c96f44-66f3-4305-b2a7-45839ac5171c",
   "metadata": {},
   "outputs": [
    {
     "data": {
      "image/png": "[encoded data removed]",
      "text/plain": [
       "<Figure size 432x288 with 1 Axes>"
      ]
     },
     "metadata": {},
     "output_type": "display_data"
    }
   ],
   "source": [
    "plt.hist(res4, bins=20)\n",
    "plt.show()"
   ]
  },
  {
   "cell_type": "code",
   "execution_count": 41,
   "id": "7aefc6f4-610a-4371-8188-96cc2a4af995",
   "metadata": {},
   "outputs": [
    {
     "name": "stdout",
     "output_type": "stream",
     "text": [
      "E ~ 0.49646492694012634, E = 0.5\n"
     ]
    }
   ],
   "source": [
    "res4 = np.array(res4)\n",
    "print(f'E ~ {res4.mean()}, E = {1/lmd}')"
   ]
  },
  {
   "cell_type": "code",
   "execution_count": 55,
   "id": "ed546271-acac-4346-a0d0-e3657d6f4a21",
   "metadata": {},
   "outputs": [
    {
     "name": "stdout",
     "output_type": "stream",
     "text": [
      "D ~ 0.2525267801283113, D = 0.25\n"
     ]
    }
   ],
   "source": [
    "print(f'D ~ {res4.var()}, D = {1/lmd**2}')"
   ]
  },
  {
   "cell_type": "markdown",
   "id": "144cfebd-d26f-43ce-8df8-7bd00bb0f6a6",
   "metadata": {},
   "source": [
    "### Triangular Distribution"
   ]
  },
  {
   "cell_type": "code",
   "execution_count": 43,
   "id": "53688a46-9802-45de-bc24-0959e29108cd",
   "metadata": {},
   "outputs": [],
   "source": [
    "def gen_Tr(a, c, b, s):\n",
    "    \n",
    "    rand_array = []\n",
    "    \n",
    "    for i in range(s):\n",
    "        rand_array.append(np.sqrt(np.random.random() * (b-a)*(c-a)) + a)\n",
    "    for i in range(s):    \n",
    "        rand_array.append(b - np.sqrt((1-np.random.random()) * (b-a)*(b-c)))\n",
    "        \n",
    "    return rand_array"
   ]
  },
  {
   "cell_type": "code",
   "execution_count": 44,
   "id": "24affe26-3c75-43db-b74f-3d72f154ec92",
   "metadata": {},
   "outputs": [
    {
     "data": {
      "text/plain": [
       "[62.1407816357547,\n",
       " 30.55576756705445,\n",
       " 34.20573937761011,\n",
       " 71.05842822420134,\n",
       " 32.233060067652616,\n",
       " 18.120734254136345,\n",
       " 57.393740296702404,\n",
       " 21.94929769903111,\n",
       " 61.09013810589936,\n",
       " 55.02245714981945]"
      ]
     },
     "execution_count": 44,
     "metadata": {},
     "output_type": "execute_result"
    }
   ],
   "source": [
    "a = 1\n",
    "b = 50\n",
    "c = 110\n",
    "\n",
    "res5 = gen_Tr(a, b, c, 10000)\n",
    "res5[:10]"
   ]
  },
  {
   "cell_type": "code",
   "execution_count": 45,
   "id": "6c2c4d2b-1ad4-40f3-9c81-675c1b73144f",
   "metadata": {},
   "outputs": [
    {
     "data": {
      "image/png": "[encoded data removed]",
      "text/plain": [
       "<Figure size 432x288 with 1 Axes>"
      ]
     },
     "metadata": {},
     "output_type": "display_data"
    }
   ],
   "source": [
    "plt.hist(res5, bins=20)\n",
    "plt.show()"
   ]
  },
  {
   "cell_type": "code",
   "execution_count": 46,
   "id": "029db1ff-8288-48f9-96de-301a1ff2c965",
   "metadata": {},
   "outputs": [
    {
     "name": "stdout",
     "output_type": "stream",
     "text": [
      "E ~ 52.74779434618184, E = 53.666666666666664\n"
     ]
    }
   ],
   "source": [
    "res5 = np.array(res5)\n",
    "print(f'E ~ {res5.mean()}, E = {(a+b+c)/3}')"
   ]
  },
  {
   "cell_type": "code",
   "execution_count": 56,
   "id": "8195eec3-9a10-4cd0-805b-caaaa305c674",
   "metadata": {},
   "outputs": [
    {
     "name": "stdout",
     "output_type": "stream",
     "text": [
      "D ~ 343.5907210973054, D = 496.72222222222223\n"
     ]
    }
   ],
   "source": [
    "print(f'D ~ {res5.var()}, D = {(a**2 + b**2 + c**2 - a*b - a*c - b*c)/18}')"
   ]
  },
  {
   "cell_type": "markdown",
   "id": "e769ba51-ac4e-4b45-8323-70e141a555c9",
   "metadata": {},
   "source": [
    "### Normal Distribution"
   ]
  },
  {
   "cell_type": "code",
   "execution_count": 48,
   "id": "cbccfa9f-2aa4-4673-a01f-cfc7fd8a0fd2",
   "metadata": {},
   "outputs": [],
   "source": [
    "#Box-Mullers' transform\n",
    "\n",
    "def gen_ND(s):\n",
    "    rand_array = []\n",
    "    for i in range(s):\n",
    "        z1 = np.cos(2*np.pi * np.random.random()) * np.sqrt(-2*np.log(np.random.random()))\n",
    "        z2 = np.cos(2*np.pi * np.random.random()) * np.sqrt(-2*np.log(np.random.random()))\n",
    "        \n",
    "        rand_array.append(z1)\n",
    "        rand_array.append(z2)\n",
    "        \n",
    "    return rand_array"
   ]
  },
  {
   "cell_type": "code",
   "execution_count": 49,
   "id": "488af8a5-b3ee-455d-a893-00d97f2f725b",
   "metadata": {},
   "outputs": [
    {
     "data": {
      "text/plain": [
       "[-1.0107118969556232,\n",
       " 0.26141711947524343,\n",
       " -0.19985699962942474,\n",
       " 0.09404024872979905,\n",
       " 0.9099150376714423,\n",
       " -1.1487412115622675,\n",
       " 2.5553822110696602,\n",
       " 0.5274646159109998,\n",
       " 0.205237581330894,\n",
       " -0.7228767865621365]"
      ]
     },
     "execution_count": 49,
     "metadata": {},
     "output_type": "execute_result"
    }
   ],
   "source": [
    "res6 = gen_ND(100000)\n",
    "res6[:10]"
   ]
  },
  {
   "cell_type": "code",
   "execution_count": 52,
   "id": "8592c34b-8ee4-4972-a237-3d14d81e58ef",
   "metadata": {},
   "outputs": [
    {
     "data": {
      "image/png": "[encoded data removed]",
      "text/plain": [
       "<Figure size 432x288 with 1 Axes>"
      ]
     },
     "metadata": {},
     "output_type": "display_data"
    }
   ],
   "source": [
    "plt.hist(res6, bins=20)\n",
    "plt.show()"
   ]
  },
  {
   "cell_type": "code",
   "execution_count": 59,
   "id": "1f1a8118-9cd9-4911-a132-b84643f10607",
   "metadata": {},
   "outputs": [
    {
     "name": "stdout",
     "output_type": "stream",
     "text": [
      "E = 0.0024038668767711125\n",
      "D = 0.997634927671805\n"
     ]
    }
   ],
   "source": [
    "print(f'E = {np.array(res6).mean()}\\nD = {np.array(res6).var()}')"
   ]
  },
  {
   "cell_type": "code",
   "execution_count": 60,
   "id": "93bbd0f8-67de-439b-83e7-7230d24bc507",
   "metadata": {},
   "outputs": [],
   "source": [
    "#By Central Limit Theorem\n",
    "\n",
    "def gen_ND_CLT(s, n):\n",
    "    rand_array = []\n",
    "    \n",
    "    for i in range(s):\n",
    "        rand_array.append(np.sqrt(12/n)*(np.sum(np.random.uniform(0, 1, n))-n/2))\n",
    "    \n",
    "    return rand_array"
   ]
  },
  {
   "cell_type": "code",
   "execution_count": 63,
   "id": "f5409c8a-28b6-46a9-8d09-b3db0929af3d",
   "metadata": {},
   "outputs": [
    {
     "data": {
      "text/plain": [
       "[-0.26512728744164266,\n",
       " -0.42648856208819824,\n",
       " -0.008929304330911138,\n",
       " -0.8073750994936354,\n",
       " 1.2821277986787103,\n",
       " -0.36485124853041523,\n",
       " 0.14613714933888514,\n",
       " -0.779398433526456,\n",
       " -0.14353303039184548,\n",
       " -0.4839492368238783]"
      ]
     },
     "execution_count": 63,
     "metadata": {},
     "output_type": "execute_result"
    }
   ],
   "source": [
    "res7 = gen_ND_CLT(100000, 10)\n",
    "res7[:10]"
   ]
  },
  {
   "cell_type": "code",
   "execution_count": 65,
   "id": "d70928ef-ee77-404c-99f0-73b0b4e2cfb0",
   "metadata": {},
   "outputs": [
    {
     "data": {
      "image/png": "[encoded data removed]",
      "text/plain": [
       "<Figure size 432x288 with 1 Axes>"
      ]
     },
     "metadata": {},
     "output_type": "display_data"
    }
   ],
   "source": [
    "plt.hist(res7, bins=20)\n",
    "plt.show()"
   ]
  },
  {
   "cell_type": "code",
   "execution_count": 66,
   "id": "03fcd7ee-489e-47a3-ad2c-009494452fc5",
   "metadata": {},
   "outputs": [
    {
     "name": "stdout",
     "output_type": "stream",
     "text": [
      "E = 0.0016735981512426736\n",
      "D = 0.9956262792156192\n"
     ]
    }
   ],
   "source": [
    "print(f'E = {np.array(res7).mean()}\\nD = {np.array(res7).var()}')"
   ]
  },
  {
   "cell_type": "code",
   "execution_count": null,
   "id": "5a21a581-b63d-47d4-8152-fab4fbae74ec",
   "metadata": {},
   "outputs": [],
   "source": []
  }
 ],
 "metadata": {
  "kernelspec": {
   "display_name": "Python 3",
   "language": "python",
   "name": "python3"
  },
  "language_info": {
   "codemirror_mode": {
    "name": "ipython",
    "version": 3
   },
   "file_extension": ".py",
   "mimetype": "text/x-python",
   "name": "python",
   "nbconvert_exporter": "python",
   "pygments_lexer": "ipython3",
   "version": "3.8.8"
  }
 },
 "nbformat": 4,
 "nbformat_minor": 5
}
